{
  "nbformat": 4,
  "nbformat_minor": 0,
  "metadata": {
    "colab": {
      "name": "course_project_chat_bot_final.ipynb",
      "provenance": [],
      "collapsed_sections": []
    },
    "kernelspec": {
      "name": "python3",
      "display_name": "Python 3"
    },
    "language_info": {
      "name": "python"
    }
  },
  "cells": [
    {
      "cell_type": "code",
      "execution_count": 1,
      "metadata": {
        "id": "_iAEHWzecnhS",
        "colab": {
          "base_uri": "https://localhost:8080/"
        },
        "outputId": "2c5f5f1b-019a-465b-d720-786ca7a1d849"
      },
      "outputs": [
        {
          "output_type": "stream",
          "name": "stdout",
          "text": [
            "Looking in indexes: https://pypi.org/simple, https://us-python.pkg.dev/colab-wheels/public/simple/\n",
            "Requirement already satisfied: pyTelegramBotAPI in /usr/local/lib/python3.7/dist-packages (4.6.0)\n",
            "Requirement already satisfied: requests in /usr/local/lib/python3.7/dist-packages (from pyTelegramBotAPI) (2.23.0)\n",
            "Requirement already satisfied: idna<3,>=2.5 in /usr/local/lib/python3.7/dist-packages (from requests->pyTelegramBotAPI) (2.10)\n",
            "Requirement already satisfied: certifi>=2017.4.17 in /usr/local/lib/python3.7/dist-packages (from requests->pyTelegramBotAPI) (2022.6.15)\n",
            "Requirement already satisfied: urllib3!=1.25.0,!=1.25.1,<1.26,>=1.21.1 in /usr/local/lib/python3.7/dist-packages (from requests->pyTelegramBotAPI) (1.24.3)\n",
            "Requirement already satisfied: chardet<4,>=3.0.2 in /usr/local/lib/python3.7/dist-packages (from requests->pyTelegramBotAPI) (3.0.4)\n"
          ]
        }
      ],
      "source": [
        "!pip install pyTelegramBotAPI"
      ]
    },
    {
      "cell_type": "code",
      "source": [
        "!pip install transformers"
      ],
      "metadata": {
        "colab": {
          "base_uri": "https://localhost:8080/"
        },
        "id": "jYb6ElUJcp_1",
        "outputId": "ef55c8f7-39c1-4cc2-879b-05a2b9fcae40"
      },
      "execution_count": 2,
      "outputs": [
        {
          "output_type": "stream",
          "name": "stdout",
          "text": [
            "Looking in indexes: https://pypi.org/simple, https://us-python.pkg.dev/colab-wheels/public/simple/\n",
            "Requirement already satisfied: transformers in /usr/local/lib/python3.7/dist-packages (4.20.1)\n",
            "Requirement already satisfied: huggingface-hub<1.0,>=0.1.0 in /usr/local/lib/python3.7/dist-packages (from transformers) (0.8.1)\n",
            "Requirement already satisfied: regex!=2019.12.17 in /usr/local/lib/python3.7/dist-packages (from transformers) (2022.6.2)\n",
            "Requirement already satisfied: filelock in /usr/local/lib/python3.7/dist-packages (from transformers) (3.7.1)\n",
            "Requirement already satisfied: packaging>=20.0 in /usr/local/lib/python3.7/dist-packages (from transformers) (21.3)\n",
            "Requirement already satisfied: pyyaml>=5.1 in /usr/local/lib/python3.7/dist-packages (from transformers) (6.0)\n",
            "Requirement already satisfied: requests in /usr/local/lib/python3.7/dist-packages (from transformers) (2.23.0)\n",
            "Requirement already satisfied: tokenizers!=0.11.3,<0.13,>=0.11.1 in /usr/local/lib/python3.7/dist-packages (from transformers) (0.12.1)\n",
            "Requirement already satisfied: tqdm>=4.27 in /usr/local/lib/python3.7/dist-packages (from transformers) (4.64.0)\n",
            "Requirement already satisfied: numpy>=1.17 in /usr/local/lib/python3.7/dist-packages (from transformers) (1.21.6)\n",
            "Requirement already satisfied: importlib-metadata in /usr/local/lib/python3.7/dist-packages (from transformers) (4.12.0)\n",
            "Requirement already satisfied: typing-extensions>=3.7.4.3 in /usr/local/lib/python3.7/dist-packages (from huggingface-hub<1.0,>=0.1.0->transformers) (4.1.1)\n",
            "Requirement already satisfied: pyparsing!=3.0.5,>=2.0.2 in /usr/local/lib/python3.7/dist-packages (from packaging>=20.0->transformers) (3.0.9)\n",
            "Requirement already satisfied: zipp>=0.5 in /usr/local/lib/python3.7/dist-packages (from importlib-metadata->transformers) (3.8.1)\n",
            "Requirement already satisfied: urllib3!=1.25.0,!=1.25.1,<1.26,>=1.21.1 in /usr/local/lib/python3.7/dist-packages (from requests->transformers) (1.24.3)\n",
            "Requirement already satisfied: chardet<4,>=3.0.2 in /usr/local/lib/python3.7/dist-packages (from requests->transformers) (3.0.4)\n",
            "Requirement already satisfied: certifi>=2017.4.17 in /usr/local/lib/python3.7/dist-packages (from requests->transformers) (2022.6.15)\n",
            "Requirement already satisfied: idna<3,>=2.5 in /usr/local/lib/python3.7/dist-packages (from requests->transformers) (2.10)\n"
          ]
        }
      ]
    },
    {
      "cell_type": "code",
      "source": [
        "import pandas as pd\n",
        "import torch\n",
        "import random\n",
        "from transformers import GPT2TokenizerFast\n",
        "from transformers import GPT2LMHeadModel\n",
        "\n",
        "backbone = \"its5Q/rugpt3large_mailqa\"\n",
        "device = \"cpu\"\n",
        "model = GPT2LMHeadModel.from_pretrained(backbone).to(device)\n",
        "tokenizer = GPT2TokenizerFast.from_pretrained(backbone, use_fast=True)"
      ],
      "metadata": {
        "colab": {
          "base_uri": "https://localhost:8080/"
        },
        "id": "N3mLzaB2c1q2",
        "outputId": "4bb1388e-cf3f-4afd-8de8-5c05b5d278e5"
      },
      "execution_count": 3,
      "outputs": [
        {
          "output_type": "stream",
          "name": "stderr",
          "text": [
            "Special tokens have been added in the vocabulary, make sure the associated word embeddings are fine-tuned or trained.\n"
          ]
        }
      ]
    },
    {
      "cell_type": "code",
      "source": [
        "!pip install pyowm"
      ],
      "metadata": {
        "colab": {
          "base_uri": "https://localhost:8080/"
        },
        "id": "hHZxmwCz2cWP",
        "outputId": "0ff0f742-f8da-4607-a9a8-833065b818fd"
      },
      "execution_count": 4,
      "outputs": [
        {
          "output_type": "stream",
          "name": "stdout",
          "text": [
            "Looking in indexes: https://pypi.org/simple, https://us-python.pkg.dev/colab-wheels/public/simple/\n",
            "Requirement already satisfied: pyowm in /usr/local/lib/python3.7/dist-packages (3.3.0)\n",
            "Requirement already satisfied: requests[socks] in /usr/local/lib/python3.7/dist-packages (from pyowm) (2.23.0)\n",
            "Requirement already satisfied: geojson<3,>=2.3.0 in /usr/local/lib/python3.7/dist-packages (from pyowm) (2.5.0)\n",
            "Requirement already satisfied: PySocks<2,>=1.7.1 in /usr/local/lib/python3.7/dist-packages (from pyowm) (1.7.1)\n",
            "Requirement already satisfied: urllib3!=1.25.0,!=1.25.1,<1.26,>=1.21.1 in /usr/local/lib/python3.7/dist-packages (from requests[socks]->pyowm) (1.24.3)\n",
            "Requirement already satisfied: certifi>=2017.4.17 in /usr/local/lib/python3.7/dist-packages (from requests[socks]->pyowm) (2022.6.15)\n",
            "Requirement already satisfied: chardet<4,>=3.0.2 in /usr/local/lib/python3.7/dist-packages (from requests[socks]->pyowm) (3.0.4)\n",
            "Requirement already satisfied: idna<3,>=2.5 in /usr/local/lib/python3.7/dist-packages (from requests[socks]->pyowm) (2.10)\n"
          ]
        }
      ]
    },
    {
      "cell_type": "code",
      "source": [
        "!pip install wikipedia"
      ],
      "metadata": {
        "colab": {
          "base_uri": "https://localhost:8080/"
        },
        "id": "-RGVhcJOQwoe",
        "outputId": "10a7ca61-8b33-4246-ebf7-f248ae8f553d"
      },
      "execution_count": 5,
      "outputs": [
        {
          "output_type": "stream",
          "name": "stdout",
          "text": [
            "Looking in indexes: https://pypi.org/simple, https://us-python.pkg.dev/colab-wheels/public/simple/\n",
            "Requirement already satisfied: wikipedia in /usr/local/lib/python3.7/dist-packages (1.4.0)\n",
            "Requirement already satisfied: requests<3.0.0,>=2.0.0 in /usr/local/lib/python3.7/dist-packages (from wikipedia) (2.23.0)\n",
            "Requirement already satisfied: beautifulsoup4 in /usr/local/lib/python3.7/dist-packages (from wikipedia) (4.6.3)\n",
            "Requirement already satisfied: urllib3!=1.25.0,!=1.25.1,<1.26,>=1.21.1 in /usr/local/lib/python3.7/dist-packages (from requests<3.0.0,>=2.0.0->wikipedia) (1.24.3)\n",
            "Requirement already satisfied: idna<3,>=2.5 in /usr/local/lib/python3.7/dist-packages (from requests<3.0.0,>=2.0.0->wikipedia) (2.10)\n",
            "Requirement already satisfied: certifi>=2017.4.17 in /usr/local/lib/python3.7/dist-packages (from requests<3.0.0,>=2.0.0->wikipedia) (2022.6.15)\n",
            "Requirement already satisfied: chardet<4,>=3.0.2 in /usr/local/lib/python3.7/dist-packages (from requests<3.0.0,>=2.0.0->wikipedia) (3.0.4)\n"
          ]
        }
      ]
    },
    {
      "cell_type": "code",
      "source": [
        "import pyowm\n",
        "from pyowm import OWM\n",
        "from pyowm.utils.config import get_default_config\n",
        "import os\n",
        "import time"
      ],
      "metadata": {
        "id": "PYWo2zFt2UYf"
      },
      "execution_count": 6,
      "outputs": []
    },
    {
      "cell_type": "code",
      "source": [
        "def ans(question, description=''):\n",
        "    seed = random.randint(1, 10000000)\n",
        "    print(f'Seed: {seed}')\n",
        "    torch.manual_seed(seed)\n",
        "    torch.cuda.manual_seed_all(seed)\n",
        "    inp = tokenizer.encode(f'Ответ:',return_tensors=\"pt\").to(device)\n",
        "    print(f'question: {question}')\n",
        "    gen = model.generate(inp, do_sample=True, top_p=0.9, temperature=0.76, max_new_tokens=50, repetition_penalty=1.2) #, stop_token=\"<eos>\")\n",
        "    \n",
        "    gen = tokenizer.decode(gen[0])\n",
        "    return gen[:gen.index('<eos>') if '<eos>' in gen else len(gen)]"
      ],
      "metadata": {
        "id": "AZjXO3PbdcJV"
      },
      "execution_count": 7,
      "outputs": []
    },
    {
      "cell_type": "code",
      "source": [
        "def weather(city: str):\n",
        "    owm = OWM('b59f0ea60a9a0709c51c7ed2acf1e36d')\n",
        "    mgr = owm.weather_manager()\n",
        "    observation = mgr.weather_at_place(city)\n",
        "    weather = observation.weather_at_place(city)\n",
        "    temperature = weather.temperature('celsius')"
      ],
      "metadata": {
        "id": "t-Rtl180b80e"
      },
      "execution_count": 8,
      "outputs": []
    },
    {
      "cell_type": "code",
      "source": [
        "print(ans(\"зачем человеку кот?\"))"
      ],
      "metadata": {
        "colab": {
          "base_uri": "https://localhost:8080/"
        },
        "id": "Ghzez9gGdscH",
        "outputId": "b7f80b11-80ee-46b0-8eb4-8fe2700c95a7"
      },
      "execution_count": 9,
      "outputs": [
        {
          "output_type": "stream",
          "name": "stderr",
          "text": [
            "The attention mask and the pad token id were not set. As a consequence, you may observe unexpected behavior. Please pass your input's `attention_mask` to obtain reliable results.\n",
            "Setting `pad_token_id` to `eos_token_id`:50256 for open-end generation.\n"
          ]
        },
        {
          "output_type": "stream",
          "name": "stdout",
          "text": [
            "Seed: 6035767\n",
            "question: зачем человеку кот?\n",
            "Ответ: О чём ты? о чем речь? \n",
            "О том, что кто-то не любит? \n",
            "\n"
          ]
        }
      ]
    },
    {
      "cell_type": "code",
      "source": [
        "!pip install pyTelegramBotAPI"
      ],
      "metadata": {
        "colab": {
          "base_uri": "https://localhost:8080/"
        },
        "id": "FFYD6teKgwFF",
        "outputId": "c3e6a21a-92f9-485f-f318-692808c23b8c"
      },
      "execution_count": 10,
      "outputs": [
        {
          "output_type": "stream",
          "name": "stdout",
          "text": [
            "Looking in indexes: https://pypi.org/simple, https://us-python.pkg.dev/colab-wheels/public/simple/\n",
            "Requirement already satisfied: pyTelegramBotAPI in /usr/local/lib/python3.7/dist-packages (4.6.0)\n",
            "Requirement already satisfied: requests in /usr/local/lib/python3.7/dist-packages (from pyTelegramBotAPI) (2.23.0)\n",
            "Requirement already satisfied: certifi>=2017.4.17 in /usr/local/lib/python3.7/dist-packages (from requests->pyTelegramBotAPI) (2022.6.15)\n",
            "Requirement already satisfied: idna<3,>=2.5 in /usr/local/lib/python3.7/dist-packages (from requests->pyTelegramBotAPI) (2.10)\n",
            "Requirement already satisfied: chardet<4,>=3.0.2 in /usr/local/lib/python3.7/dist-packages (from requests->pyTelegramBotAPI) (3.0.4)\n",
            "Requirement already satisfied: urllib3!=1.25.0,!=1.25.1,<1.26,>=1.21.1 in /usr/local/lib/python3.7/dist-packages (from requests->pyTelegramBotAPI) (1.24.3)\n"
          ]
        }
      ]
    },
    {
      "cell_type": "code",
      "source": [
        "from telebot.util import MAX_MESSAGE_LENGTH\n",
        "from logging import StreamHandler\n",
        "from transformers.utils.dummy_flax_objects import FlaxAutoModelForSequenceClassification\n",
        "from time import sleep\n",
        "import telebot, wikipedia, re\n",
        "import random\n",
        "from telebot import types\n",
        "\n",
        "from pyowm import OWM\n",
        "\n",
        "def weather(city: str):\n",
        "    owm = OWM('b59f0ea60a9a0709c51c7ed2acf1e36d')\n",
        "    mgr = owm.weather_manager()\n",
        "    observation = mgr.weather_at_place(city)\n",
        "    weather = observation.weather\n",
        "    temperature = weather.temperature('celsius')\n",
        "    return temperature\n",
        "\n",
        "def get_weather(message):\n",
        "    city = message.text\n",
        "    w = weather(city)\n",
        "    t = list(w.values())    \n",
        "    bot.send_message(message.from_user.id, f'В городе {city} сейчас {t[0]} градусов по Цельсию \\n\\nДля продолжение введите /start (можно кликнуть прямо здесь)')\n",
        "\n",
        "wikipedia.set_lang(\"ru\")\n",
        "\n",
        "def getwiki(message):\n",
        "    try:\n",
        "        s = message.text\n",
        "        ny = wikipedia.page(s)\n",
        "        wikitext=ny.content[:1000]\n",
        "        wikimas=wikitext.split('.')\n",
        "        wikimas = wikimas[:-1]\n",
        "        wikitext2 = ''\n",
        "        for x in wikimas:\n",
        "            if not('==' in x):\n",
        "                if(len((x.strip()))>3):\n",
        "                   wikitext2=wikitext2+x+'.'\n",
        "            else:\n",
        "                break\n",
        "        wikitext2=re.sub('\\([^()]*\\)', '', wikitext2)\n",
        "        wikitext2=re.sub('\\([^()]*\\)', '', wikitext2)\n",
        "        wikitext2=re.sub('\\{[^\\{\\}]*\\}', '', wikitext2)\n",
        "        bot.send_message(message.chat.id, f'{wikitext2}\\n\\nДля продолжение введите /start (можно кликнуть прямо здесь)')\n",
        "\n",
        "    except Exception as e:\n",
        "        return 'В энциклопедии нет информации об этом'\n",
        "\n",
        "BOT_TOKEN = '5404217160:AAHxz1w7HWAjUJ8kpKAgDC_9dr9XtGNgjCc'\n",
        "bot = telebot.TeleBot(BOT_TOKEN)\n",
        "\n",
        "@bot.message_handler(commands=[\"start\"])\n",
        "def start(m, res=False):\n",
        "        markup=types.ReplyKeyboardMarkup(resize_keyboard=True, one_time_keyboard=False)\n",
        "        item1=types.KeyboardButton(\"Чат\")\n",
        "        item2=types.KeyboardButton(\"Погода\")\n",
        "        item3=types.KeyboardButton(\"Википедия\")\n",
        "        markup.add(item1)\n",
        "        markup.add(item2)\n",
        "        markup.add(item3)\n",
        "        msg = bot.send_message(m.chat.id, 'Нажми: \\n\\nЧAT — чтобы поболтать со мной \\n\\nПОГОДА — чтобы узнать погоду в любом городе \\n\\nВИКИПЕДИЯ — чтобы узнать что-то новое \\n\\n\\ после тесирование каждой функции введите /start а затем соответствующую кнопку меню',  reply_markup=markup)\n",
        "        bot.register_next_step_handler(msg, switch)\n",
        "\n",
        "def switch(message):\n",
        "   if (message.text == 'Погода'):\n",
        "      weather_start(message)\n",
        "   elif (message.text == 'Википедия'):\n",
        "      wiki_start(message)\n",
        "   else:\n",
        "     chat_start(message)\n",
        "\n",
        "def chat_start(message):\n",
        "  if message.text.lower() == \"чат\":\n",
        "     bot.send_sticker(message.chat.id, 'CAACAgIAAxkBAAEFUgFi18F3VfmxYKI_7w3n0zn8CsMYFQAC8RYAAqQ6QEmsJ_tDoRaAKikE')\n",
        "     bot.send_message(message.from_user.id, \"Поболтаем? \\n\\nЯ ещё молодой бот и бывает что мне нужно время чтобы ответить, пожалуйста подождите если я иногда задумаюсь. После завершение разговора введите команду  /start \\n\\n Спрашивайте.\")\n",
        "\n",
        "def weather_start(message):\n",
        "     bot.send_message(message.from_user.id, 'Введите название города')\n",
        "     bot.register_next_step_handler(message, get_weather)\n",
        " \n",
        "def wiki_start(message):\n",
        "     bot.send_message(message.from_user.id, 'Отправьте мне любое слово, и я найду его значение на Wikipedia.')\n",
        "     bot.register_next_step_handler(message, getwiki)\n",
        "\n",
        "@bot.message_handler(content_types=['text'])\n",
        "def chat(message):\n",
        "  if message.text.lower() == \"чат\":\n",
        "     bot.send_sticker(message.chat.id, 'CAACAgIAAxkBAAEFUgFi18F3VfmxYKI_7w3n0zn8CsMYFQAC8RYAAqQ6QEmsJ_tDoRaAKikE')\n",
        "     bot.send_message(message.from_user.id, \"Поболтаем? \\n\\nЯ ещё молодой бот и бывает что мне нужно время чтобы ответить, пожалуйста подождите если я иногда задумаюсь. После завершение разговора введите команду /start \\n\\n Спрашивайте.\")\n",
        "  elif message.text.lower() == \"привет!\":\n",
        "     bot.send_sticker(message.chat.id, 'CAACAgIAAxkBAAEFUl5i2BLflcaEcGPHoTh4mP6aYQxSDQAC_RMAAvcjgUoI63bxJR2BXSkE')\n",
        "  elif message.text.lower() == \"привет\":\n",
        "     bot.send_sticker(message.chat.id, 'CAACAgIAAxkBAAEFUl5i2BLflcaEcGPHoTh4mP6aYQxSDQAC_RMAAvcjgUoI63bxJR2BXSkE')\n",
        "  elif message.text.lower() == \"пока!\":\n",
        "     bot.send_message(message.from_user.id, \"До свидания!\")\n",
        "     bot.send_sticker(message.chat.id, 'CAACAgIAAxkBAAEFUgNi18HCpyD6gbuQGV9hZ6Ztrz7vEgACNhUAArByQEnnJNKG7RdNXSkE')\n",
        "  elif message.text.lower() == 'пока':\n",
        "     bot.send_message(message.from_user.id, \"До свидания!\")\n",
        "     bot.send_sticker(message.chat.id, 'CAACAgIAAxkBAAEFUgNi18HCpyD6gbuQGV9hZ6Ztrz7vEgACNhUAArByQEnnJNKG7RdNXSkE') \n",
        "  else:      \n",
        "     text = ' '.join(message.text.split())\n",
        "     print(text)\n",
        "\n",
        "     reply = ans(text, \"\")\n",
        "\n",
        "     bot.send_message(message.chat.id, reply)\n",
        "     #logger.info(f'{reply}')\n",
        "\n",
        "bot.polling(none_stop=True)"
      ],
      "metadata": {
        "id": "NFitRledg73G",
        "colab": {
          "base_uri": "https://localhost:8080/"
        },
        "outputId": "d96f3f8b-8d59-4510-ca03-c26885753ee3"
      },
      "execution_count": 11,
      "outputs": [
        {
          "output_type": "stream",
          "name": "stderr",
          "text": [
            "The attention mask and the pad token id were not set. As a consequence, you may observe unexpected behavior. Please pass your input's `attention_mask` to obtain reliable results.\n",
            "Setting `pad_token_id` to `eos_token_id`:50256 for open-end generation.\n"
          ]
        },
        {
          "output_type": "stream",
          "name": "stdout",
          "text": [
            "ты давно здесь находишься?\n",
            "Seed: 9313828\n",
            "question: ты давно здесь находишься?\n"
          ]
        }
      ]
    }
  ]
}