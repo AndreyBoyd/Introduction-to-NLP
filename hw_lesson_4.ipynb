{
 "cells": [
  {
   "cell_type": "markdown",
   "metadata": {
    "id": "BFe4TBFLf6Mm"
   },
   "source": [
    "### Урок 4. Тематическое моделирование. EM-алгоритм\n",
    "\n",
    "#### Домашнее задание\n",
    "\n",
    "1. объединить в одну выборку (это только для твитов), для роспотребнадзора сформировать датасет из вопросов\n",
    "2. провести исследование и выявить тематики о которых говорят в твитах (для твитов), а для роспотребнадзора так же выявить тематики о которых люди пишут проанализировать\n",
    "3. сделать визуализацию кластеров тематик\n",
    "4. проинтерпритировать получившиеся тематики"
   ]
  },
  {
   "cell_type": "code",
   "execution_count": 1,
   "metadata": {},
   "outputs": [],
   "source": [
    "# !pip install corus"
   ]
  },
  {
   "cell_type": "code",
   "execution_count": 2,
   "metadata": {},
   "outputs": [],
   "source": [
    "# !pip install pyLDAvis"
   ]
  },
  {
   "cell_type": "code",
   "execution_count": 3,
   "metadata": {},
   "outputs": [
    {
     "name": "stderr",
     "output_type": "stream",
     "text": [
      "C:\\Users\\AVB\\anaconda3\\lib\\site-packages\\matplotlib\\__init__.py:169: DeprecationWarning: distutils Version classes are deprecated. Use packaging.version instead.\n",
      "  if LooseVersion(module.__version__) < minver:\n",
      "C:\\Users\\AVB\\anaconda3\\lib\\site-packages\\setuptools\\_distutils\\version.py:351: DeprecationWarning: distutils Version classes are deprecated. Use packaging.version instead.\n",
      "  other = LooseVersion(other)\n",
      "C:\\Users\\AVB\\anaconda3\\lib\\site-packages\\matplotlib\\__init__.py:169: DeprecationWarning: distutils Version classes are deprecated. Use packaging.version instead.\n",
      "  if LooseVersion(module.__version__) < minver:\n",
      "C:\\Users\\AVB\\anaconda3\\lib\\site-packages\\setuptools\\_distutils\\version.py:351: DeprecationWarning: distutils Version classes are deprecated. Use packaging.version instead.\n",
      "  other = LooseVersion(other)\n",
      "C:\\Users\\AVB\\anaconda3\\lib\\site-packages\\matplotlib\\__init__.py:169: DeprecationWarning: distutils Version classes are deprecated. Use packaging.version instead.\n",
      "  if LooseVersion(module.__version__) < minver:\n",
      "C:\\Users\\AVB\\anaconda3\\lib\\site-packages\\setuptools\\_distutils\\version.py:351: DeprecationWarning: distutils Version classes are deprecated. Use packaging.version instead.\n",
      "  other = LooseVersion(other)\n",
      "C:\\Users\\AVB\\anaconda3\\lib\\site-packages\\matplotlib\\__init__.py:169: DeprecationWarning: distutils Version classes are deprecated. Use packaging.version instead.\n",
      "  if LooseVersion(module.__version__) < minver:\n",
      "C:\\Users\\AVB\\anaconda3\\lib\\site-packages\\setuptools\\_distutils\\version.py:351: DeprecationWarning: distutils Version classes are deprecated. Use packaging.version instead.\n",
      "  other = LooseVersion(other)\n",
      "C:\\Users\\AVB\\anaconda3\\lib\\site-packages\\matplotlib\\__init__.py:169: DeprecationWarning: distutils Version classes are deprecated. Use packaging.version instead.\n",
      "  if LooseVersion(module.__version__) < minver:\n",
      "C:\\Users\\AVB\\anaconda3\\lib\\site-packages\\setuptools\\_distutils\\version.py:351: DeprecationWarning: distutils Version classes are deprecated. Use packaging.version instead.\n",
      "  other = LooseVersion(other)\n"
     ]
    }
   ],
   "source": [
    "import pandas as pd\n",
    "import numpy as np\n",
    "import re\n",
    "from tqdm import tqdm\n",
    "from tqdm.notebook import tqdm\n",
    "from tqdm import notebook\n",
    "\n",
    "import string\n",
    "from pymorphy2 import MorphAnalyzer\n",
    "from stop_words import get_stop_words\n",
    "from nltk.corpus import stopwords\n",
    "from multiprocessing import Pool\n",
    "from pymystem3 import Mystem\n",
    "import pymorphy2\n",
    "\n",
    "from gensim.models import *\n",
    "from gensim import corpora\n",
    "\n",
    "import pyLDAvis\n",
    "import pyLDAvis.gensim_models as gensimvis\n",
    "\n",
    "import matplotlib.pyplot as plt\n",
    "%matplotlib inline"
   ]
  },
  {
   "cell_type": "markdown",
   "metadata": {},
   "source": [
    "#### Объеденяем 2 датасета в 1 выборку и делаем предобработку текста как для дз к 3 уроку"
   ]
  },
  {
   "cell_type": "code",
   "execution_count": 4,
   "metadata": {},
   "outputs": [
    {
     "data": {
      "text/html": [
       "<div>\n",
       "<style scoped>\n",
       "    .dataframe tbody tr th:only-of-type {\n",
       "        vertical-align: middle;\n",
       "    }\n",
       "\n",
       "    .dataframe tbody tr th {\n",
       "        vertical-align: top;\n",
       "    }\n",
       "\n",
       "    .dataframe thead th {\n",
       "        text-align: right;\n",
       "    }\n",
       "</style>\n",
       "<table border=\"1\" class=\"dataframe\">\n",
       "  <thead>\n",
       "    <tr style=\"text-align: right;\">\n",
       "      <th></th>\n",
       "      <th>text</th>\n",
       "    </tr>\n",
       "  </thead>\n",
       "  <tbody>\n",
       "    <tr>\n",
       "      <th>0</th>\n",
       "      <td>@first_timee хоть я и школота, но поверь, у на...</td>\n",
       "    </tr>\n",
       "    <tr>\n",
       "      <th>1</th>\n",
       "      <td>Да, все-таки он немного похож на него. Но мой ...</td>\n",
       "    </tr>\n",
       "    <tr>\n",
       "      <th>2</th>\n",
       "      <td>RT @KatiaCheh: Ну ты идиотка) я испугалась за ...</td>\n",
       "    </tr>\n",
       "    <tr>\n",
       "      <th>3</th>\n",
       "      <td>RT @digger2912: \"Кто то в углу сидит и погибае...</td>\n",
       "    </tr>\n",
       "    <tr>\n",
       "      <th>4</th>\n",
       "      <td>@irina_dyshkant Вот что значит страшилка :D\\nН...</td>\n",
       "    </tr>\n",
       "    <tr>\n",
       "      <th>...</th>\n",
       "      <td>...</td>\n",
       "    </tr>\n",
       "    <tr>\n",
       "      <th>111918</th>\n",
       "      <td>Но не каждый хочет что то исправлять:( http://...</td>\n",
       "    </tr>\n",
       "    <tr>\n",
       "      <th>111919</th>\n",
       "      <td>скучаю так :-( только @taaannyaaa вправляет мо...</td>\n",
       "    </tr>\n",
       "    <tr>\n",
       "      <th>111920</th>\n",
       "      <td>Вот и в школу, в говно это идти уже надо(</td>\n",
       "    </tr>\n",
       "    <tr>\n",
       "      <th>111921</th>\n",
       "      <td>RT @_Them__: @LisaBeroud Тауриэль, не грусти :...</td>\n",
       "    </tr>\n",
       "    <tr>\n",
       "      <th>111922</th>\n",
       "      <td>Такси везет меня на работу. Раздумываю приплат...</td>\n",
       "    </tr>\n",
       "  </tbody>\n",
       "</table>\n",
       "<p>226834 rows × 1 columns</p>\n",
       "</div>"
      ],
      "text/plain": [
       "                                                     text\n",
       "0       @first_timee хоть я и школота, но поверь, у на...\n",
       "1       Да, все-таки он немного похож на него. Но мой ...\n",
       "2       RT @KatiaCheh: Ну ты идиотка) я испугалась за ...\n",
       "3       RT @digger2912: \"Кто то в углу сидит и погибае...\n",
       "4       @irina_dyshkant Вот что значит страшилка :D\\nН...\n",
       "...                                                   ...\n",
       "111918  Но не каждый хочет что то исправлять:( http://...\n",
       "111919  скучаю так :-( только @taaannyaaa вправляет мо...\n",
       "111920          Вот и в школу, в говно это идти уже надо(\n",
       "111921  RT @_Them__: @LisaBeroud Тауриэль, не грусти :...\n",
       "111922  Такси везет меня на работу. Раздумываю приплат...\n",
       "\n",
       "[226834 rows x 1 columns]"
      ]
     },
     "execution_count": 4,
     "metadata": {},
     "output_type": "execute_result"
    }
   ],
   "source": [
    "# считываем данные и заполняем общий датасет\n",
    "positive = pd.read_csv('positive.csv', sep=';', usecols=[3], names=['text'])\n",
    "negative = pd.read_csv('negative.csv', sep=';', usecols=[3], names=['text'])\n",
    "data = pd.concat([positive, negative])\n",
    "data"
   ]
  },
  {
   "cell_type": "markdown",
   "metadata": {},
   "source": [
    "#### Предобработка текста"
   ]
  },
  {
   "cell_type": "code",
   "execution_count": 5,
   "metadata": {},
   "outputs": [
    {
     "name": "stderr",
     "output_type": "stream",
     "text": [
      "<>:4: DeprecationWarning: invalid escape sequence \\w\n",
      "<>:4: DeprecationWarning: invalid escape sequence \\w\n",
      "C:\\Users\\AVB\\AppData\\Local\\Temp/ipykernel_17624/751865316.py:4: DeprecationWarning: invalid escape sequence \\w\n",
      "  data.text = np.vectorize(user_delete_re_sub)('@[\\w]*', '', data.text)\n"
     ]
    },
    {
     "data": {
      "text/html": [
       "<div>\n",
       "<style scoped>\n",
       "    .dataframe tbody tr th:only-of-type {\n",
       "        vertical-align: middle;\n",
       "    }\n",
       "\n",
       "    .dataframe tbody tr th {\n",
       "        vertical-align: top;\n",
       "    }\n",
       "\n",
       "    .dataframe thead th {\n",
       "        text-align: right;\n",
       "    }\n",
       "</style>\n",
       "<table border=\"1\" class=\"dataframe\">\n",
       "  <thead>\n",
       "    <tr style=\"text-align: right;\">\n",
       "      <th></th>\n",
       "      <th>text</th>\n",
       "    </tr>\n",
       "  </thead>\n",
       "  <tbody>\n",
       "    <tr>\n",
       "      <th>0</th>\n",
       "      <td>хоть я и школота, но поверь, у нас то же само...</td>\n",
       "    </tr>\n",
       "    <tr>\n",
       "      <th>1</th>\n",
       "      <td>Да, е-таки он немного похож на него. Но мой ма...</td>\n",
       "    </tr>\n",
       "    <tr>\n",
       "      <th>2</th>\n",
       "      <td>RT : Ну ты идиотка) я испугалась за тебя!!!</td>\n",
       "    </tr>\n",
       "    <tr>\n",
       "      <th>3</th>\n",
       "      <td>RT : \"Кто то в углу сидит и погибает от голода...</td>\n",
       "    </tr>\n",
       "    <tr>\n",
       "      <th>4</th>\n",
       "      <td>Вот что значит страшилка :D\\nНо блин,посмотре...</td>\n",
       "    </tr>\n",
       "  </tbody>\n",
       "</table>\n",
       "</div>"
      ],
      "text/plain": [
       "                                                text\n",
       "0   хоть я и школота, но поверь, у нас то же само...\n",
       "1  Да, е-таки он немного похож на него. Но мой ма...\n",
       "2        RT : Ну ты идиотка) я испугалась за тебя!!!\n",
       "3  RT : \"Кто то в углу сидит и погибает от голода...\n",
       "4   Вот что значит страшилка :D\\nНо блин,посмотре..."
      ]
     },
     "execution_count": 5,
     "metadata": {},
     "output_type": "execute_result"
    }
   ],
   "source": [
    "def user_delete_re_sub (pattern, repl, string):\n",
    "    return re.sub(pattern, repl, string)\n",
    "\n",
    "data.text = np.vectorize(user_delete_re_sub)('@[\\w]*', '', data.text)\n",
    "data.text = np.vectorize(user_delete_re_sub)('http*', '', data.text)\n",
    "data.text = np.vectorize(user_delete_re_sub)('это*', '', data.text)\n",
    "data.text = np.vectorize(user_delete_re_sub)('всё*', '', data.text)\n",
    "data.text = np.vectorize(user_delete_re_sub)('ещё*', '', data.text)\n",
    "data.text = np.vectorize(user_delete_re_sub)('знать*', '', data.text)\n",
    "data.text = np.vectorize(user_delete_re_sub)('посмотреть*', '', data.text)\n",
    "data.text = np.vectorize(user_delete_re_sub)('сой*', '', data.text)\n",
    "\n",
    "data.head(5)"
   ]
  },
  {
   "cell_type": "code",
   "execution_count": 6,
   "metadata": {},
   "outputs": [
    {
     "name": "stderr",
     "output_type": "stream",
     "text": [
      "<>:2: DeprecationWarning: invalid escape sequence \\w\n",
      "<>:2: DeprecationWarning: invalid escape sequence \\w\n",
      "C:\\Users\\AVB\\AppData\\Local\\Temp/ipykernel_17624/4135999088.py:2: DeprecationWarning: invalid escape sequence \\w\n",
      "  words_regex = re.compile('\\w+')\n",
      "C:\\Users\\AVB\\anaconda3\\lib\\site-packages\\pymorphy2\\units\\base.py:70: DeprecationWarning: inspect.getargspec() is deprecated since Python 3.0, use inspect.signature() or inspect.getfullargspec()\n",
      "  args, varargs, kw, default = inspect.getargspec(cls.__init__)\n",
      "C:\\Users\\AVB\\anaconda3\\lib\\site-packages\\pymorphy2\\units\\base.py:70: DeprecationWarning: inspect.getargspec() is deprecated since Python 3.0, use inspect.signature() or inspect.getfullargspec()\n",
      "  args, varargs, kw, default = inspect.getargspec(cls.__init__)\n",
      "C:\\Users\\AVB\\anaconda3\\lib\\site-packages\\pymorphy2\\units\\base.py:70: DeprecationWarning: inspect.getargspec() is deprecated since Python 3.0, use inspect.signature() or inspect.getfullargspec()\n",
      "  args, varargs, kw, default = inspect.getargspec(cls.__init__)\n",
      "C:\\Users\\AVB\\anaconda3\\lib\\site-packages\\pymorphy2\\units\\base.py:70: DeprecationWarning: inspect.getargspec() is deprecated since Python 3.0, use inspect.signature() or inspect.getfullargspec()\n",
      "  args, varargs, kw, default = inspect.getargspec(cls.__init__)\n",
      "C:\\Users\\AVB\\anaconda3\\lib\\site-packages\\pymorphy2\\units\\base.py:70: DeprecationWarning: inspect.getargspec() is deprecated since Python 3.0, use inspect.signature() or inspect.getfullargspec()\n",
      "  args, varargs, kw, default = inspect.getargspec(cls.__init__)\n",
      "C:\\Users\\AVB\\anaconda3\\lib\\site-packages\\pymorphy2\\units\\base.py:70: DeprecationWarning: inspect.getargspec() is deprecated since Python 3.0, use inspect.signature() or inspect.getfullargspec()\n",
      "  args, varargs, kw, default = inspect.getargspec(cls.__init__)\n",
      "C:\\Users\\AVB\\anaconda3\\lib\\site-packages\\pymorphy2\\units\\base.py:70: DeprecationWarning: inspect.getargspec() is deprecated since Python 3.0, use inspect.signature() or inspect.getfullargspec()\n",
      "  args, varargs, kw, default = inspect.getargspec(cls.__init__)\n",
      "C:\\Users\\AVB\\anaconda3\\lib\\site-packages\\pymorphy2\\units\\base.py:70: DeprecationWarning: inspect.getargspec() is deprecated since Python 3.0, use inspect.signature() or inspect.getfullargspec()\n",
      "  args, varargs, kw, default = inspect.getargspec(cls.__init__)\n",
      "C:\\Users\\AVB\\anaconda3\\lib\\site-packages\\pymorphy2\\units\\base.py:70: DeprecationWarning: inspect.getargspec() is deprecated since Python 3.0, use inspect.signature() or inspect.getfullargspec()\n",
      "  args, varargs, kw, default = inspect.getargspec(cls.__init__)\n",
      "C:\\Users\\AVB\\anaconda3\\lib\\site-packages\\pymorphy2\\units\\base.py:70: DeprecationWarning: inspect.getargspec() is deprecated since Python 3.0, use inspect.signature() or inspect.getfullargspec()\n",
      "  args, varargs, kw, default = inspect.getargspec(cls.__init__)\n",
      "C:\\Users\\AVB\\anaconda3\\lib\\site-packages\\pymorphy2\\units\\base.py:70: DeprecationWarning: inspect.getargspec() is deprecated since Python 3.0, use inspect.signature() or inspect.getfullargspec()\n",
      "  args, varargs, kw, default = inspect.getargspec(cls.__init__)\n",
      "C:\\Users\\AVB\\anaconda3\\lib\\site-packages\\pymorphy2\\units\\base.py:70: DeprecationWarning: inspect.getargspec() is deprecated since Python 3.0, use inspect.signature() or inspect.getfullargspec()\n",
      "  args, varargs, kw, default = inspect.getargspec(cls.__init__)\n"
     ]
    }
   ],
   "source": [
    "morph = pymorphy2.MorphAnalyzer()\n",
    "words_regex = re.compile('\\w+')\n",
    "\n",
    "def find_words(text, regex = words_regex):\n",
    "    tokens =  regex.findall(text.lower())\n",
    "    return [w for w in tokens if w.isalpha() and len(w) >= 3]\n",
    "\n",
    "\n",
    "stopwords_list = stopwords.words('russian')\n",
    "\n",
    "def lemmatize(words, lemmer = morph, stopwords = stopwords_list):\n",
    "    lemmas = [lemmer.parse(w)[0].normal_form for w in words]\n",
    "    return [w for w in lemmas if not w in stopwords \n",
    "            and w.isalpha()]\n",
    "\n",
    "def preprocess(text):\n",
    "    return (lemmatize(find_words(text)))"
   ]
  },
  {
   "cell_type": "code",
   "execution_count": 7,
   "metadata": {},
   "outputs": [
    {
     "data": {
      "text/plain": [
       "' нет...предупреждает, что их власть надолго...но думаю опять переоценил он свои возможности..алкоголь не даст дожить до 70))'"
      ]
     },
     "execution_count": 7,
     "metadata": {},
     "output_type": "execute_result"
    }
   ],
   "source": [
    "data.text.iloc[777]"
   ]
  },
  {
   "cell_type": "code",
   "execution_count": 8,
   "metadata": {},
   "outputs": [
    {
     "name": "stdout",
     "output_type": "stream",
     "text": [
      "['предупреждать', 'власть', 'надолго', 'думать', 'переоценить', 'свой', 'возможность', 'алкоголь', 'дать', 'дожить']\n"
     ]
    }
   ],
   "source": [
    "print(preprocess(data.text.iloc[777]))"
   ]
  },
  {
   "cell_type": "code",
   "execution_count": 9,
   "metadata": {},
   "outputs": [],
   "source": [
    "# оставляем случайные 10000 текстов, чтобы ускорить вычисления\n",
    "data = data.sample(10000)"
   ]
  },
  {
   "cell_type": "code",
   "execution_count": 10,
   "metadata": {},
   "outputs": [
    {
     "data": {
      "application/vnd.jupyter.widget-view+json": {
       "model_id": "747005c7ebef4715a9e7eccf9bf2663d",
       "version_major": 2,
       "version_minor": 0
      },
      "text/plain": [
       "  0%|          | 0/10000 [00:00<?, ?it/s]"
      ]
     },
     "metadata": {},
     "output_type": "display_data"
    }
   ],
   "source": [
    "preprocessed_text = list(tqdm(map(preprocess, data['text']), total=len(data)))"
   ]
  },
  {
   "cell_type": "code",
   "execution_count": 11,
   "metadata": {},
   "outputs": [
    {
     "data": {
      "text/html": [
       "<div>\n",
       "<style scoped>\n",
       "    .dataframe tbody tr th:only-of-type {\n",
       "        vertical-align: middle;\n",
       "    }\n",
       "\n",
       "    .dataframe tbody tr th {\n",
       "        vertical-align: top;\n",
       "    }\n",
       "\n",
       "    .dataframe thead th {\n",
       "        text-align: right;\n",
       "    }\n",
       "</style>\n",
       "<table border=\"1\" class=\"dataframe\">\n",
       "  <thead>\n",
       "    <tr style=\"text-align: right;\">\n",
       "      <th></th>\n",
       "      <th>text</th>\n",
       "    </tr>\n",
       "  </thead>\n",
       "  <tbody>\n",
       "    <tr>\n",
       "      <th>62880</th>\n",
       "      <td>[набить, тат, мама, увидеть, ибо, жить, хотеть]</td>\n",
       "    </tr>\n",
       "    <tr>\n",
       "      <th>17358</th>\n",
       "      <td>[старый, новый, партия, lacrachlct]</td>\n",
       "    </tr>\n",
       "    <tr>\n",
       "      <th>51581</th>\n",
       "      <td>[хотеть, отдых, устать, нереально]</td>\n",
       "    </tr>\n",
       "  </tbody>\n",
       "</table>\n",
       "</div>"
      ],
      "text/plain": [
       "                                                  text\n",
       "62880  [набить, тат, мама, увидеть, ибо, жить, хотеть]\n",
       "17358              [старый, новый, партия, lacrachlct]\n",
       "51581               [хотеть, отдых, устать, нереально]"
      ]
     },
     "execution_count": 11,
     "metadata": {},
     "output_type": "execute_result"
    }
   ],
   "source": [
    "data['text'] = preprocessed_text\n",
    "data.sample(3)"
   ]
  },
  {
   "cell_type": "markdown",
   "metadata": {},
   "source": [
    "#### Модель LDA"
   ]
  },
  {
   "cell_type": "code",
   "execution_count": 12,
   "metadata": {},
   "outputs": [],
   "source": [
    "dictionary = corpora.Dictionary(data['text'])\n",
    "\n",
    "dictionary.filter_extremes(no_below = 3, no_above = 0.9, keep_n=None) # игнорируем слова, которые встречаются реже 3 раз или составляют более 0.9 словаря \n",
    "dictionary.save('tweeter.dict')"
   ]
  },
  {
   "cell_type": "code",
   "execution_count": 13,
   "metadata": {},
   "outputs": [],
   "source": [
    "corpus = [dictionary.doc2bow(text) for text in data['text']]\n",
    "corpora.MmCorpus.serialize('tweeter.model', corpus) "
   ]
  },
  {
   "cell_type": "code",
   "execution_count": 14,
   "metadata": {},
   "outputs": [],
   "source": [
    "lda = ldamodel.LdaModel(corpus, id2word=dictionary, num_topics=20, chunksize=50, update_every=1, passes=2)"
   ]
  },
  {
   "cell_type": "markdown",
   "metadata": {},
   "source": [
    "#### Посмотрим 5 основных тематик о которых говорят в твитах"
   ]
  },
  {
   "cell_type": "code",
   "execution_count": 15,
   "metadata": {},
   "outputs": [
    {
     "data": {
      "text/plain": [
       "[(15,\n",
       "  '0.464*\"день\" + 0.125*\"идти\" + 0.085*\"песня\" + 0.067*\"рождение\" + 0.037*\"домой\"'),\n",
       " (2,\n",
       "  '0.357*\"почему\" + 0.170*\"время\" + 0.073*\"глаз\" + 0.060*\"понимать\" + 0.056*\"ехать\"'),\n",
       " (3,\n",
       "  '0.000*\"маршрутка\" + 0.000*\"готовить\" + 0.000*\"сдохнуть\" + 0.000*\"инф\" + 0.000*\"плечо\"'),\n",
       " (4,\n",
       "  '0.384*\"думать\" + 0.080*\"учить\" + 0.077*\"русский\" + 0.073*\"решить\" + 0.019*\"язык\"'),\n",
       " (16,\n",
       "  '0.236*\"мочь\" + 0.161*\"сделать\" + 0.091*\"это\" + 0.074*\"помнить\" + 0.055*\"второй\"')]"
      ]
     },
     "execution_count": 15,
     "metadata": {},
     "output_type": "execute_result"
    }
   ],
   "source": [
    "lda.show_topics(num_topics=5, num_words=5, formatted=True)"
   ]
  },
  {
   "cell_type": "markdown",
   "metadata": {},
   "source": [
    "#### Визуализируем кластеры тематик"
   ]
  },
  {
   "cell_type": "code",
   "execution_count": 16,
   "metadata": {},
   "outputs": [
    {
     "name": "stderr",
     "output_type": "stream",
     "text": [
      "C:\\Users\\AVB\\anaconda3\\lib\\site-packages\\pyLDAvis\\_prepare.py:246: FutureWarning: In a future version of pandas all arguments of DataFrame.drop except for the argument 'labels' will be keyword-only.\n",
      "  default_term_info = default_term_info.sort_values(\n"
     ]
    },
    {
     "data": {
      "text/html": [
       "\n",
       "<link rel=\"stylesheet\" type=\"text/css\" href=\"https://cdn.jsdelivr.net/gh/bmabey/pyLDAvis@3.3.1/pyLDAvis/js/ldavis.v1.0.0.css\">\n",
       "\n",
       "\n",
       "<div id=\"ldavis_el1762416353602252005107225487\"></div>\n",
       "<script type=\"text/javascript\">\n",
       "\n",
       "var ldavis_el1762416353602252005107225487_data = {\"mdsDat\": {\"x\": [0.3942870194075474, 0.11574616147648882, -0.3524034371133997, -0.13140361170065437, 0.2695187079733198, 0.40015730097086166, 0.10671794990701916, -0.14505524339473627, -0.37783108427930234, 0.19905379250380903, 0.27393478352687967, -0.0915799642443539, -0.3184980752963097, -0.24580060975345552, 0.0034104250833097366, -0.09359818367359596, -0.0016575717038902725, -0.0017094497630545887, -0.0016524589139816017, -0.001636451012501391], \"y\": [0.20824200085789155, -0.4420760951937861, -0.26597399625995577, 0.43191664706081645, -0.27202450353348506, -0.11662671313838369, 0.33966966392670256, -0.3371937138021687, 0.0962651148756914, 0.21543876008384166, 0.013030189593183259, 0.2854193257113024, -0.07482514187531335, 0.18445725257642376, -0.2140222238028352, 0.017438166911293195, -0.08623575888347047, 0.005693074379803282, 0.0057026937379348365, 0.005705256774513702], \"topics\": [1, 2, 3, 4, 5, 6, 7, 8, 9, 10, 11, 12, 13, 14, 15, 16, 17, 18, 19, 20], \"cluster\": [1, 1, 1, 1, 1, 1, 1, 1, 1, 1, 1, 1, 1, 1, 1, 1, 1, 1, 1, 1], \"Freq\": [7.498183759984621, 7.376398941048891, 7.265471947957831, 6.4971900515068794, 6.40617335564783, 6.288647393197111, 5.490082481778396, 5.379115812569762, 5.137731749249512, 5.092157345196317, 5.031283730873093, 4.948568398881446, 4.624692018284871, 4.404524944117748, 4.056329484791633, 3.3461814069917795, 3.220478068694632, 2.6455963697425484, 2.6455963697425484, 2.6455963697425484]}, \"tinfo\": {\"Term\": [\"\\u0445\\u043e\\u0442\\u0435\\u0442\\u044c\", \"\\u0434\\u0435\\u043d\\u044c\", \"\\u0437\\u043d\\u0430\\u0442\\u044c\", \"\\u043e\\u0447\\u0435\\u043d\\u044c\", \"\\u043f\\u0440\\u043e\\u0441\\u0442\\u043e\", \"\\u0447\\u0435\\u043b\\u043e\\u0432\\u0435\\u043a\", \"\\u0437\\u0430\\u0432\\u0442\\u0440\\u0430\", \"\\u043f\\u043e\\u0447\\u0435\\u043c\\u0443\", \"\\u0434\\u0443\\u043c\\u0430\\u0442\\u044c\", \"\\u0441\\u0435\\u0433\\u043e\\u0434\\u043d\\u044f\", \"\\u0433\\u043e\\u0434\", \"\\u0432\\u043e\\u043e\\u0431\\u0449\\u0435\", \"\\u043c\\u043e\\u0447\\u044c\", \"\\u0433\\u043e\\u0432\\u043e\\u0440\\u0438\\u0442\\u044c\", \"\\u0435\\u0433\\u0434\\u0430\", \"\\u0431\\u043b\\u0438\\u043d\", \"\\u0441\\u0432\\u043e\\u0439\", \"\\u043d\\u0430\\u0441\\u0442\\u0440\\u043e\\u0435\\u043d\\u0438\\u0435\", \"\\u0441\\u0434\\u0435\\u043b\\u0430\\u0442\\u044c\", \"\\u043b\\u044e\\u0431\\u0438\\u0442\\u044c\", \"\\u043a\\u043e\\u0442\\u043e\\u0440\\u044b\\u0439\", \"\\u043c\\u0430\\u043c\\u0430\", \"\\u0432\\u0440\\u0435\\u043c\\u044f\", \"\\u0431\\u043e\\u043b\\u044c\\u0448\\u043e\\u0439\", \"\\u0438\\u0434\\u0442\\u0438\", \"\\u043d\\u0430\\u043f\\u0438\\u0441\\u0430\\u0442\\u044c\", \"\\u0433\\u043e\\u043b\\u043e\\u0432\\u0430\", \"\\u0434\\u0435\\u043b\\u0430\\u0442\\u044c\", \"\\u0440\\u0430\\u0431\\u043e\\u0442\\u0430\", \"\\u043f\\u043e\\u0434\\u0430\\u0440\\u043e\\u043a\", \"\\u043c\\u043e\\u0447\\u044c\", \"\\u0441\\u0434\\u0435\\u043b\\u0430\\u0442\\u044c\", \"\\u044d\\u0442\\u043e\", \"\\u043f\\u043e\\u043c\\u043d\\u0438\\u0442\\u044c\", \"\\u0432\\u0442\\u043e\\u0440\\u043e\\u0439\", \"\\u043d\\u0435\\u0434\\u0435\\u043b\\u044f\", \"\\u043c\\u0435\\u0441\\u0442\\u043e\", \"\\u0432\\u0438\\u0434\\u0438\\u043c\\u043e\", \"\\u043d\\u043e\\u0440\\u043c\\u0430\", \"\\u0441\\u0438\\u0442\\u0443\\u0430\\u0446\\u0438\\u044f\", \"\\u0441\\u0434\\u0430\\u0442\\u044c\", \"\\u0447\\u0430\\u0439\", \"\\u0433\\u043e\\u0442\\u043e\\u0432\\u044b\\u0439\", \"\\u043f\\u0443\\u0441\\u0442\\u043e\\u0439\", \"\\u043d\\u0438\\u043a\\u0430\\u043a\", \"\\u043f\\u043e\\u043d\\u044f\\u0442\\u044c\", \"\\u0445\\u043e\\u0440\\u043e\\u0448\\u0438\\u0439\", \"\\u0431\\u0435\\u0434\\u0430\", \"\\u0434\\u0435\\u0440\\u0436\\u0430\\u0442\\u044c\\u0441\\u044f\", \"\\u0433\\u043e\\u0440\\u043e\\u0434\", \"\\u0441\\u043c\\u043e\\u0442\\u0440\\u0435\\u0442\\u044c\", \"\\u043f\\u0440\\u043e\\u0431\\u043e\\u0432\\u0430\\u0442\\u044c\", \"\\u0434\\u0440\\u0443\\u0433\", \"\\u0434\\u043e\\u0431\\u0440\\u043e\", \"\\u043e\\u0441\\u0442\\u0430\\u0442\\u044c\\u0441\\u044f\", \"\\u0447\\u0430\\u0432\", \"\\u043b\\u0451\\u0433\\u043a\\u0438\\u0439\", \"\\u0447\\u0443\\u0442\\u0432\\u043e\\u0432\\u0430\\u0442\\u044c\", \"\\u0442\\u0432\\u0438\\u0442\\u0442\\u0435\\u0440\", \"\\u0432\\u0441\\u0451\", \"\\u043f\\u0435\\u0440\\u0432\\u044b\\u0439\", \"\\u0436\\u0434\\u0430\\u0442\\u044c\", \"\\u0434\\u043e\\u043c\", \"\\u043d\\u043e\\u0432\\u044b\\u0439\", \"\\u0441\\u0435\\u0433\\u043e\\u0434\\u043d\\u044f\", \"\\u043d\\u0430\\u0441\\u0442\\u0440\\u043e\\u0435\\u043d\\u0438\\u0435\", \"\\u0434\\u0435\\u043b\\u0430\\u0442\\u044c\", \"\\u0432\\u0435\\u0447\\u0435\\u0440\", \"\\u043d\\u043e\\u0447\\u044c\", \"\\u0432\\u0447\\u0435\\u0440\\u0430\", \"\\u043b\\u044e\\u0431\\u043e\\u0432\\u044c\", \"\\u0441\\u0442\\u043e\\u043b\\u044c\\u043a\\u043e\", \"\\u0441\\u043a\\u0438\\u043d\\u0443\\u0442\\u044c\", \"\\u0432\\u0447\\u0435\\u0440\\u0430\\u0448\\u043d\\u0438\\u0439\", \"\\u0441\\u043f\\u0430\\u0441\\u0438\\u0431\\u043e\", \"\\u043f\\u0440\\u044f\\u043c\", \"\\u043d\\u043e\\u0432\\u043e\\u0433\\u043e\\u0434\\u043d\\u0438\\u0439\", \"\\u0440\\u0430\\u0431\\u043e\\u0442\\u0430\\u0442\\u044c\", \"\\u0442\\u0440\\u0435\\u043d\\u0435\\u0440\", \"\\u0441\\u043f\\u043e\\u043a\\u043e\\u0439\\u043d\\u044b\\u0439\", \"\\u043f\\u043e\\u0441\\u043c\\u043e\\u0442\\u0440\\u0435\\u0442\\u044c\", \"\\u043f\\u0440\\u0438\\u0439\\u0442\\u0438\\u0441\\u044c\", \"\\u043f\\u0440\\u0430\\u0437\\u0434\\u043d\\u0438\\u0447\\u043d\\u044b\\u0439\", \"\\u0430\\u043b\\u0433\\u0435\\u0431\\u0440\\u0430\", \"\\u043f\\u043e\\u0434\\u043d\\u044f\\u0442\\u044c\", \"\\u043f\\u043e\\u0440\\u0442\\u0438\\u0442\\u044c\", \"\\u043b\\u044e\\u0431\\u0438\\u043c\\u044b\\u0439\", \"\\u043a\\u0443\\u043f\\u0438\\u0442\\u044c\", \"\\u043d\\u043e\\u0432\\u044b\\u0439\", \"\\u043f\\u0430\\u0440\\u0435\\u043d\\u044c\", \"\\u043c\\u0430\\u043b\\u0435\\u043d\\u044c\\u043a\\u0438\\u0439\", \"\\u043f\\u043e\\u0439\\u0442\\u0438\", \"\\u0441\\u0443\\u0431\\u0431\\u043e\\u0442\\u0430\", \"\\u0431\\u0435\\u0441\\u0438\\u0442\\u044c\", \"\\u0441\\u043c\\u043e\\u0442\\u0440\\u0435\\u0442\\u044c\", \"\\u043f\\u0440\\u0430\\u0437\\u0434\\u043d\\u0438\\u043a\", \"\\u0443\\u0440\\u043e\\u043a\", \"\\u0444\\u0438\\u043b\\u044c\\u043c\", \"\\u0441\\u0438\\u0434\\u0435\\u0442\\u044c\", \"\\u0441\\u0432\\u043e\\u0439\", \"\\u043b\\u044e\\u0431\\u0438\\u0442\\u044c\", \"\\u043f\\u0438\\u0441\\u0430\\u0442\\u044c\", \"\\u0447\\u0430\\u0441\", \"\\u043d\\u0440\\u0430\\u0432\\u0438\\u0442\\u044c\\u0441\\u044f\", \"\\u043f\\u043b\\u0430\\u043a\\u0430\\u0442\\u044c\", \"\\u0430\\u0445\\u0430\\u0445\", \"\\u0441\\u043a\\u043e\\u043b\\u044c\\u043a\\u043e\", \"\\u0441\\u0447\\u0430\\u0441\\u0442\\u0438\\u0435\", \"\\u043f\\u043e\\u0436\\u0430\\u043b\\u0443\\u0439\\u0441\\u0442\\u0430\", \"\\u0440\\u0443\\u043a\\u0430\", \"\\u0431\\u043e\\u043b\\u044c\\u043d\\u043e\", \"\\u0440\\u0430\\u0434\\u043e\\u0441\\u0442\\u044c\", \"\\u0442\\u0430\\u0432\\u0430\\u0442\\u044c\", \"\\u0443\\u043b\\u044b\\u0431\\u043d\\u0443\\u0442\\u044c\\u0441\\u044f\", \"\\u0441\\u043a\\u0430\\u0437\\u0430\\u0442\\u044c\", \"\\u0443\\u0442\\u0440\\u043e\\u043c\", \"\\u043f\\u043e\\u043b\\u043e\\u0432\\u0438\\u043d\\u0430\", \"mars\", \"seconds\", \"mtvstars\", \"\\u043f\\u0430\\u0440\\u0435\\u043d\\u044c\", \"\\u043d\\u0430\\u0434\\u0435\\u044f\\u0442\\u044c\\u0441\\u044f\", \"\\u0443\\u043c\\u043d\\u044b\\u0439\", \"\\u043b\\u0435\\u0447\\u044c\", \"\\u043a\\u044d\\u043f\", \"\\u0432\\u0438\\u0434\\u043d\\u043e\", \"\\u043f\\u0440\\u044f\\u043c\\u043e\", \"\\u0444\\u043e\\u0442\\u043e\", \"\\u043f\\u0440\\u044f\\u043c\", \"\\u0445\\u043e\\u0442\\u0435\\u0442\\u044c\\u0441\\u044f\", \"\\u0434\\u0440\\u0443\\u0433\", \"\\u0434\\u043e\\u043c\", \"\\u0445\\u043e\\u0440\\u043e\\u0448\\u0438\\u0439\", \"\\u0434\\u0435\\u0432\\u0443\\u0448\\u043a\\u0430\", \"\\u0434\\u0435\\u043d\\u044c\", \"\\u0438\\u0434\\u0442\\u0438\", \"\\u043f\\u0435\\u0441\\u043d\\u044f\", \"\\u0440\\u043e\\u0436\\u0434\\u0435\\u043d\\u0438\\u0435\", \"\\u0434\\u043e\\u043c\\u043e\\u0439\", \"\\u0432\\u0435\\u0440\\u043d\\u0443\\u0442\\u044c\\u0441\\u044f\", \"\\u043b\\u0435\\u0442\\u043e\", \"\\u043f\\u043e\\u043e\\u0431\\u0449\\u0430\\u0442\\u044c\\u0441\\u044f\", \"\\u0435\\u043b\\u0435\", \"\\u0430\\u0439\\u0444\\u043e\\u043d\", \"\\u043e\\u0444\\u0438\\u0433\\u0435\\u043d\\u043d\\u044b\\u0439\", \"\\u0445\\u043e\\u0440\\u043e\\u0448\\u0438\\u0439\", \"\\u0432\\u0435\\u0441\\u044c\", \"\\u0446\\u0435\\u043b\\u044b\\u0439\", \"\\u0442\\u0430\\u043d\\u0435\\u0446\", \"\\u043a\\u043e\\u043d\\u0441\\u0442\\u0438\\u0442\\u0443\\u0446\\u0438\\u044f\", \"\\u0431\\u0435\\u0440\\u0435\\u0433\", \"\\u0440\\u0430\\u043a\\u0430\\u0442\\u044c\", \"\\u043f\\u043e\\u043d\\u0440\\u0430\\u0432\\u0438\\u0442\\u044c\\u0441\\u044f\", \"\\u043f\\u043e\\u0437\\u0438\\u0442\\u0438\\u0432\", \"\\u0431\\u0435\\u0433\\u0430\\u0442\\u044c\", \"\\u043f\\u043e\\u043b\\u0451\\u0442\", \"\\u0443\\u0432\\u043b\\u0435\\u043a\\u0430\\u0442\\u0435\\u043b\\u044c\\u043d\\u044b\\u0439\", \"\\u0440\\u043e\\u0434\\u043d\\u044b\\u0439\", \"\\u0434\\u0430\\u043b\\u044c\\u043d\\u0438\\u0439\", \"\\u0443\\u0441\\u0442\\u0430\\u0442\\u044c\", \"\\u0438\\u0434\\u0438\\u043e\\u0442\", \"\\u0441\\u0447\\u0430\\u0441\\u0442\\u043b\\u0438\\u0432\\u044b\\u0439\", \"\\u043f\\u0440\\u043e\\u0432\\u0435\\u0441\\u0442\\u0438\", \"\\u043c\\u0430\\u043b\\u043e\", \"\\u0443\\u0436\\u0430\\u0441\\u043d\\u043e\", \"\\u0443\\u0440\\u043e\\u043a\", \"\\u0434\\u043e\\u043c\", \"\\u0431\\u043e\\u043b\\u0435\\u0442\\u044c\", \"\\u0431\\u043b\\u0438\\u043d\", \"\\u0434\\u0430\\u0432\\u0430\\u0442\\u044c\", \"\\u0443\\u0442\\u0440\\u043e\", \"\\u043f\\u043e\\u043a\\u0430\", \"\\u0434\\u043e\\u0431\\u0440\\u044b\\u0439\", \"\\u043a\\u043e\\u043d\\u0435\\u0446\", \"\\u043d\\u0438\\u0431\\u044b\\u0442\\u044c\", \"\\u043c\\u0435\\u0441\\u044f\\u0446\", \"\\u0432\\u043c\\u0435\\u0441\\u0442\\u0435\", \"\\u0431\\u0440\\u0430\\u0442\\u044c\", \"\\u0431\\u043e\\u0439\", \"\\u0434\\u0432\\u0438\\u0436\\u0443\\u0445\\u0430\", \"\\u0441\\u043a\\u043e\\u0440\\u043e\", \"\\u043f\\u043e\\u043c\\u0438\\u043d\\u0430\\u0442\\u044c\", \"\\u043f\\u043e\\u043b\\u0443\\u0447\\u0430\\u0442\\u044c\\u0441\\u044f\", \"\\u0443\\u0431\\u0438\\u0440\\u0430\\u0442\\u044c\\u0441\\u044f\", \"\\u0440\\u0435\\u043a\\u043b\\u0430\\u043c\\u0430\", \"\\u0441\\u043c\\u043e\\u0442\\u0440\\u0435\\u0442\\u044c\", \"\\u043f\\u0438\\u0437\\u0434\\u0435\\u0446\", \"\\u043f\\u043e\\u043d\\u044f\\u0442\\u044c\", \"\\u0443\\u043c\\u0435\\u0442\\u044c\", \"\\u043f\\u043e\\u0448\\u0443\\u0442\\u0438\\u0442\\u044c\", \"\\u043f\\u0440\\u043e\\u0447\\u0438\\u0442\\u0430\\u0442\\u044c\", \"\\u043d\\u0430\\u0434\\u0435\\u044f\\u0442\\u044c\\u0441\\u044f\", \"\\u043e\\u0446\\u0435\\u043d\\u043a\\u0430\", \"\\u043e\\u0442\\u0434\\u044b\\u0445\\u0430\\u0442\\u044c\", \"\\u043a\\u043b\\u0430\\u0441\\u0441\", \"\\u043f\\u0443\\u0442\\u0438\\u043d\", \"\\u043f\\u0430\\u0440\\u043e\\u043b\\u044c\", \"\\u0441\\u043c\\u044b\\u0441\\u043b\", \"\\u0432\\u0435\\u0447\\u0435\\u0440\\u043e\\u043c\", \"\\u043b\\u0438\\u0446\\u043e\", \"\\u043d\\u043e\\u0432\\u044b\\u0439\", \"\\u043f\\u043e\\u0439\\u0442\\u0438\", \"\\u0445\\u043e\\u0440\\u043e\\u0448\\u0438\\u0439\", \"\\u0441\\u043f\\u0430\\u0441\\u0438\\u0431\\u043e\", \"\\u0442\\u043e\\u0447\\u043d\\u043e\", \"\\u043e\\u0447\\u0435\\u043d\\u044c\", \"\\u043d\\u0430\\u043f\\u0438\\u0441\\u0430\\u0442\\u044c\", \"\\u043d\\u0443\\u0436\\u043d\\u043e\", \"\\u0431\\u043e\\u044f\\u0442\\u044c\\u0441\\u044f\", \"\\u0432\\u044b\\u0439\\u0442\\u0438\", \"\\u043a\\u0440\\u0443\\u0442\\u043e\\u0439\", \"\\u043a\\u0430\\u0436\\u0434\\u044b\\u0439\", \"\\u043f\\u043e\\u043b\\u0443\\u0447\\u0438\\u0442\\u044c\", \"\\u043f\\u043e\\u0435\\u0445\\u0430\\u0442\\u044c\", \"\\u0447\\u0443\\u0432\\u0430\\u043a\", \"\\u0438\\u0433\\u0440\\u0430\", \"\\u0443\\u0434\\u0438\\u0432\\u0438\\u0442\\u044c\\u0441\\u044f\", \"\\u0441\\u043a\\u0443\\u0447\\u0430\\u0442\\u044c\", \"\\u0441\\u043c\\u043e\\u0447\\u044c\", \"\\u0441\\u0442\\u0430\\u0442\\u044c\", \"\\u0436\\u0430\\u0440\\u043a\\u043e\", \"\\u043e\\u0441\\u043a\\u0430\\u0440\", \"\\u043f\\u0440\\u044f\\u043c\", \"\\u0440\\u0435\\u0437\\u043a\\u043e\", \"\\u043d\\u043e\\u0432\\u044b\\u0439\", \"\\u0445\\u043e\\u043b\\u043e\\u0434\\u043d\\u043e\", \"\\u043a\\u0440\\u0430\\u0441\\u0438\\u0432\\u044b\\u0439\", \"\\u0433\\u043e\\u043b\\u043e\\u0441\", \"\\u043f\\u0440\\u0438\\u0432\\u0435\\u0442\", \"\\u043f\\u043e\\u0441\\u0442\\u043e\\u044f\\u043d\\u043d\\u043e\", \"\\u0437\\u0430\\u0434\\u0440\\u0430\\u0442\\u044c\", \"\\u0431\\u0435\\u0441\\u043a\\u043e\\u043d\\u0435\\u0447\\u043d\\u044b\\u0439\", \"\\u0440\\u0430\\u043d\\u043e\", \"\\u043f\\u043e\\u0439\\u0442\\u0438\", \"\\u0441\\u043a\\u0430\\u0437\\u0430\\u0442\\u044c\", \"\\u0436\\u0438\\u0437\\u043d\\u044c\", \"\\u043e\\u0431\\u0435\\u043d\\u043d\\u043e\", \"\\u0440\\u0430\\u0434\\u0430\", \"\\u0434\\u043e\\u043c\", \"\\u0433\\u043e\\u0434\", \"\\u0432\\u043e\\u043e\\u0431\\u0449\\u0435\", \"\\u0447\\u0438\\u0442\\u0430\\u0442\\u044c\", \"\\u0441\\u043b\\u0443\\u0447\\u0430\\u0439\", \"\\u0431\\u043e\\u043b\\u044c\\u0448\\u0438\\u0439\", \"\\u043f\\u043e\\u0434\\u0443\\u043c\\u0430\\u0442\\u044c\", \"\\u043d\\u0430\\u0437\\u0430\\u0434\", \"\\u043d\\u043e\\u0432\\u044b\\u0439\", \"\\u0441\\u0442\\u0430\\u0442\\u044c\", \"\\u043e\\u043b\\u0438\\u043c\\u043f\\u0438\\u0430\\u0434\\u0430\", \"\\u043c\\u043e\\u0441\\u043a\\u0432\\u0430\", \"\\u0441\\u043e\\u0447\\u0438\", \"\\u0451\\u043b\\u043e\\u0447\\u043a\\u0430\", \"\\u0445\\u043e\\u0434\\u0438\\u0442\\u044c\", \"\\u0441\\u043c\\u043e\\u0447\\u044c\", \"amp\", \"\\u0438\\u0437\\u043c\\u0435\\u043d\\u0438\\u0442\\u044c\\u0441\\u044f\", \"\\u043d\\u0430\\u0440\\u044f\\u0436\\u0430\\u0442\\u044c\", \"\\u043d\\u0430\\u0448\", \"\\u043f\\u043e\\u0437\\u0434\\u043d\\u0438\\u0439\", \"\\u043e\\u0442\\u043b\\u0438\\u0447\\u043d\\u044b\\u0439\", \"\\u0437\\u0434\\u043e\\u0440\\u043e\\u0432\\u044b\\u0439\", \"\\u0431\\u0438\\u0440\\u0430\\u0442\\u044c\\u0441\\u044f\", \"\\u043e\\u0434\\u043d\\u0430\\u043a\\u043e\", \"\\u0443\\u043d\\u0438\\u0432\\u0435\\u0440\\u0441\\u0438\\u0442\\u0435\\u0442\", \"\\u043f\\u044f\\u0442\\u044c\", \"\\u0433\\u0440\\u0430\\u0436\\u0434\\u0430\\u043d\\u0438\\u043d\", \"\\u043e\\u0431\\u0441\\u0443\\u0436\\u0434\\u0430\\u0442\\u044c\", \"\\u043e\\u043d\\u043b\\u0430\\u0439\\u043d\", \"\\u0437\\u0434\\u0440\\u0430\\u0442\\u0432\\u043e\\u0432\\u0430\\u0442\\u044c\", \"\\u0432\\u0438\\u0434\\u0435\\u0442\\u044c\", \"\\u0441\\u043b\\u044b\\u0448\\u0430\\u0442\\u044c\", \"\\u043a\\u0443\\u0447\\u0430\", \"\\u0447\\u0435\\u043b\\u043e\\u0432\\u0435\\u043a\", \"\\u043a\\u043e\\u0442\\u043e\\u0440\\u044b\\u0439\", \"\\u0437\\u0430\\u0431\\u044b\\u0442\\u044c\", \"\\u0432\\u0435\\u0440\\u0438\\u0442\\u044c\", \"\\u0440\\u044f\\u0434\\u043e\\u043c\", \"\\u043f\\u043e\\u0442\\u0435\\u0440\\u044f\\u0442\\u044c\", \"\\u0445\\u043e\\u0440\\u043e\\u0448\\u0438\\u0439\", \"\\u043f\\u0435\\u0440\\u0432\\u044b\\u0439\", \"\\u043c\\u0435\\u043d\\u044f\\u0442\\u044c\\u0441\\u044f\", \"\\u0441\\u0442\\u0440\\u0430\\u043d\\u043d\\u044b\\u0439\", \"\\u043f\\u043e\\u043b\\u043d\\u043e\\u0441\\u0442\\u044c\\u044e\", \"\\u0442\\u0435\\u043b\\u0435\\u0444\\u043e\\u043d\", \"\\u043e\\u0434\\u043d\\u0430\\u043a\\u043e\", \"\\u0445\\u043e\\u0442\\u0435\\u0442\\u044c\\u0441\\u044f\", \"\\u0432\\u0437\\u0430\\u0438\\u043c\\u043d\\u044b\\u0439\", \"\\u0443\\u0432\\u0430\\u0436\\u0430\\u0442\\u044c\", \"\\u0432\\u0438\\u0434\\u0435\\u0442\\u044c\", \"\\u0436\\u0430\\u043b\\u044c\", \"\\u0440\\u0430\\u0434\\u0430\", \"\\u0441\\u0442\\u0440\\u0430\\u043d\\u0430\", \"\\u043f\\u043e\\u0431\\u044b\\u0432\\u0430\\u0442\\u044c\", \"\\u043c\\u0435\\u0447\\u0442\\u0430\\u0442\\u044c\", \"\\u0436\\u0438\\u0437\\u043d\\u044c\", \"\\u043c\\u0438\\u0440\", \"\\u0441\\u043b\\u0430\\u0434\\u043a\\u043e\", \"\\u0440\\u043e\\u0431\\u0435\\u0440\\u0442\", \"\\u0436\\u0443\\u0442\\u043a\\u043e\", \"\\u043d\\u044b\\u043d\\u0447\\u0435\", \"\\u043c\\u043e\\u0434\\u043d\\u043e\", \"\\u0432\\u0435\\u0440\\u0448\\u0435\\u043d\\u043d\\u043e\", \"\\u043d\\u0435\\u043a\\u043e\\u0442\\u043e\\u0440\\u044b\\u0439\", \"\\u0445\\u0432\\u0430\\u0442\\u0430\\u0442\\u044c\", \"\\u0434\\u0430\\u0432\\u043d\\u043e\", \"\\u0434\\u0435\\u0432\\u0443\\u0448\\u043a\\u0430\", \"\\u0442\\u0430\\u043a\\u0438\", \"\\u043f\\u0440\\u0438\\u0439\\u0442\\u0438\", \"\\u043f\\u0440\\u043e\\u0441\\u0442\\u043e\", \"\\u0433\\u043e\\u0432\\u043e\\u0440\\u0438\\u0442\\u044c\", \"\\u043d\\u0430\\u0439\\u0442\\u0438\", \"\\u0437\\u0440\\u044f\", \"\\u043e\\u0442\\u043a\\u0443\\u0434\\u0430\", \"\\u043f\\u0440\\u0435\\u0434\\u043b\\u0430\\u0433\\u0430\\u0442\\u044c\", \"\\u0441\\u0438\\u0434\\u0435\\u0442\\u044c\", \"\\u043f\\u043e\\u0434\\u043d\\u0438\\u043c\\u0430\\u0442\\u044c\\u0441\\u044f\", \"\\u0441\\u043d\\u0435\\u0441\\u0442\\u0438\", \"\\u043a\\u0430\\u043f\\u0435\\u0446\", \"\\u043a\\u043e\\u043b\\u0435\\u043d\\u043e\", \"\\u0432\\u0441\\u0451\", \"\\u043f\\u0440\\u0438\\u0447\\u0438\\u043d\\u0430\", \"\\u043f\\u0430\\u0434\\u0435\\u043d\\u0438\\u0435\", \"\\u0447\\u0435\\u0441\\u0442\\u043d\\u043e\", \"\\u043a\\u043e\\u0444\\u0442\\u0430\", \"\\u043c\\u0451\\u0440\\u0437\\u043d\\u0443\\u0442\\u044c\", \"\\u0448\\u0442\\u0430\\u043d\\u044b\", \"\\u0431\\u0430\\u0442\\u0430\\u0440\\u0435\\u044f\", \"\\u0432\\u043a\\u043b\\u044e\\u0447\\u0438\\u0442\\u044c\", \"\\u043f\\u0430\\u043f\\u0430\", \"\\u0443\\u0432\\u0438\\u0434\\u0435\\u0442\\u044c\", \"\\u043f\\u043e\\u043b\\u0443\\u0447\\u0430\\u0442\\u044c\\u0441\\u044f\", \"\\u0443\\u043c\\u0435\\u0442\\u044c\", \"\\u0436\\u0430\\u043b\\u044c\", \"\\u0443\\u0441\\u043b\\u044b\\u0448\\u0430\\u0442\\u044c\", \"\\u043c\\u044f\\u0433\\u043a\\u043e\", \"\\u0440\\u0435\\u0437\\u0443\\u043b\\u044c\\u0442\\u0430\\u0442\", \"\\u0442\\u043e\\u0447\\u043a\\u0430\", \"\\u043e\\u043f\\u0440\\u0435\\u0434\\u0435\\u043b\\u0435\\u043d\\u0438\\u0435\", \"\\u043d\\u043e\\u0432\\u044b\\u0439\", \"\\u0434\\u043e\\u043c\", \"\\u043f\\u043e\\u0441\\u0442\\u0430\\u0432\\u0438\\u0442\\u044c\", \"\\u0441\\u043c\\u043e\\u0442\\u0440\\u0435\\u0442\\u044c\", \"\\u0437\\u043d\\u0430\\u0442\\u044c\", \"\\u0431\\u043e\\u043b\\u044c\\u0448\\u043e\\u0439\", \"\\u0432\\u0437\\u044f\\u0442\\u044c\", \"\\u043d\\u0435\\u043c\\u043d\\u043e\\u0433\\u043e\", \"\\u043d\\u0438\\u043a\\u0430\\u043a\\u043e\\u0439\", \"\\u0442\\u044f\\u0436\\u0451\\u043b\\u044b\\u0439\", \"\\u0440\\u043e\\u0434\\u0438\\u0442\\u0435\\u043b\\u044c\", \"\\u0434\\u0440\\u0443\\u0433\", \"\\u0433\\u043e\\u043b\\u043e\\u0441\\u043e\\u0432\\u0430\\u0442\\u044c\", \"\\u0445\\u0434\\u0434\", \"\\u0438\\u043c\\u044f\", \"\\u0442\\u0432\\u043e\\u0439\", \"\\u043f\\u0430\\u0440\\u043e\\u043b\\u044c\", \"\\u043a\\u0443\\u043f\\u0438\\u0442\\u044c\", \"\\u043a\\u0440\\u0430\\u0441\\u043d\\u044b\\u0439\", \"\\u043f\\u043e\\u043c\\u0438\\u043d\\u0430\\u0442\\u044c\", \"\\u0441\\u044b\\u043d\", \"\\u043d\\u0430\\u0437\\u0432\\u0430\\u0442\\u044c\", \"\\u0441\\u0442\\u0430\\u043d\\u043e\\u0432\\u0438\\u0442\\u044c\\u0441\\u044f\", \"\\u0442\\u0435\\u043c\\u0430\", \"\\u0441\\u043c\\u043e\\u0442\\u0440\\u0435\\u0442\\u044c\", \"\\u0443\\u0435\\u0445\\u0430\\u0442\\u044c\", \"\\u043a\\u043e\\u0441\\u0442\\u044e\\u043c\", \"\\u043e\\u043f\\u043e\\u0437\\u0434\\u0430\\u0442\\u044c\", \"\\u0431\\u0430\\u0431\\u043e\\u0447\\u043a\\u0430\", \"\\u0445\\u0443\\u043b\\u0430\", \"\\u0441\\u0430\\u0434\\u0438\\u043a\", \"\\u0445\\u0443\\u0439\", \"\\u043d\\u0435\\u0436\\u043d\\u044b\\u0439\", \"\\u043a\\u043e\\u043d\\u0451\\u043a\", \"\\u043b\\u044e\\u0431\\u043e\\u0439\", \"\\u0441\\u043f\\u0430\\u0441\\u0438\\u0431\\u043e\", \"\\u0447\\u0435\\u0440\\u0442\\u0430\", \"\\u043f\\u043e\\u0439\\u0442\\u0438\", \"\\u0441\\u043a\\u0430\\u0437\\u0430\\u0442\\u044c\", \"\\u043f\\u043e\\u0447\\u0435\\u043c\\u0443\", \"\\u0432\\u0440\\u0435\\u043c\\u044f\", \"\\u0433\\u043b\\u0430\\u0437\", \"\\u043f\\u043e\\u043d\\u0438\\u043c\\u0430\\u0442\\u044c\", \"\\u0435\\u0445\\u0430\\u0442\\u044c\", \"\\u043c\\u0430\\u0448\\u0438\\u043d\\u0430\", \"\\u0447\\u0435\\u0440\\u0442\\u0430\", \"\\u0441\\u043c\\u043e\\u0447\\u044c\", \"\\u0445\\u043e\\u0442\\u0435\\u0442\\u044c\\u0441\\u044f\", \"\\u0437\\u0435\\u043b\\u0451\\u043d\\u044b\\u0439\", \"\\u0432\\u043b\\u044e\\u0431\\u0438\\u0442\\u044c\\u0441\\u044f\", \"\\u0445\\u0440\\u0435\\u043d\", \"\\u043a\\u0440\\u0430\\u0441\\u0438\\u0432\\u044b\\u0439\", \"\\u0444\\u043e\\u0442\\u043e\\u0433\\u0440\\u0430\\u0444\\u0438\\u044f\", \"\\u0441\\u0430\\u0448\\u0430\", \"\\u0434\\u0435\\u0440\\u044c\\u043c\\u043e\", \"\\u0441\\u0442\\u0440\\u043e\\u0447\\u043a\\u0430\", \"\\u0433\\u043e\\u043b\\u043e\\u0441\", \"\\u0434\\u0430\\u0434\\u0430\\u0434\\u0430\", \"\\u043f\\u0440\\u043e\\u0441\\u0442\\u0440\\u0430\\u043d\\u0441\\u0442\\u0432\\u043e\", \"\\u043f\\u0440\\u043e\\u0441\\u0438\\u0442\\u044c\", \"\\u043d\\u043e\\u0432\\u044b\\u0439\", \"\\u0442\\u044d\\u0433\", \"\\u043f\\u043e\\u0434\\u043f\\u0438\\u0441\\u044b\\u0432\\u0430\\u0442\\u044c\\u0441\\u044f\", \"\\u043d\\u0430\\u043f\\u0440\\u0438\\u043c\\u0435\\u0440\", \"\\u043a\\u0438\\u043d\\u043e\", \"\\u0434\\u043e\\u0440\\u043e\\u0433\\u043e\\u0439\", \"\\u0437\\u0430\\u0442\\u043e\", \"\\u043f\\u043e\\u0441\\u043b\\u0435\\u0434\\u043d\\u0438\\u0439\", \"\\u0438\\u0433\\u0440\\u0430\\u0442\\u044c\", \"\\u0441\\u043b\\u043e\\u0432\\u043e\", \"\\u043f\\u043e\\u043d\\u044f\\u0442\\u044c\", \"\\u0445\\u043e\\u0442\\u0435\\u0442\\u044c\", \"\\u0440\\u0430\\u0431\\u043e\\u0442\\u0430\", \"\\u0434\\u043e\\u043c\", \"\\u0436\\u0435\\u043b\\u0430\\u043d\\u0438\\u0435\", \"\\u044f\\u043d\\u0432\\u0430\\u0440\\u044c\", \"\\u0432\\u043e\\u0431\\u0449\\u0438\\u0439\", \"\\u043b\\u043e\\u043c\\u0430\\u0442\\u044c\", \"\\u0441\\u043b\\u043e\\u043c\\u0430\\u0442\\u044c\", \"\\u043b\\u043e\\u043c\\u043a\\u0430\", \"\\u0441\\u0442\\u0430\\u0434\\u0438\\u043e\\u043d\", \"\\u0440\\u0430\\u0434\\u043e\\u0432\\u0430\\u0442\\u044c\", \"\\u0445\\u043e\\u043a\\u043a\\u0435\\u0439\", \"\\u0444\\u0438\\u043b\\u043e\\u0444\\u0438\\u0439\", \"\\u0430\\u0432\\u0442\\u043e\\u043c\\u0430\\u0442\", \"\\u0437\\u0430\\u0447\\u0451\\u0442\", \"\\u0437\\u0430\\u0431\\u0440\\u0430\\u0442\\u044c\", \"\\u0441\\u0442\\u0440\\u0430\\u0445\", \"\\u0441\\u043f\\u0430\\u0442\\u044c\", \"\\u044d\\u043a\\u0437\\u0430\\u043c\\u0435\\u043d\", \"\\u0435\\u0433\\u044d\", \"\\u043f\\u0440\\u044f\\u043c\", \"\\u0432\\u043e\\u0441\\u0441\\u0442\\u0430\\u043d\\u0430\\u0432\\u043b\\u0438\\u0432\\u0430\\u0442\\u044c\", \"\\u0441\\u0434\\u0430\\u0432\\u0430\\u0442\\u044c\", \"\\u0437\\u043d\\u0430\\u043d\\u0438\\u0435\", \"\\u0435\\u043c\\u0438\", \"\\u0436\\u0434\\u0430\\u0442\\u044c\", \"\\u043a\\u043e\\u043d\\u0442\\u0440\\u043e\\u043b\\u044c\\u043d\\u044b\\u0439\", \"\\u0441\\u043f\\u0430\\u0441\\u0438\\u0431\\u043e\", \"\\u0430\\u043d\\u0433\\u043b\\u0438\\u0439\\u0441\\u043a\\u0438\\u0439\", \"\\u0437\\u0430\\u0439\\u043a\\u0430\", \"\\u0437\\u0430\\u0441\\u044b\\u043f\\u0430\\u0442\\u044c\", \"\\u043f\\u043e\\u0439\\u0442\\u0438\", \"\\u0440\\u0430\\u043d\\u043d\\u0438\\u0439\", \"\\u0441\\u0438\\u0434\\u0435\\u0442\\u044c\", \"\\u0437\\u0430\\u0432\\u0442\\u0440\\u0430\", \"\\u043f\\u043e\\u0434\\u0430\\u0440\\u043e\\u043a\", \"\\u0448\\u043a\\u043e\\u043b\\u0430\", \"\\u0438\\u0431\\u043e\", \"\\u043f\\u043e\\u0432\\u0435\\u0437\\u0442\\u0438\", \"\\u0441\\u0430\\u043c\\u043e\\u0447\\u0443\\u0442\\u0432\\u0438\\u0435\", \"\\u043a\\u043e\\u043d\\u0441\\u0442\\u0438\\u0442\\u0443\\u0446\\u0438\\u044f\", \"\\u0443\\u0440\\u043e\\u043a\", \"\\u043f\\u043e\\u0434\\u0430\\u0440\\u0438\\u0442\\u044c\", \"\\u043a\\u0438\\u043d\\u0434\\u0451\\u0440\", \"\\u0433\\u0430\\u0437\\u0435\\u0442\\u0430\", \"\\u0442\\u0430\\u0432\\u0430\\u0442\\u044c\", \"\\u0441\\u043d\\u043e\\u0432\\u0430\", \"\\u043f\\u043e\\u0440\\u0430\", \"\\u043e\\u043f\\u0435\\u0440\\u0430\\u0446\\u0438\\u044f\", \"\\u043f\\u0440\\u0438\\u0439\\u0442\\u0438\", \"\\u0441\\u0442\\u0438\\u043b\\u044c\", \"\\u0443\\u0447\\u0438\\u0442\\u044c\\u0441\\u044f\", \"\\u0441\\u0438\\u043b\\u044c\\u043d\\u043e\", \"\\u0438\\u043d\\u0438\\u0446\\u0438\\u0430\\u0442\\u0438\\u0432\\u0430\", \"\\u0435\\u0434\\u0438\\u043d\\u044b\\u0439\", \"\\u043f\\u044f\\u0442\\u043d\\u0438\\u0446\\u0430\", \"\\u043f\\u043e\\u043b\\u0443\\u0447\\u0438\\u0442\\u044c\\u0441\\u044f\", \"\\u043e\\u0441\\u043d\\u043e\\u0432\\u0430\", \"\\u043a\\u0440\\u0443\\u0442\\u043e\", \"\\u0440\\u043e\\u0441\\u0441\\u0438\\u044f\", \"\\u0440\\u0438\\u0432\\u0430\\u0442\\u044c\", \"\\u043f\\u0440\\u043e\\u0432\\u0435\\u0441\\u0442\\u0438\", \"\\u0447\\u0435\\u0440\\u0442\\u0430\", \"\\u0441\\u043f\\u0430\\u0442\\u044c\", \"\\u043d\\u043e\\u0432\\u044b\\u0439\", \"\\u0436\\u0434\\u0430\\u0442\\u044c\", \"\\u0441\\u0438\\u0434\\u0435\\u0442\\u044c\", \"\\u0441\\u043a\\u0430\\u0437\\u0430\\u0442\\u044c\", \"\\u0445\\u043e\\u0440\\u043e\\u0448\\u0438\\u0439\", \"\\u043c\\u0430\\u043c\\u0430\", \"\\u0433\\u043e\\u043b\\u043e\\u0432\\u0430\", \"\\u0438\\u043d\\u0442\\u0435\\u0440\\u043d\\u0435\\u0442\", \"\\u0441\\u0440\\u0430\\u0437\\u0443\", \"\\u0441\\u043a\\u0443\\u0447\\u043d\\u043e\", \"\\u0441\\u0442\\u043e\\u0438\\u0442\\u044c\", \"\\u0443\\u0439\\u0442\\u0438\", \"\\u0437\\u0430\\u0439\\u0442\\u0438\", \"\\u0443\\u0436\\u0430\\u0441\\u043d\\u043e\", \"\\u0431\\u043e\\u043b\\u0435\\u0442\\u044c\", \"\\u0441\\u043c\\u043e\\u0442\\u0440\\u0435\\u0442\\u044c\", \"\\u0445\\u043e\\u0440\\u043e\\u0448\\u0438\\u0439\", \"\\u0443\\u043c\\u0435\\u0440\\u0435\\u0442\\u044c\", \"\\u0432\\u043a\\u0443\\u0441\", \"\\u0431\\u043b\\u044f\\u0434\\u044c\", \"\\u0441\\u043a\\u043e\\u0440\\u043e\", \"\\u043a\\u0430\\u0442\\u044f\", \"\\u043f\\u0443\\u0441\\u043a\\u0430\\u0439\", \"\\u0432\\u0435\\u0447\\u0435\\u0440\\u043e\\u043c\", \"\\u0441\\u0442\\u044b\\u0434\\u043d\\u043e\", \"\\u0436\\u0435\\u043b\\u0430\\u0442\\u044c\", \"\\u0443\\u0442\\u0440\\u043e\\u043c\", \"\\u0431\\u043e\\u043b\\u044c\\u043d\\u043e\\u0439\", \"\\u043f\\u0440\\u0438\\u043d\\u0435\\u0441\\u0442\\u0438\", \"\\u0430\\u043c\\u0435\\u0440\\u0438\\u043a\\u0430\\u043d\\u0441\\u043a\\u0438\\u0439\", \"\\u0433\\u043b\\u0430\\u0432\\u043d\\u043e\\u0435\", \"\\u0441\\u043d\\u0430\\u0447\\u0430\\u043b\\u0430\", \"\\u043f\\u043e\\u0446\\u0435\\u043b\\u043e\\u0432\\u0430\\u0442\\u044c\", \"\\u0434\\u0443\\u0440\\u0430\", \"\\u043e\\u0431\\u043d\\u044f\\u0442\\u044c\", \"\\u0434\\u043e\\u043c\", \"\\u0434\\u0430\\u0432\\u043d\\u043e\", \"\\u0441\\u043f\\u0430\\u0441\\u0438\\u0431\\u043e\", \"\\u0434\\u0443\\u043c\\u0430\\u0442\\u044c\", \"\\u0443\\u0447\\u0438\\u0442\\u044c\", \"\\u0440\\u0443\\u0441\\u0441\\u043a\\u0438\\u0439\", \"\\u0440\\u0435\\u0448\\u0438\\u0442\\u044c\", \"\\u044f\\u0437\\u044b\\u043a\", \"\\u0434\\u0435\\u0434\", \"\\u043d\\u0435\\u0442\\u0443\", \"\\u0443\\u0447\\u0451\\u0431\\u0430\", \"\\u0445\\u0443\\u0439\", \"\\u0443\\u043b\\u0435\\u0442\\u0435\\u0442\\u044c\", \"\\u0430\\u043d\\u0433\\u043b\\u0438\\u0439\\u0441\\u043a\\u0438\\u0439\", \"\\u0443\\u0442\\u0440\\u043e\\u043c\", \"\\u043b\\u0430\\u0434\\u043d\\u044b\\u0439\", \"\\u0441\\u043b\\u043e\\u0432\\u043e\", \"\\u0441\\u043b\\u043e\\u0436\\u043d\\u044b\\u0439\", \"\\u043d\\u043e\\u0432\\u043e\\u0433\\u043e\\u0434\\u043d\\u0438\\u0439\", \"\\u043f\\u0440\\u0430\\u0437\\u0434\\u043d\\u0438\\u043a\", \"\\u0433\\u0435\\u0439\", \"\\u043f\\u043e\\u0434\\u0434\\u0435\\u0440\\u0436\\u0430\\u0442\\u044c\", \"\\u0441\\u043b\\u0443\\u0447\\u0438\\u0442\\u044c\\u0441\\u044f\", \"\\u043f\\u0440\\u0438\\u0432\\u0435\\u0442\", \"\\u043e\\u0431\\u0449\\u0430\\u0442\\u044c\\u0441\\u044f\", \"\\u043e\\u043f\\u043e\\u0437\\u0434\\u0430\\u0442\\u044c\", \"\\u043f\\u043b\\u043e\\u0445\\u043e\", \"\\u043e\\u043e\\u043e\", \"\\u0442\\u0430\\u043a\\u0438\", \"\\u0432\\u0438\\u0434\\u0435\\u0442\\u044c\", \"\\u0440\\u0435\\u0448\\u0438\\u0442\\u044c\\u0441\\u044f\", \"\\u0433\\u0440\\u0443\\u043f\\u043f\\u0430\", \"\\u0434\\u0430\\u0430\\u0430\", \"\\u0441\\u043f\\u0430\\u0441\\u0442\\u044c\", \"\\u0441\\u043a\\u0430\\u0437\\u0430\\u0442\\u044c\", \"\\u0434\\u043e\\u043b\\u0433\\u043e\", \"\\u0435\\u0433\\u0434\\u0430\", \"\\u043c\\u0430\\u0433\\u0430\\u0437\\u0438\\u043d\", \"\\u0442\\u043e\\u043a\", \"\\u0444\\u0438\\u043b\\u044c\\u043c\", \"\\u0440\\u0430\\u0437\\u0432\\u0435\\u0441\\u0435\\u043b\\u0438\\u0442\\u044c\", \"\\u043f\\u0440\\u043e\\u0445\\u043e\\u0434\\u0438\\u0442\\u044c\", \"\\u043f\\u043e\\u043b\\u0438\\u0442\\u0438\\u043a\\u0430\", \"\\u0440\\u043e\\u0441\\u0441\\u0438\\u0439\\u0441\\u043a\\u0438\\u0439\", \"\\u0441\\u043f\\u043e\\u0431\\u043d\\u044b\\u0439\", \"\\u043f\\u0440\\u0438\\u043a\\u043e\\u043b\\u044c\\u043d\\u043e\", \"\\u0440\\u0430\\u0437\\u0433\\u043e\\u0432\\u0430\\u0440\\u0438\\u0432\\u0430\\u0442\\u044c\", \"\\u0441\\u043f\\u0440\\u0430\\u0448\\u0438\\u0432\\u0430\\u0442\\u044c\", \"\\u0445\\u0438\\u043c\\u0438\\u044f\", \"\\u043f\\u0440\\u043e\\u0442\\u0438\\u0432\", \"\\u043f\\u043e\\u0441\\u0442\\u0430\\u0432\\u0438\\u0442\\u044c\", \"\\u0443\\u0440\\u043e\\u043a\", \"\\u0437\\u043d\\u0430\\u0447\\u0438\\u0442\", \"\\u0435\\u0434\\u0438\\u043d\\u0441\\u0442\\u0432\\u0435\\u043d\\u043d\\u044b\\u0439\", \"\\u0441\\u0438\\u0434\\u0435\\u0442\\u044c\", \"\\u043e\\u0440\\u0438\\u0433\\u0438\\u043d\\u0430\\u043b\", \"\\u0434\\u043e\\u0433\\u0430\\u0434\\u0430\\u0442\\u044c\\u0441\\u044f\", \"\\u043d\\u0430\\u0432\\u0435\\u0440\\u043d\\u043e\\u0435\", \"\\u0443\\u043a\\u0440\\u0430\\u0448\\u0435\\u043d\\u0438\\u0435\", \"\\u043d\\u0438\\u043a\\u0442\\u043e\", \"\\u043e\\u0434\\u0435\\u0436\\u0434\\u0430\", \"\\u043d\\u0430\\u0447\\u0438\\u043d\\u0430\\u0442\\u044c\\u0441\\u044f\", \"\\u0441\\u043a\\u0430\\u0437\\u0430\\u0442\\u044c\", \"\\u0445\\u0443\\u0439\\u043d\\u044f\", \"\\u0434\\u043e\\u0432\\u043e\\u043b\\u044c\\u043d\\u044b\\u0439\", \"\\u0437\\u0430\\u0440\\u0430\\u043d\\u0435\\u0435\", \"\\u0441\\u043f\\u0430\\u0441\\u0438\\u0431\\u043e\", \"\\u0442\\u0443\\u0434\\u0430\", \"\\u043e\\u0431\\u043e\\u0436\\u0430\\u0442\\u044c\", \"\\u043f\\u043e\\u0445\\u043e\\u0434\", \"\\u043c\\u0443\\u0436\", \"\\u0432\\u0430\\u0436\\u043d\\u044b\\u0439\", \"\\u043d\\u0435\\u043d\\u0430\\u0432\\u0438\\u0434\\u0435\\u0442\\u044c\", \"\\u044f\\u0431\\u043b\\u043e\\u043a\\u043e\", \"\\u0441\\u0443\\u0448\\u0438\\u0442\\u044c\", \"\\u0440\\u0430\\u0432\\u043d\\u043e\", \"\\u0440\\u0435\\u0432\\u043d\\u043e\\u0432\\u0430\\u0442\\u044c\", \"\\u043f\\u043e\\u0432\\u043e\\u0434\", \"\\u043f\\u0440\\u0438\\u043d\\u0446\\u0438\\u043f\", \"\\u0431\\u0438\\u0440\\u0430\\u043b\\u0430\\u0441\\u044f\", \"\\u043f\\u0440\\u0430\\u0437\\u0434\\u043d\\u0438\\u043a\", \"\\u043e\\u0431\\u0438\\u0434\\u043d\\u043e\", \"\\u0442\\u0440\\u0430\\u0432\\u043c\\u0430\", \"\\u043a\\u043e\\u043d\\u0446\\u0435\\u0440\\u0442\", \"\\u0437\\u0430\\u043d\\u044f\\u0442\\u0438\\u0435\", \"\\u0443\\u0440\\u0430\", \"\\u043f\\u0440\\u043e\\u043b\\u0435\\u0442\\u0430\\u0442\\u044c\", \"\\u0440\\u044e\\u043a\\u0437\\u0430\\u043a\", \"\\u0437\\u0430\\u0434\\u043d\\u0438\\u0446\\u0430\", \"\\u0441\\u0435\\u043d\\u0442\\u044f\\u0431\\u0440\\u044c\", \"\\u043f\\u043e\\u0434\\u043d\\u0438\\u043c\\u0430\\u0442\\u044c\", \"\\u0441\\u0430\\u043c\\u044b\\u0439\", \"\\u043d\\u0435\\u0441\\u043f\\u0440\\u0430\\u0432\\u0435\\u0434\\u043b\\u0438\\u0432\\u044b\\u0439\", \"\\u0434\\u0435\\u0448\\u0451\\u0432\\u044b\\u0439\", \"\\u0442\\u043e\\u0447\\u043d\\u043e\", \"\\u0445\\u0432\\u0430\\u0442\\u0430\\u0442\\u044c\", \"\\u0438\\u0437\\u043c\\u0435\\u043d\\u0438\\u0442\\u044c\", \"\\u043d\\u043e\\u0432\\u044b\\u0439\", \"\\u0441\\u0448\\u0430\", \"\\u0431\\u0435\\u0441\\u0441\\u043c\\u0435\\u0440\\u0442\\u043d\\u044b\\u0439\", \"\\u043a\\u0443\\u0441\\u043e\\u043a\", \"\\u043f\\u043e\\u043a\\u0438\\u0434\\u0430\\u0442\\u044c\", \"\\u0442\\u0440\\u0435\\u0447\\u0430\\u043b\\u044b\\u0439\", \"\\u0447\\u0438\\u0441\\u0442\\u043e\", \"\\u043c\\u043e\\u0434\\u0430\", \"\\u043d\\u0430\\u0447\\u0430\\u043b\\u044c\\u043d\\u0438\\u043a\", \"\\u0438\\u0434\\u0435\\u0430\\u043b\\u044c\\u043d\\u043e\", \"\\u044d\\u043d\\u044d\", \"\\u0441\\u0442\\u0430\\u0431\\u0438\\u043b\\u044c\\u043d\\u043e\\u0441\\u0442\\u044c\", \"\\u043f\\u0435\\u0440\\u0435\\u0431\\u043e\\u0440\", \"\\u043c\\u0430\\u0439\\u043a\\u0430\", \"\\u043d\\u0438\\u0437\\u043a\\u0438\\u0439\", \"\\u0437\\u0434\\u0430\\u043d\\u0438\\u0435\", \"\\u0441\\u043a\\u043e\\u0442\\u0438\\u043d\\u0430\", \"\\u043f\\u0440\\u0435\\u0434\\u0443\\u043f\\u0440\\u0435\\u0436\\u0434\\u0430\\u0442\\u044c\", \"apple\", \"\\u0430\\u0445\\u0440\\u0438\\u043d\\u0435\\u0442\\u044c\", \"\\u043d\\u043e\\u0441\\u0442\\u0430\\u043b\\u044c\\u0433\\u0438\\u044f\", \"\\u043f\\u043e\\u0441\\u0430\\u0442\\u044c\", \"\\u043e\\u0437\\u0432\\u0443\\u0447\\u043a\\u0430\", \"\\u0437\\u0430\\u0441\\u0430\\u0434\\u0430\", \"\\u0447\\u0443\\u0434\\u0435\\u0441\\u043d\\u043e\", \"\\u0437\\u0430\\u0440\\u0430\\u0431\\u0430\\u0442\\u044b\\u0432\\u0430\\u0442\\u044c\", \"\\u043e\\u043e\\u043e\\u043e\\u0447\\u0435\\u043d\\u044c\", \"\\u0442\\u0430\\u043d\\u044c\\u043a\\u0430\", \"\\u0443\\u043a\\u0443\\u0441\\u0438\\u0442\\u044c\", \"\\u043e\\u0442\\u043a\\u043b\\u0438\\u043a\", \"\\u043d\\u0430\\u044f\", \"\\u0440\\u0435\\u0448\\u0438\\u0442\\u044c\", \"\\u0440\\u0443\\u0441\\u0441\\u043a\\u0438\\u0439\", \"\\u0443\\u0447\\u0438\\u0442\\u044c\", \"\\u044f\\u0437\\u044b\\u043a\", \"\\u043c\\u0438\\u043d\\u0438\\u043c\\u0443\\u043c\", \"\\u043f\\u0440\\u043e\\u0434\\u0430\\u0436\\u0430\", \"\\u0431\\u043e\\u044f\\u0442\\u044c\\u0441\\u044f\", \"\\u0432\\u044b\\u0439\\u0442\\u0438\", \"\\u0435\\u0432\\u0440\\u043e\", \"\\u043a\\u0440\\u0443\\u0442\\u043e\\u0439\", \"\\u043e\\u0447\\u0435\\u043d\\u044c\", \"\\u043f\\u043e\\u0435\\u0445\\u0430\\u0442\\u044c\", \"\\u0444\\u0438\\u043d\\u0430\\u043b\", \"\\u0431\\u0443\\u0434\\u0438\\u0442\\u044c\", \"\\u043f\\u0440\\u043e\\u0441\\u043b\\u0435\\u0437\\u0438\\u0442\\u044c\\u0441\\u044f\", \"\\u0441\\u043a\\u0443\\u0447\\u043d\\u043e\", \"\\u0443\\u0439\\u0442\\u0438\", \"\\u0432\\u0435\\u0440\\u0445\\u043d\\u0438\\u0439\", \"\\u043d\\u0430\\u0432\\u0435\\u0440\\u043d\\u044f\\u043a\\u0430\", \"\\u043d\\u0430\\u0441\\u0442\\u0440\\u043e\\u0439\\u043a\\u0430\", \"\\u043d\\u0430\\u0445\\u043e\\u0434\\u0438\\u0442\\u044c\\u0441\\u044f\", \"\\u043e\\u0442\\u043c\\u0435\\u0442\\u0438\\u0442\\u044c\", \"\\u043f\\u043e\\u0438\\u0441\\u043a\", \"\\u0440\\u044f\\u0434\\u043e\\u043c\", \"\\u0441\\u0438\\u043d\\u0438\\u0439\", \"\\u0432\\u043d\\u0435\\u0441\\u0442\\u0438\", \"\\u043c\\u0430\\u043d\\u0434\\u0430\\u0440\\u0438\\u043d\", \"\\u043d\\u043e\\u0440\\u043c\\u0430\", \"\\u0441\\u0434\\u0435\\u043b\\u0430\\u0442\\u044c\", \"\\u0447\\u0430\\u0439\", \"\\u0441\\u0448\\u0430\", \"\\u0431\\u0435\\u0441\\u0441\\u043c\\u0435\\u0440\\u0442\\u043d\\u044b\\u0439\", \"\\u043a\\u0443\\u0441\\u043e\\u043a\", \"\\u043f\\u043e\\u043a\\u0438\\u0434\\u0430\\u0442\\u044c\", \"\\u0442\\u0440\\u0435\\u0447\\u0430\\u043b\\u044b\\u0439\", \"\\u0447\\u0438\\u0441\\u0442\\u043e\", \"\\u043c\\u043e\\u0434\\u0430\", \"\\u043d\\u0430\\u0447\\u0430\\u043b\\u044c\\u043d\\u0438\\u043a\", \"\\u0438\\u0434\\u0435\\u0430\\u043b\\u044c\\u043d\\u043e\", \"\\u044d\\u043d\\u044d\", \"\\u0441\\u0442\\u0430\\u0431\\u0438\\u043b\\u044c\\u043d\\u043e\\u0441\\u0442\\u044c\", \"\\u043f\\u0435\\u0440\\u0435\\u0431\\u043e\\u0440\", \"\\u043c\\u0430\\u0439\\u043a\\u0430\", \"\\u043d\\u0438\\u0437\\u043a\\u0438\\u0439\", \"\\u0437\\u0434\\u0430\\u043d\\u0438\\u0435\", \"\\u0441\\u043a\\u043e\\u0442\\u0438\\u043d\\u0430\", \"\\u043f\\u0440\\u0435\\u0434\\u0443\\u043f\\u0440\\u0435\\u0436\\u0434\\u0430\\u0442\\u044c\", \"apple\", \"\\u0430\\u0445\\u0440\\u0438\\u043d\\u0435\\u0442\\u044c\", \"\\u043d\\u043e\\u0441\\u0442\\u0430\\u043b\\u044c\\u0433\\u0438\\u044f\", \"\\u043f\\u043e\\u0441\\u0430\\u0442\\u044c\", \"\\u043e\\u0437\\u0432\\u0443\\u0447\\u043a\\u0430\", \"\\u0437\\u0430\\u0441\\u0430\\u0434\\u0430\", \"\\u0447\\u0443\\u0434\\u0435\\u0441\\u043d\\u043e\", \"\\u0437\\u0430\\u0440\\u0430\\u0431\\u0430\\u0442\\u044b\\u0432\\u0430\\u0442\\u044c\", \"\\u043e\\u043e\\u043e\\u043e\\u0447\\u0435\\u043d\\u044c\", \"\\u0442\\u0430\\u043d\\u044c\\u043a\\u0430\", \"\\u0443\\u043a\\u0443\\u0441\\u0438\\u0442\\u044c\", \"\\u043e\\u0442\\u043a\\u043b\\u0438\\u043a\", \"\\u043d\\u0430\\u044f\", \"\\u0440\\u0435\\u0448\\u0438\\u0442\\u044c\", \"\\u0440\\u0443\\u0441\\u0441\\u043a\\u0438\\u0439\", \"\\u0443\\u0447\\u0438\\u0442\\u044c\", \"\\u044f\\u0437\\u044b\\u043a\", \"\\u043c\\u0438\\u043d\\u0438\\u043c\\u0443\\u043c\", \"\\u043f\\u0440\\u043e\\u0434\\u0430\\u0436\\u0430\", \"\\u0431\\u043e\\u044f\\u0442\\u044c\\u0441\\u044f\", \"\\u0432\\u044b\\u0439\\u0442\\u0438\", \"\\u0435\\u0432\\u0440\\u043e\", \"\\u043a\\u0440\\u0443\\u0442\\u043e\\u0439\", \"\\u043e\\u0447\\u0435\\u043d\\u044c\", \"\\u043f\\u043e\\u0435\\u0445\\u0430\\u0442\\u044c\", \"\\u0444\\u0438\\u043d\\u0430\\u043b\", \"\\u0431\\u0443\\u0434\\u0438\\u0442\\u044c\", \"\\u043f\\u0440\\u043e\\u0441\\u043b\\u0435\\u0437\\u0438\\u0442\\u044c\\u0441\\u044f\", \"\\u0441\\u043a\\u0443\\u0447\\u043d\\u043e\", \"\\u0443\\u0439\\u0442\\u0438\", \"\\u0432\\u0435\\u0440\\u0445\\u043d\\u0438\\u0439\", \"\\u043d\\u0430\\u0432\\u0435\\u0440\\u043d\\u044f\\u043a\\u0430\", \"\\u043d\\u0430\\u0441\\u0442\\u0440\\u043e\\u0439\\u043a\\u0430\", \"\\u043d\\u0430\\u0445\\u043e\\u0434\\u0438\\u0442\\u044c\\u0441\\u044f\", \"\\u043e\\u0442\\u043c\\u0435\\u0442\\u0438\\u0442\\u044c\", \"\\u043f\\u043e\\u0438\\u0441\\u043a\", \"\\u0440\\u044f\\u0434\\u043e\\u043c\", \"\\u0441\\u0438\\u043d\\u0438\\u0439\", \"\\u0432\\u043d\\u0435\\u0441\\u0442\\u0438\", \"\\u043c\\u0430\\u043d\\u0434\\u0430\\u0440\\u0438\\u043d\", \"\\u043d\\u043e\\u0440\\u043c\\u0430\", \"\\u0441\\u0434\\u0435\\u043b\\u0430\\u0442\\u044c\", \"\\u0447\\u0430\\u0439\", \"\\u0441\\u0448\\u0430\", \"\\u0431\\u0435\\u0441\\u0441\\u043c\\u0435\\u0440\\u0442\\u043d\\u044b\\u0439\", \"\\u043a\\u0443\\u0441\\u043e\\u043a\", \"\\u043f\\u043e\\u043a\\u0438\\u0434\\u0430\\u0442\\u044c\", \"\\u0442\\u0440\\u0435\\u0447\\u0430\\u043b\\u044b\\u0439\", \"\\u0447\\u0438\\u0441\\u0442\\u043e\", \"\\u043c\\u043e\\u0434\\u0430\", \"\\u043d\\u0430\\u0447\\u0430\\u043b\\u044c\\u043d\\u0438\\u043a\", \"\\u0438\\u0434\\u0435\\u0430\\u043b\\u044c\\u043d\\u043e\", \"\\u044d\\u043d\\u044d\", \"\\u0441\\u0442\\u0430\\u0431\\u0438\\u043b\\u044c\\u043d\\u043e\\u0441\\u0442\\u044c\", \"\\u043f\\u0435\\u0440\\u0435\\u0431\\u043e\\u0440\", \"\\u043c\\u0430\\u0439\\u043a\\u0430\", \"\\u043d\\u0438\\u0437\\u043a\\u0438\\u0439\", \"\\u0437\\u0434\\u0430\\u043d\\u0438\\u0435\", \"\\u0441\\u043a\\u043e\\u0442\\u0438\\u043d\\u0430\", \"\\u043f\\u0440\\u0435\\u0434\\u0443\\u043f\\u0440\\u0435\\u0436\\u0434\\u0430\\u0442\\u044c\", \"apple\", \"\\u0430\\u0445\\u0440\\u0438\\u043d\\u0435\\u0442\\u044c\", \"\\u043d\\u043e\\u0441\\u0442\\u0430\\u043b\\u044c\\u0433\\u0438\\u044f\", \"\\u043f\\u043e\\u0441\\u0430\\u0442\\u044c\", \"\\u043e\\u0437\\u0432\\u0443\\u0447\\u043a\\u0430\", \"\\u0437\\u0430\\u0441\\u0430\\u0434\\u0430\", \"\\u0447\\u0443\\u0434\\u0435\\u0441\\u043d\\u043e\", \"\\u0437\\u0430\\u0440\\u0430\\u0431\\u0430\\u0442\\u044b\\u0432\\u0430\\u0442\\u044c\", \"\\u043e\\u043e\\u043e\\u043e\\u0447\\u0435\\u043d\\u044c\", \"\\u0442\\u0430\\u043d\\u044c\\u043a\\u0430\", \"\\u0443\\u043a\\u0443\\u0441\\u0438\\u0442\\u044c\", \"\\u043e\\u0442\\u043a\\u043b\\u0438\\u043a\", \"\\u043d\\u0430\\u044f\", \"\\u0440\\u0435\\u0448\\u0438\\u0442\\u044c\", \"\\u0440\\u0443\\u0441\\u0441\\u043a\\u0438\\u0439\", \"\\u0443\\u0447\\u0438\\u0442\\u044c\", \"\\u044f\\u0437\\u044b\\u043a\", \"\\u043c\\u0438\\u043d\\u0438\\u043c\\u0443\\u043c\", \"\\u043f\\u0440\\u043e\\u0434\\u0430\\u0436\\u0430\", \"\\u0431\\u043e\\u044f\\u0442\\u044c\\u0441\\u044f\", \"\\u0432\\u044b\\u0439\\u0442\\u0438\", \"\\u0435\\u0432\\u0440\\u043e\", \"\\u043a\\u0440\\u0443\\u0442\\u043e\\u0439\", \"\\u043e\\u0447\\u0435\\u043d\\u044c\", \"\\u043f\\u043e\\u0435\\u0445\\u0430\\u0442\\u044c\", \"\\u0444\\u0438\\u043d\\u0430\\u043b\", \"\\u0431\\u0443\\u0434\\u0438\\u0442\\u044c\", \"\\u043f\\u0440\\u043e\\u0441\\u043b\\u0435\\u0437\\u0438\\u0442\\u044c\\u0441\\u044f\", \"\\u0441\\u043a\\u0443\\u0447\\u043d\\u043e\", \"\\u0443\\u0439\\u0442\\u0438\", \"\\u0432\\u0435\\u0440\\u0445\\u043d\\u0438\\u0439\", \"\\u043d\\u0430\\u0432\\u0435\\u0440\\u043d\\u044f\\u043a\\u0430\", \"\\u043d\\u0430\\u0441\\u0442\\u0440\\u043e\\u0439\\u043a\\u0430\", \"\\u043d\\u0430\\u0445\\u043e\\u0434\\u0438\\u0442\\u044c\\u0441\\u044f\", \"\\u043e\\u0442\\u043c\\u0435\\u0442\\u0438\\u0442\\u044c\", \"\\u043f\\u043e\\u0438\\u0441\\u043a\", \"\\u0440\\u044f\\u0434\\u043e\\u043c\", \"\\u0441\\u0438\\u043d\\u0438\\u0439\", \"\\u0432\\u043d\\u0435\\u0441\\u0442\\u0438\", \"\\u043c\\u0430\\u043d\\u0434\\u0430\\u0440\\u0438\\u043d\", \"\\u043d\\u043e\\u0440\\u043c\\u0430\", \"\\u0441\\u0434\\u0435\\u043b\\u0430\\u0442\\u044c\", \"\\u0447\\u0430\\u0439\"], \"Freq\": [1478.0, 1430.0, 982.0, 985.0, 898.0, 910.0, 833.0, 854.0, 741.0, 916.0, 766.0, 760.0, 842.0, 692.0, 496.0, 578.0, 581.0, 585.0, 575.0, 558.0, 471.0, 421.0, 407.0, 405.0, 388.0, 368.0, 317.0, 378.0, 318.0, 300.0, 838.4901664367285, 571.5700187981779, 324.23822614840213, 262.2911452297764, 193.72089947206078, 191.07100931092168, 123.4700191230561, 118.61480109499004, 111.48347437600107, 102.12682341379926, 84.8730651940718, 80.03728808739476, 37.99154446051127, 17.921229854083688, 0.14145959245347645, 0.1413811845600927, 0.1414189613823868, 0.1411944056185483, 0.1411974665097906, 0.1411950255458885, 0.1412502119943202, 0.1411681749429656, 0.1412129905236017, 0.14117584654380072, 0.14117473584064952, 0.14114987417127647, 0.1411452892919895, 0.14115073948652218, 0.14116042585121297, 0.14118446095079906, 0.1412013410556669, 0.1411768151802698, 0.14115962511173186, 0.14116924690065805, 912.2110860720577, 581.2459907680699, 374.6182164234038, 324.20712112924167, 320.94806312968535, 287.8289520792871, 128.61913286670625, 56.676726606497326, 44.789464838857846, 34.54800472304545, 0.12243828723908048, 0.12237941047951544, 0.1223612417772759, 0.12232476461354884, 0.12230128505988544, 0.1222981468294986, 0.12228182040825539, 0.12226820023426883, 0.12224126481556406, 0.1222408328324339, 0.12223449284472933, 0.12223871103294158, 0.12225388126404228, 0.12226013231404358, 0.122353618545567, 0.12222329939950342, 0.12222625975448372, 0.1222563334035753, 0.12221746762724613, 0.12221119116647247, 0.12227457833813193, 0.12225388126404228, 0.12227559476902645, 0.12224545759300395, 0.12223719909198598, 577.6175942054766, 555.1016125538598, 310.30011813446123, 232.65096217068364, 222.7017587189498, 197.67697319639328, 166.98053224087718, 145.7762853363036, 145.35955242786252, 137.5079686886075, 108.07176034117323, 92.51719171894493, 48.507774615866815, 0.14321559568736658, 0.14314921972682873, 0.14322439325528855, 0.14313410242661576, 0.14309460722837716, 0.1430835445682875, 0.1430835445682875, 0.1430835445682875, 0.1430941066555224, 0.14311138893333214, 0.14308144216229762, 0.14307261956573292, 0.14307245687955514, 0.1430725945370902, 0.143075510373969, 0.1430690279555002, 0.14310599526082238, 0.14312655629083063, 0.1431135413966075, 0.1431107757315851, 0.1431391456981272, 0.14307598591818102, 1426.5030709112257, 384.509122429112, 262.59363784791196, 206.0648658494341, 112.84439566187116, 100.83784162326386, 64.25272333151493, 34.69794762530349, 18.305683238925834, 8.938913316176434, 0.13103507199853112, 0.13109963289954668, 0.13099723521462864, 0.13094468226070785, 0.13081591857079886, 0.13082325986930227, 0.13080575713933376, 0.1308043246908453, 0.1308043246908453, 0.13080942778858548, 0.1308043246908453, 0.13080105691773097, 0.13080105691773097, 0.13080885704739084, 0.13080105691773097, 0.13080885704739084, 0.1308043246908453, 0.13080160527691798, 0.13080693219473447, 0.1307884894204454, 0.13080912563148245, 0.1308387817915953, 0.1308262478673212, 0.1308128298537456, 574.6741777915909, 304.352358182926, 297.69260486565236, 275.0888456509726, 254.37019814829418, 210.40286397857136, 150.47410076887357, 139.06734333447514, 131.51238850005043, 86.19220154531764, 68.25320062755588, 0.15500781624694368, 0.15501675397587272, 0.15497615903176168, 0.15497732866048572, 0.15495371540133984, 0.15494840793514866, 0.1550278544145179, 0.15495405746257046, 0.1549796899864003, 0.1549538036752058, 0.15494008812328136, 0.15493759438656785, 0.15496423102562304, 0.15494722727219137, 0.1549263394686572, 0.15493842195406127, 0.15493673371637467, 0.15493185658528005, 0.15493673371637467, 0.1549538036752058, 0.1549525237041493, 0.15504813533522357, 0.15496755232983, 0.15502235936636155, 0.1549777148586493, 0.15494428113191475, 981.3643500638196, 364.5408958798697, 242.3611738313325, 194.27854841549424, 164.28568279529722, 139.28587518282717, 132.29960475436764, 114.85134830073417, 90.29170075937154, 68.89312870643884, 0.13911242302249677, 0.13901740645429753, 0.13902202080200077, 0.1390495227475842, 0.13904095479210704, 0.13896511051366073, 0.13896123272850167, 0.13899645774899685, 0.13896512134546285, 0.13910696379422813, 0.13896556544934976, 0.13896466640977378, 0.13895230732355454, 0.1389492960825651, 0.13892050515252935, 0.13890506983450793, 0.1389050590027058, 0.138910301594932, 0.13895466865641676, 0.13899447552920885, 0.13895583849104576, 0.13891344281754692, 0.13891514341047978, 0.1389234189072997, 762.3373409755463, 757.170190106881, 221.16723805381918, 133.8307723157934, 72.28170264203597, 30.034190306702186, 24.18753008771318, 0.17217923378634278, 0.17206046235731243, 0.1718703145949762, 0.1714652435015092, 0.17145540892458314, 0.17143730952050956, 0.1714175836287136, 0.17144372090815946, 0.17137172045747176, 0.1713286185328284, 0.17131672247727744, 0.17135263759570557, 0.17131528511603442, 0.17127832980196986, 0.17126229187652117, 0.17125037690832226, 0.1712562776544779, 0.1712382160757002, 0.17122509069803346, 0.1712176012894513, 0.1712176012894513, 0.17122323725853586, 0.1712176012894513, 0.17126369141246833, 0.17122323725853586, 0.17121971950602, 906.3501136294892, 467.5505248475698, 289.6985381632689, 131.96278747992795, 123.21759534511683, 64.88563327349034, 0.16175475875483697, 0.16159213612565854, 0.1613323957663611, 0.16128997972281173, 0.16128156692955203, 0.16124341287377736, 0.16122449335413389, 0.16126403718853075, 0.16119788372611427, 0.16119788372611427, 0.16124973173391294, 0.1612039987520519, 0.16120390610014376, 0.16117583257197543, 0.161175054295947, 0.161175054295947, 0.16123742756051113, 0.1611773335328874, 0.1611578210410318, 0.1611578210410318, 0.1611578210410318, 0.1611578395714134, 0.1611578210410318, 0.1611578395714134, 0.16116380635429803, 0.16118496805011867, 0.16117512841747353, 0.16117260828557195, 0.16116993991061732, 0.16117171882725373, 895.2239117958752, 688.544805291443, 273.4559863190343, 35.34864943042465, 1.1412053005686613, 0.6784177761247967, 0.15454876334637874, 0.154264838495709, 0.15415622069190893, 0.15415059245961166, 0.1541046108636735, 0.154147601355026, 0.1540459568956446, 0.1540459568956446, 0.15405648770764738, 0.15404293039337152, 0.1540376030414172, 0.15403788622291642, 0.1540376030414172, 0.1540376030414172, 0.1540376207402609, 0.15403654111079507, 0.15403057660046743, 0.15400360356266538, 0.15401091318511437, 0.15398452420915446, 0.1539700111573187, 0.1539657811336739, 0.1539657634348302, 0.15395785205169532, 0.15410124808337008, 0.1539998337089568, 0.15397447126593164, 0.15397378101102727, 978.625042366573, 402.1167883080941, 155.3595029813547, 83.15464850268911, 71.49591468282885, 51.14649812503848, 45.843936694683705, 0.1786298589775818, 0.17835555713830045, 0.17835555713830045, 0.1783571008207112, 0.17833771708134907, 0.17831770183554616, 0.1783663979988668, 0.1783302793388246, 0.1783175264170904, 0.1783103167185584, 0.1783104745951686, 0.178310334260404, 0.1783103167185584, 0.17838729033694853, 0.1783035631080114, 0.17829740592021404, 0.17831191302650587, 0.17829740592021404, 0.1782809341272176, 0.178280916585372, 0.17831463201257025, 0.1782809341272176, 0.178277022295654, 0.17829898468631591, 0.1783439093528376, 0.17832040327976495, 0.17831291291170373, 0.17831142185482973, 850.3924125659474, 404.03764896507107, 174.42531535010045, 142.45063965222894, 132.66710660470395, 62.104878541253065, 0.17700926535851433, 0.17658977548735177, 0.17652065489873894, 0.17635837403836235, 0.1763593966348338, 0.17635386768103054, 0.17636885998523064, 0.17634270578056246, 0.17634270578056246, 0.17634268844841888, 0.17633227183012493, 0.17635806205977783, 0.17632336310832275, 0.17632336310832275, 0.17633227183012493, 0.1765046053337802, 0.17630304983604236, 0.17630304983604236, 0.17630304983604236, 0.17630313649676027, 0.1762862723210531, 0.17626942547748947, 0.1762735158633753, 0.17625911285205703, 0.17627393183482132, 0.17629240789988182, 1474.9350999932399, 314.4282421243698, 0.158586449815111, 0.15834862433343588, 0.15831458107582672, 0.1583049323608509, 0.1583049323608509, 0.1583054267296394, 0.15827274724799856, 0.15827274724799856, 0.15827129823603223, 0.15827274724799856, 0.15826057554748132, 0.15826057554748132, 0.15826241664503854, 0.1582656556129633, 0.15826057554748132, 0.1582989658409895, 0.15827440082636016, 0.15824047689914822, 0.15828266871816807, 0.15824047689914822, 0.15824047689914822, 0.15824047689914822, 0.15824095422073714, 0.15827434968476134, 0.15822588449628722, 0.15831084773911347, 0.15824052804074704, 0.15822080443080525, 0.15822683913946503, 0.15827013902645914, 0.15822862909542346, 0.1582493073485431, 829.9371968702324, 296.66133683324415, 280.9365227810802, 226.89786862556295, 0.15908116057949712, 0.15897148823018498, 0.15897477011629166, 0.1590159052130267, 0.15884728636568218, 0.15882498228534558, 0.1588276906379579, 0.1588314186056713, 0.15882369183498327, 0.1588246317926546, 0.15880417576468875, 0.15884445056118224, 0.15880119657681524, 0.15879187665753172, 0.1588079993213179, 0.15876981154948447, 0.15876981154948447, 0.15878270012162182, 0.15878553592612177, 0.15876981154948447, 0.15877467065270065, 0.15877032135703503, 0.15874961042529392, 0.15876985934394233, 0.1588041916961747, 0.158787208732147, 0.1588865893415324, 0.15878465969439426, 0.1588291244716938, 0.15881795650003958, 0.15883297989129486, 417.8032335221734, 313.60623292215473, 269.6564920134235, 165.95702333761662, 125.56490292668161, 114.8360997777709, 101.69272395338531, 0.16599893697336768, 0.16531246321951065, 0.16528636559431703, 0.16522810112876854, 0.16526512334125248, 0.16509169551801825, 0.16507574865518193, 0.16505801137387305, 0.16507265335544968, 0.1650406382454738, 0.1649889133592616, 0.16501177912738182, 0.16499009685621807, 0.1649889133592616, 0.1649893837234366, 0.16495685273017202, 0.16494585227769215, 0.16493981340860667, 0.16495227047272523, 0.16493981340860667, 0.16492685563423728, 0.16492685563423728, 0.16492685563423728, 0.16500357051387615, 0.164943212169097, 0.16494756683097522, 737.742725404086, 152.70998757513158, 148.25376273069938, 140.278232061723, 35.790730819000075, 0.2026799288066565, 0.20215776526247264, 0.20216053202499001, 0.20215566923026254, 0.20204784933337422, 0.20205332696421666, 0.20204784933337422, 0.20201347440512835, 0.20201677216247224, 0.20201327877545538, 0.2020478633069223, 0.20204784933337422, 0.2019381010868526, 0.20192319131106465, 0.20192319131106465, 0.2019390512881212, 0.20192356859686247, 0.20191543599188722, 0.20192885059803195, 0.20188061391010317, 0.2019148491028684, 0.20192823576191699, 0.20185924835510807, 0.20185480476682263, 0.20185924835510807, 0.20185924835510807, 0.2018829195455343, 0.2018592763022042, 492.9193034682467, 193.73931343542662, 0.2583270269590122, 0.2573726228367888, 0.2572860767941098, 0.25728077429282686, 0.25728077429282686, 0.25728072818412, 0.2572860767941098, 0.25728077429282686, 0.25728201922791066, 0.25728077429282686, 0.25728077429282686, 0.2572860767941098, 0.25728072818412, 0.25735975850758935, 0.25728072818412, 0.2572860767941098, 0.2572855465439815, 0.25671121649197826, 0.25671121649197826, 0.25671121649197826, 0.2566957009121373, 0.25671121649197826, 0.25663765005026573, 0.2565846250374363, 0.2567391583683041, 0.2565846250374363, 0.25652774994758837, 0.2564928456565345, 0.25649694933144046, 197.01846318235107, 189.741601919001, 179.64114635263147, 73.24392625161413, 62.24691329128234, 0.23627942665108495, 0.23593073769216863, 0.23593073769216863, 0.23593213555436474, 0.23582095003905262, 0.23583126759335718, 0.23578127737862994, 0.23578127737862994, 0.23583126759335718, 0.23578127737862994, 0.23553926971239383, 0.23553926971239383, 0.23553926971239383, 0.23553926971239383, 0.23553926971239383, 0.23553753902586533, 0.23553753902586533, 0.23553753902586533, 0.23553753902586533, 0.2355923219109792, 0.2355156613730819, 0.2355156613730819, 0.2355569315903001, 0.23553753902586533, 0.2354768096793458, 0.23547787471720952, 0.3573705787855937, 0.3573705787855937, 0.3573705787855937, 0.3573705787855937, 0.3573705787855937, 0.3573705787855937, 0.3573705787855937, 0.3573705787855937, 0.3573705787855937, 0.3573705787855937, 0.3573705787855937, 0.3573705787855937, 0.3573705787855937, 0.3573705787855937, 0.3573705787855937, 0.3573705787855937, 0.3573705787855937, 0.3573705787855937, 0.3573705787855937, 0.3573705787855937, 0.3573705787855937, 0.3573705787855937, 0.3573705787855937, 0.3573705787855937, 0.3573705787855937, 0.3573705787855937, 0.3573705787855937, 0.3573705787855937, 0.3573705787855937, 0.3573705787855937, 0.3573705787855937, 0.3573705787855937, 0.3573705787855937, 0.3573705787855937, 0.3573705787855937, 0.3573705787855937, 0.3573705787855937, 0.3573705787855937, 0.3573705787855937, 0.3573705787855937, 0.3573705787855937, 0.3573705787855937, 0.3573705787855937, 0.3573705787855937, 0.3573705787855937, 0.3573705787855937, 0.3573705787855937, 0.3573705787855937, 0.3573705787855937, 0.3573705787855937, 0.3573705787855937, 0.3573705787855937, 0.3573705787855937, 0.3573705787855937, 0.3573705787855937, 0.3573705787855937, 0.3573705787855937, 0.3573705787855937, 0.3573705787855937, 0.3573705787855937, 0.3573705787855937, 0.3573705787855937, 0.3573705787855937, 0.3573705787855937, 0.3573705787855937, 0.3573705787855937, 0.3573705787855937, 0.3573705787855937, 0.3573705787855937, 0.3573705787855937, 0.3573705787855937, 0.3573705787855937, 0.3573705787855937, 0.3573705787855937, 0.3573705787855937, 0.3573705787855937, 0.3573705787855937, 0.3573705787855937, 0.3573705787855937, 0.3573705787855937, 0.3573705787855937, 0.3573705787855937, 0.3573705787855937, 0.3573705787855937, 0.3573705787855937, 0.3573705787855937, 0.3573705787855937, 0.3573705787855937, 0.3573705787855937, 0.3573705787855937, 0.3573705787855937, 0.3573705787855937, 0.3573705787855937, 0.3573705787855937, 0.3573705787855937, 0.3573705787855937, 0.3573705787855937, 0.3573705787855937, 0.3573705787855937, 0.3573705787855937, 0.3573705787855937, 0.3573705787855937, 0.3573705787855937, 0.3573705787855937, 0.3573705787855937, 0.3573705787855937, 0.3573705787855937, 0.3573705787855937, 0.3573705787855937, 0.3573705787855937, 0.3573705787855937, 0.3573705787855937, 0.3573705787855937, 0.3573705787855937, 0.3573705787855937, 0.3573705787855937, 0.3573705787855937, 0.3573705787855937, 0.3573705787855937, 0.3573705787855937, 0.3573705787855937, 0.3573705787855937, 0.3573705787855937, 0.3573705787855937, 0.3573705787855937, 0.3573705787855937, 0.3573705787855937, 0.3573705787855937, 0.3573705787855937, 0.3573705787855937, 0.3573705787855937, 0.3573705787855937, 0.3573705787855937, 0.3573705787855937, 0.3573705787855937, 0.3573705787855937, 0.3573705787855937, 0.3573705787855937, 0.3573705787855937, 0.3573705787855937, 0.3573705787855937, 0.3573705787855937, 0.3573705787855937, 0.3573705787855937, 0.3573705787855937, 0.3573705787855937, 0.3573705787855937, 0.3573705787855937, 0.3573705787855937, 0.3573705787855937, 0.3573705787855937, 0.3573705787855937, 0.3573705787855937, 0.3573705787855937, 0.3573705787855937, 0.3573705787855937, 0.3573705787855937, 0.3573705787855937, 0.3573705787855937, 0.3573705787855937, 0.3573705787855937, 0.3573705787855937, 0.3573705787855937, 0.3573705787855937, 0.3573705787855937, 0.3573705787855937, 0.3573705787855937, 0.3573705787855937, 0.3573705787855937, 0.3573705787855937, 0.3573705787855937, 0.3573705787855937, 0.3573705787855937, 0.3573705787855937, 0.3573705787855937, 0.3573705787855937, 0.3573705787855937, 0.3573705787855937, 0.3573705787855937, 0.3573705787855937], \"Total\": [1478.0, 1430.0, 982.0, 985.0, 898.0, 910.0, 833.0, 854.0, 741.0, 916.0, 766.0, 760.0, 842.0, 692.0, 496.0, 578.0, 581.0, 585.0, 575.0, 558.0, 471.0, 421.0, 407.0, 405.0, 388.0, 368.0, 317.0, 378.0, 318.0, 300.0, 842.2657688164132, 575.3456211778627, 328.0138285280871, 266.0667476094614, 197.49650185174576, 194.84661169060666, 127.24562150274103, 122.39040347467497, 115.259076755686, 105.90242579348418, 88.64866757375673, 83.81289046707968, 41.76714684019618, 21.69683223376863, 3.9174233549532733, 3.917711412215547, 3.9203424259821946, 3.9167985682352997, 3.916932440174843, 3.917101766289801, 3.9188444084904255, 3.9167715182077436, 3.918107024607192, 3.9172044728309476, 3.917399126370746, 3.916885402557003, 3.916834313625587, 3.9170325258712833, 3.9174019596972407, 3.9180917570093152, 3.9185824167977588, 3.9179605608878316, 3.918750789400375, 3.9210874936477875, 916.0055770410801, 585.0404817370923, 378.41270739242646, 328.00161209826433, 324.742554098708, 291.62344304830975, 132.4136238357289, 60.47121757551991, 48.58395580788043, 38.34249572720843, 3.918955279920618, 3.917846014169231, 3.918080721100897, 3.9172440481766944, 3.9168241245154722, 3.9169267441868274, 3.917314610421389, 3.917115101850858, 3.9167329982474413, 3.916874726072561, 3.916776146517777, 3.9170113051592064, 3.9174988252583223, 3.917993859353835, 3.9210874936477875, 3.9170532671598868, 3.917150529971827, 3.9181523436880648, 3.9169159732702226, 3.916753478198443, 3.9188444084904255, 3.918176547680955, 3.9191048806034856, 3.9184425334949062, 3.9195449496928876, 581.3912459650732, 558.8752643134563, 314.0737698940581, 236.42461393028051, 226.47541047854668, 201.45062495599015, 170.75418400047405, 149.54993709590048, 149.1332041874594, 141.28162044820436, 111.84541210077003, 96.29084347854173, 52.2814263866546, 3.917150966542392, 3.9170766693212498, 3.9193246037824094, 3.9177453629263073, 3.9169103990685485, 3.916741130240245, 3.916741130240245, 3.916762880508767, 3.9170532671598868, 3.917565008890743, 3.9168537820828027, 3.916729423920956, 3.9167251309438047, 3.91674316657383, 3.9169145427988914, 3.916828730987967, 3.917846014169231, 3.9184390135346696, 3.918107024607192, 3.918750789400375, 3.9203424259821946, 3.917595544233403, 1430.289013633603, 388.2950651514892, 266.3795805702892, 209.8508085718113, 116.63033838424832, 104.62378434564101, 68.03866605389209, 38.48389037142025, 22.091625961302995, 12.724856091650121, 3.9173216978174366, 3.9203424259821946, 3.9176834206426796, 3.9171900034021037, 3.916850779031982, 3.917172075823443, 3.916758679061505, 3.916796147627012, 3.9167997809755333, 3.9169593925872537, 3.9168365691997864, 3.9167456098455675, 3.91679267642824, 3.917053036264653, 3.9168336980241665, 3.9171731810323704, 3.917066484422715, 3.9170458400553896, 3.917487707995186, 3.917018659239478, 3.917793395045429, 3.9191048806034856, 3.918750789400375, 3.9181169552316546, 578.4359333684035, 308.11411375973904, 301.4543604424654, 278.8506012448328, 258.1319537251072, 214.16461955538438, 154.23585634568659, 142.82909891128816, 135.27414407686345, 89.9539571221306, 72.01495623708372, 3.9167633930599, 3.9177474115789015, 3.916986009350536, 3.917244194766305, 3.9167092922142963, 3.916827528229528, 3.9188444084904255, 3.9170190429812473, 3.917711412215547, 3.9170730267659017, 3.9168416096014056, 3.9168438703662933, 3.917565008890743, 3.9171627361863783, 3.9167164995603194, 3.9170220703213015, 3.916984504362639, 3.91687320069333, 3.9170172487019976, 3.9175372587621804, 3.9175012411716748, 3.9210874936477875, 3.9181523436880648, 3.9203424259821946, 3.918955279920618, 3.917801098589399, 985.1421791088103, 368.31872492486065, 246.13900287632345, 198.05637746048518, 168.06351184028816, 143.0637042278181, 136.07743379935857, 118.62917734572507, 94.06952980436243, 72.67095776540329, 3.9170558030798657, 3.9171255487955707, 3.9174012466954373, 3.9183155797863485, 3.91853903484104, 3.916860826068886, 3.916841382213166, 3.917846014169231, 3.916985121744272, 3.9210874936477875, 3.917122753804687, 3.917352468182811, 3.91756946482859, 3.9175464563290134, 3.917079857449711, 3.9167341643610323, 3.9167341548151438, 3.916893510434633, 3.9181523436880648, 3.9193246037824094, 3.918497614143412, 3.917076841951154, 3.9173689200776205, 3.918750789400375, 766.082883788143, 760.9157329194777, 224.91278086641609, 137.57631512839032, 76.02724545463283, 33.77973311929904, 27.933072900310048, 3.9210874936477875, 3.91853903484104, 3.917664938902073, 3.9171486213344155, 3.916998451192347, 3.9169802328423673, 3.9176342625374847, 3.9183155797863485, 3.9169413350027327, 3.9171158520179716, 3.9168601762778947, 3.9177335933573363, 3.9170374138368302, 3.917206484211394, 3.917022936812036, 3.9168626809061555, 3.917460320842522, 3.917146169626238, 3.9169135755292754, 3.916760459516351, 3.916785186609906, 3.9169363602043425, 3.916823459004895, 3.9181263321023807, 3.9170128267332833, 3.9170690114888718, 910.1057653684085, 471.30617658648936, 293.45418990218843, 135.71843921884744, 126.97324708403629, 68.6412850124098, 3.9203424259821946, 3.9185824167977588, 3.9170289609849624, 3.9171309989015937, 3.9170353278948946, 3.917223229576765, 3.917460320842522, 3.9184390135346696, 3.916850055917659, 3.9168534145284424, 3.9181263321023807, 3.9173454594833306, 3.9173689200776205, 3.9168281729803804, 3.916826827309806, 3.9168269348271556, 3.918497614143412, 3.9171869834252564, 3.9168095599604915, 3.9168095987059504, 3.9168096013408005, 3.9168105003476126, 3.916810097128675, 3.9168108141200486, 3.9169604499310546, 3.9177895112805836, 3.917448809260766, 3.917595544233403, 3.9176186851772496, 3.9179312103701363, 898.9867103698343, 692.3076038654021, 277.2187848929937, 39.11144800438401, 4.904003874528029, 4.441216350084163, 3.9195449496928876, 3.9171657859790985, 3.9170836843469496, 3.9172962565231724, 3.916916299342458, 3.9180917570093152, 3.91684453085501, 3.91684453085501, 3.9171591335245166, 3.9168524691010114, 3.9168681337053677, 3.9169274866648536, 3.9169421299992293, 3.9169973298713074, 3.9170571380589547, 3.917168673063204, 3.917244194766305, 3.9170730267659017, 3.9173454594833306, 3.9169343127938494, 3.916810774985943, 3.9168128242981948, 3.916882339676568, 3.916756461094752, 3.9210874936477875, 3.918750789400375, 3.9178769947612855, 3.9188444084904255, 982.3634746382519, 405.8552205797733, 159.09793525303388, 86.89308077436824, 75.23434695450798, 54.88493039671762, 49.58236896636285, 3.918107024607192, 3.9168903933628205, 3.916898264819376, 3.916957148681854, 3.9172435394238767, 3.91687320069333, 3.917993859353835, 3.9172511942792827, 3.916986009350536, 3.916936403383679, 3.916992854608214, 3.9169935677548398, 3.917070151394413, 3.9188444084904255, 3.91705037437502, 3.916946698016448, 3.9172662338995545, 3.9169633295139796, 3.9167132058063667, 3.916718899160148, 3.917471048225462, 3.9167671644180877, 3.9167246998951515, 3.917227823557656, 3.918955279920618, 3.9183574119179125, 3.9181523436880648, 3.9193246037824094, 854.1329439950557, 407.7781803941796, 178.16584677920898, 146.19117108133744, 136.40763803381245, 65.84540997036154, 3.9183574119179125, 3.9183155797863485, 3.9184390135346696, 3.9169685048792786, 3.917061666220889, 3.9169970838570936, 3.917352468182811, 3.9169246517397425, 3.916975402831798, 3.916985578794429, 3.916863753564144, 3.91756946482859, 3.9168547922168053, 3.9168547922168053, 3.917145402841816, 3.9210874936477875, 3.9168344789445246, 3.916835224866089, 3.9169038283090374, 3.916979883372654, 3.9169958924802106, 3.917034185160185, 3.917194737471935, 3.9169145575002795, 3.917256684035461, 3.917711412215547, 1478.6936570917562, 318.18679922288624, 3.918750789400375, 3.917148897468103, 3.91703768703157, 3.916911303587567, 3.916943123350975, 3.9170266842682757, 3.9168298457644273, 3.916839984676063, 3.916901623392712, 3.917012700068249, 3.91681767406391, 3.91681767406391, 3.916909922276436, 3.9170482395252075, 3.9169957946942953, 3.9179869256361326, 3.9174274572685706, 3.9167997518051, 3.917846014169231, 3.916833997498578, 3.9168641653015195, 3.9169102778096647, 3.9170446251395266, 3.9179605608878316, 3.9168067684999057, 3.918955279920618, 3.91725279195719, 3.916777932793699, 3.9169339444045073, 3.9181523436880648, 3.917082250239653, 3.9195449496928876, 833.6952109232518, 300.4193508862639, 284.69453683409995, 230.65588267858263, 3.9172514073766496, 3.916986265456859, 3.917172075823443, 3.9191048806034856, 3.917095993934401, 3.916840296075482, 3.916918048796281, 3.917150966542392, 3.917231696699724, 3.9173147870557443, 3.9168528790776223, 3.9179312103701363, 3.9168688698298464, 3.9169317951333946, 3.9174066993820795, 3.916875039187916, 3.916910246044166, 3.9172826555243576, 3.9173582978998063, 3.916982511374531, 3.9171633594775144, 3.9170712208658136, 3.9167962818396096, 3.917487707995186, 3.9183574119179125, 3.9179869256361326, 3.9210874936477875, 3.9179605608878316, 3.9195449496928876, 3.9193246037824094, 3.9203424259821946, 421.55508673662916, 317.3580861366105, 273.40834522787924, 169.70887655207235, 129.31675614113735, 118.5879529922266, 105.44457716784102, 3.9179835355849657, 3.917793395045429, 3.9181169552316546, 3.9188444084904255, 3.9203424259821946, 3.9173644223842654, 3.9172466809557047, 3.9172204282602903, 3.9177474115789015, 3.9171743381903616, 3.9168654944361694, 3.9175372587621804, 3.917051890728587, 3.917049416392989, 3.9177453629263073, 3.9170161304074504, 3.9168110636287, 3.9167940599600897, 3.9171726447726, 3.917086797391599, 3.9167801391679564, 3.9167825485574568, 3.9169090001399045, 3.918750789400375, 3.917448809260766, 3.918955279920618, 741.4576767239909, 156.42493889503672, 151.96871405060452, 143.99318338162814, 39.505682138905165, 3.917664821901402, 3.917319591808413, 3.917518889517894, 3.917471048225462, 3.917009320366372, 3.91725279195719, 3.9177453629263073, 3.9171221538168464, 3.917256684035461, 3.9172804253987104, 3.918080721100897, 3.918176547680955, 3.91688949607788, 3.916973789276759, 3.9170711801559666, 3.9175464563290134, 3.9173999707221485, 3.9172662338995545, 3.917754060574082, 3.9168815275554385, 3.9176186851772496, 3.9181263321023807, 3.916984461458346, 3.9169556968434076, 3.9171525308714044, 3.9171566380998795, 3.9193246037824094, 3.917558376473351, 496.5796517683965, 197.39966173557642, 3.9189557780279674, 3.9184425334949062, 3.9176830777484275, 3.9176329154781038, 3.9176380060865124, 3.91764517637407, 3.9177901424417954, 3.917773173931787, 3.917795183068499, 3.917778680327181, 3.9177888283274567, 3.9179096762836654, 3.9178769947612855, 3.9191048806034856, 3.9179233189797844, 3.9180585991529897, 3.9195449496928876, 3.9171787160196314, 3.9171791805547893, 3.9173406983588266, 3.9172956958345995, 3.9181903330207173, 3.9172045412624628, 3.9169503120157794, 3.9193246037824094, 3.9171519221142534, 3.9170503216914425, 3.916929088733962, 3.918955279920618, 200.69994532685607, 193.423084063506, 183.32262849713646, 76.9254083961191, 65.92839543578731, 3.9180838976814027, 3.9174129317722257, 3.9174946601312715, 3.9177363362563264, 3.9173030945440255, 3.9177616862445324, 3.917263421883603, 3.917265634663411, 3.918176547680955, 3.9174252112026364, 3.9170217468076034, 3.91705026712964, 3.917070276476731, 3.917076205187412, 3.917082956433107, 3.917081874917031, 3.917101233514215, 3.917106375495514, 3.9171979777027937, 3.9182169836996206, 3.916997904395502, 3.9169980005653353, 3.917801098589399, 3.9177895112805836, 3.917150796543696, 3.9210874936477875, 3.916582729558968, 3.916582729558968, 3.916582729558968, 3.916582729558968, 3.916582729558968, 3.916582729558968, 3.916582729558968, 3.916582729558968, 3.916582729558968, 3.916582729558968, 3.916582729558968, 3.916582729558968, 3.916582729558968, 3.916582729558968, 3.916582729558968, 3.916582729558968, 3.916582729558968, 3.916582729558968, 3.916582729558968, 3.916582729558968, 3.916582729558968, 3.916582729558968, 3.916582729558968, 3.916582729558968, 3.916582729558968, 3.916582729558968, 3.916582729558968, 3.916582729558968, 3.916582729558968, 3.916582729558968, 143.99318338162814, 151.96871405060452, 156.42493889503672, 39.505682138905165, 3.916582845795344, 3.9166006602906567, 198.05637746048518, 168.06351184028816, 3.916582795157074, 143.0637042278181, 985.1421791088103, 94.06952980436243, 3.9166259769095912, 3.9166095915870076, 3.9166714258599007, 129.31675614113735, 105.44457716784102, 3.916582845795344, 3.9165886693994723, 3.916641828113453, 3.916664242857332, 3.9167078416375753, 3.9166279527489594, 126.97324708403629, 3.916582958099784, 3.916620044213343, 3.9168045731150216, 115.259076755686, 575.3456211778627, 83.81289046707968, 3.916582729558968, 3.916582729558968, 3.916582729558968, 3.916582729558968, 3.916582729558968, 3.916582729558968, 3.916582729558968, 3.916582729558968, 3.916582729558968, 3.916582729558968, 3.916582729558968, 3.916582729558968, 3.916582729558968, 3.916582729558968, 3.916582729558968, 3.916582729558968, 3.916582729558968, 3.916582729558968, 3.916582729558968, 3.916582729558968, 3.916582729558968, 3.916582729558968, 3.916582729558968, 3.916582729558968, 3.916582729558968, 3.916582729558968, 3.916582729558968, 3.916582729558968, 3.916582729558968, 3.916582729558968, 143.99318338162814, 151.96871405060452, 156.42493889503672, 39.505682138905165, 3.916582845795344, 3.9166006602906567, 198.05637746048518, 168.06351184028816, 3.916582795157074, 143.0637042278181, 985.1421791088103, 94.06952980436243, 3.9166259769095912, 3.9166095915870076, 3.9166714258599007, 129.31675614113735, 105.44457716784102, 3.916582845795344, 3.9165886693994723, 3.916641828113453, 3.916664242857332, 3.9167078416375753, 3.9166279527489594, 126.97324708403629, 3.916582958099784, 3.916620044213343, 3.9168045731150216, 115.259076755686, 575.3456211778627, 83.81289046707968, 3.916582729558968, 3.916582729558968, 3.916582729558968, 3.916582729558968, 3.916582729558968, 3.916582729558968, 3.916582729558968, 3.916582729558968, 3.916582729558968, 3.916582729558968, 3.916582729558968, 3.916582729558968, 3.916582729558968, 3.916582729558968, 3.916582729558968, 3.916582729558968, 3.916582729558968, 3.916582729558968, 3.916582729558968, 3.916582729558968, 3.916582729558968, 3.916582729558968, 3.916582729558968, 3.916582729558968, 3.916582729558968, 3.916582729558968, 3.916582729558968, 3.916582729558968, 3.916582729558968, 3.916582729558968, 143.99318338162814, 151.96871405060452, 156.42493889503672, 39.505682138905165, 3.916582845795344, 3.9166006602906567, 198.05637746048518, 168.06351184028816, 3.916582795157074, 143.0637042278181, 985.1421791088103, 94.06952980436243, 3.9166259769095912, 3.9166095915870076, 3.9166714258599007, 129.31675614113735, 105.44457716784102, 3.916582845795344, 3.9165886693994723, 3.916641828113453, 3.916664242857332, 3.9167078416375753, 3.9166279527489594, 126.97324708403629, 3.916582958099784, 3.916620044213343, 3.9168045731150216, 115.259076755686, 575.3456211778627, 83.81289046707968], \"Category\": [\"Default\", \"Default\", \"Default\", \"Default\", \"Default\", \"Default\", \"Default\", \"Default\", \"Default\", \"Default\", \"Default\", \"Default\", \"Default\", \"Default\", \"Default\", \"Default\", \"Default\", \"Default\", \"Default\", \"Default\", \"Default\", \"Default\", \"Default\", \"Default\", \"Default\", \"Default\", \"Default\", \"Default\", \"Default\", \"Default\", \"Topic1\", \"Topic1\", \"Topic1\", \"Topic1\", \"Topic1\", \"Topic1\", \"Topic1\", \"Topic1\", \"Topic1\", \"Topic1\", \"Topic1\", \"Topic1\", \"Topic1\", \"Topic1\", \"Topic1\", \"Topic1\", \"Topic1\", \"Topic1\", \"Topic1\", \"Topic1\", \"Topic1\", \"Topic1\", \"Topic1\", \"Topic1\", \"Topic1\", \"Topic1\", \"Topic1\", \"Topic1\", \"Topic1\", \"Topic1\", \"Topic1\", \"Topic1\", \"Topic1\", \"Topic1\", \"Topic2\", \"Topic2\", \"Topic2\", \"Topic2\", \"Topic2\", \"Topic2\", \"Topic2\", \"Topic2\", \"Topic2\", \"Topic2\", \"Topic2\", \"Topic2\", \"Topic2\", \"Topic2\", \"Topic2\", \"Topic2\", \"Topic2\", \"Topic2\", \"Topic2\", \"Topic2\", \"Topic2\", \"Topic2\", \"Topic2\", \"Topic2\", \"Topic2\", \"Topic2\", \"Topic2\", \"Topic2\", \"Topic2\", \"Topic2\", \"Topic2\", \"Topic2\", \"Topic2\", \"Topic2\", \"Topic2\", \"Topic3\", \"Topic3\", \"Topic3\", \"Topic3\", \"Topic3\", \"Topic3\", \"Topic3\", \"Topic3\", \"Topic3\", \"Topic3\", \"Topic3\", \"Topic3\", \"Topic3\", \"Topic3\", \"Topic3\", \"Topic3\", \"Topic3\", \"Topic3\", \"Topic3\", \"Topic3\", \"Topic3\", \"Topic3\", \"Topic3\", \"Topic3\", \"Topic3\", \"Topic3\", \"Topic3\", \"Topic3\", \"Topic3\", \"Topic3\", \"Topic3\", \"Topic3\", \"Topic3\", \"Topic3\", \"Topic3\", \"Topic4\", \"Topic4\", \"Topic4\", \"Topic4\", \"Topic4\", \"Topic4\", \"Topic4\", \"Topic4\", \"Topic4\", \"Topic4\", \"Topic4\", \"Topic4\", \"Topic4\", \"Topic4\", \"Topic4\", \"Topic4\", \"Topic4\", \"Topic4\", \"Topic4\", \"Topic4\", \"Topic4\", \"Topic4\", \"Topic4\", \"Topic4\", \"Topic4\", \"Topic4\", \"Topic4\", \"Topic4\", \"Topic4\", \"Topic4\", \"Topic4\", \"Topic4\", \"Topic4\", \"Topic4\", \"Topic5\", \"Topic5\", \"Topic5\", \"Topic5\", \"Topic5\", \"Topic5\", \"Topic5\", \"Topic5\", \"Topic5\", \"Topic5\", \"Topic5\", \"Topic5\", \"Topic5\", \"Topic5\", \"Topic5\", \"Topic5\", \"Topic5\", \"Topic5\", \"Topic5\", \"Topic5\", \"Topic5\", \"Topic5\", \"Topic5\", \"Topic5\", \"Topic5\", \"Topic5\", \"Topic5\", \"Topic5\", \"Topic5\", \"Topic5\", \"Topic5\", \"Topic5\", \"Topic5\", \"Topic5\", \"Topic5\", \"Topic5\", \"Topic5\", \"Topic6\", \"Topic6\", \"Topic6\", \"Topic6\", \"Topic6\", \"Topic6\", \"Topic6\", \"Topic6\", \"Topic6\", \"Topic6\", \"Topic6\", \"Topic6\", \"Topic6\", \"Topic6\", \"Topic6\", \"Topic6\", \"Topic6\", \"Topic6\", \"Topic6\", \"Topic6\", \"Topic6\", \"Topic6\", \"Topic6\", \"Topic6\", \"Topic6\", \"Topic6\", \"Topic6\", \"Topic6\", \"Topic6\", \"Topic6\", \"Topic6\", \"Topic6\", \"Topic6\", \"Topic6\", \"Topic7\", \"Topic7\", \"Topic7\", \"Topic7\", \"Topic7\", \"Topic7\", \"Topic7\", \"Topic7\", \"Topic7\", \"Topic7\", \"Topic7\", \"Topic7\", \"Topic7\", \"Topic7\", \"Topic7\", \"Topic7\", \"Topic7\", \"Topic7\", \"Topic7\", \"Topic7\", \"Topic7\", \"Topic7\", \"Topic7\", \"Topic7\", \"Topic7\", \"Topic7\", \"Topic7\", \"Topic7\", \"Topic7\", \"Topic7\", \"Topic7\", \"Topic7\", \"Topic7\", \"Topic8\", \"Topic8\", \"Topic8\", \"Topic8\", \"Topic8\", \"Topic8\", \"Topic8\", \"Topic8\", \"Topic8\", \"Topic8\", \"Topic8\", \"Topic8\", \"Topic8\", \"Topic8\", \"Topic8\", \"Topic8\", \"Topic8\", \"Topic8\", \"Topic8\", \"Topic8\", \"Topic8\", \"Topic8\", \"Topic8\", \"Topic8\", \"Topic8\", \"Topic8\", \"Topic8\", \"Topic8\", \"Topic8\", \"Topic8\", \"Topic8\", \"Topic8\", \"Topic8\", \"Topic8\", \"Topic8\", \"Topic8\", \"Topic9\", \"Topic9\", \"Topic9\", \"Topic9\", \"Topic9\", \"Topic9\", \"Topic9\", \"Topic9\", \"Topic9\", \"Topic9\", \"Topic9\", \"Topic9\", \"Topic9\", \"Topic9\", \"Topic9\", \"Topic9\", \"Topic9\", \"Topic9\", \"Topic9\", \"Topic9\", \"Topic9\", \"Topic9\", \"Topic9\", \"Topic9\", \"Topic9\", \"Topic9\", \"Topic9\", \"Topic9\", \"Topic9\", \"Topic9\", \"Topic9\", \"Topic9\", \"Topic9\", \"Topic9\", \"Topic10\", \"Topic10\", \"Topic10\", \"Topic10\", \"Topic10\", \"Topic10\", \"Topic10\", \"Topic10\", \"Topic10\", \"Topic10\", \"Topic10\", \"Topic10\", \"Topic10\", \"Topic10\", \"Topic10\", \"Topic10\", \"Topic10\", \"Topic10\", \"Topic10\", \"Topic10\", \"Topic10\", \"Topic10\", \"Topic10\", \"Topic10\", \"Topic10\", \"Topic10\", \"Topic10\", \"Topic10\", \"Topic10\", \"Topic10\", \"Topic10\", \"Topic10\", \"Topic10\", \"Topic10\", \"Topic10\", \"Topic11\", \"Topic11\", \"Topic11\", \"Topic11\", \"Topic11\", \"Topic11\", \"Topic11\", \"Topic11\", \"Topic11\", \"Topic11\", \"Topic11\", \"Topic11\", \"Topic11\", \"Topic11\", \"Topic11\", \"Topic11\", \"Topic11\", \"Topic11\", \"Topic11\", \"Topic11\", \"Topic11\", \"Topic11\", \"Topic11\", \"Topic11\", \"Topic11\", \"Topic11\", \"Topic11\", \"Topic11\", \"Topic11\", \"Topic11\", \"Topic11\", \"Topic11\", \"Topic12\", \"Topic12\", \"Topic12\", \"Topic12\", \"Topic12\", \"Topic12\", \"Topic12\", \"Topic12\", \"Topic12\", \"Topic12\", \"Topic12\", \"Topic12\", \"Topic12\", \"Topic12\", \"Topic12\", \"Topic12\", \"Topic12\", \"Topic12\", \"Topic12\", \"Topic12\", \"Topic12\", \"Topic12\", \"Topic12\", \"Topic12\", \"Topic12\", \"Topic12\", \"Topic12\", \"Topic12\", \"Topic12\", \"Topic12\", \"Topic12\", \"Topic12\", \"Topic12\", \"Topic12\", \"Topic13\", \"Topic13\", \"Topic13\", \"Topic13\", \"Topic13\", \"Topic13\", \"Topic13\", \"Topic13\", \"Topic13\", \"Topic13\", \"Topic13\", \"Topic13\", \"Topic13\", \"Topic13\", \"Topic13\", \"Topic13\", \"Topic13\", \"Topic13\", \"Topic13\", \"Topic13\", \"Topic13\", \"Topic13\", \"Topic13\", \"Topic13\", \"Topic13\", \"Topic13\", \"Topic13\", \"Topic13\", \"Topic13\", \"Topic13\", \"Topic13\", \"Topic13\", \"Topic13\", \"Topic13\", \"Topic13\", \"Topic14\", \"Topic14\", \"Topic14\", \"Topic14\", \"Topic14\", \"Topic14\", \"Topic14\", \"Topic14\", \"Topic14\", \"Topic14\", \"Topic14\", \"Topic14\", \"Topic14\", \"Topic14\", \"Topic14\", \"Topic14\", \"Topic14\", \"Topic14\", \"Topic14\", \"Topic14\", \"Topic14\", \"Topic14\", \"Topic14\", \"Topic14\", \"Topic14\", \"Topic14\", \"Topic14\", \"Topic14\", \"Topic14\", \"Topic14\", \"Topic14\", \"Topic14\", \"Topic14\", \"Topic15\", \"Topic15\", \"Topic15\", \"Topic15\", \"Topic15\", \"Topic15\", \"Topic15\", \"Topic15\", \"Topic15\", \"Topic15\", \"Topic15\", \"Topic15\", \"Topic15\", \"Topic15\", \"Topic15\", \"Topic15\", \"Topic15\", \"Topic15\", \"Topic15\", \"Topic15\", \"Topic15\", \"Topic15\", \"Topic15\", \"Topic15\", \"Topic15\", \"Topic15\", \"Topic15\", \"Topic15\", \"Topic15\", \"Topic15\", \"Topic15\", \"Topic15\", \"Topic15\", \"Topic16\", \"Topic16\", \"Topic16\", \"Topic16\", \"Topic16\", \"Topic16\", \"Topic16\", \"Topic16\", \"Topic16\", \"Topic16\", \"Topic16\", \"Topic16\", \"Topic16\", \"Topic16\", \"Topic16\", \"Topic16\", \"Topic16\", \"Topic16\", \"Topic16\", \"Topic16\", \"Topic16\", \"Topic16\", \"Topic16\", \"Topic16\", \"Topic16\", \"Topic16\", \"Topic16\", \"Topic16\", \"Topic16\", \"Topic16\", \"Topic16\", \"Topic17\", \"Topic17\", \"Topic17\", \"Topic17\", \"Topic17\", \"Topic17\", \"Topic17\", \"Topic17\", \"Topic17\", \"Topic17\", \"Topic17\", \"Topic17\", \"Topic17\", \"Topic17\", \"Topic17\", \"Topic17\", \"Topic17\", \"Topic17\", \"Topic17\", \"Topic17\", \"Topic17\", \"Topic17\", \"Topic17\", \"Topic17\", \"Topic17\", \"Topic17\", \"Topic17\", \"Topic17\", \"Topic17\", \"Topic17\", \"Topic17\", \"Topic18\", \"Topic18\", \"Topic18\", \"Topic18\", \"Topic18\", \"Topic18\", \"Topic18\", \"Topic18\", \"Topic18\", \"Topic18\", \"Topic18\", \"Topic18\", \"Topic18\", \"Topic18\", \"Topic18\", \"Topic18\", \"Topic18\", \"Topic18\", \"Topic18\", \"Topic18\", \"Topic18\", \"Topic18\", \"Topic18\", \"Topic18\", \"Topic18\", \"Topic18\", \"Topic18\", \"Topic18\", \"Topic18\", \"Topic18\", \"Topic18\", \"Topic18\", \"Topic18\", \"Topic18\", \"Topic18\", \"Topic18\", \"Topic18\", \"Topic18\", \"Topic18\", \"Topic18\", \"Topic18\", \"Topic18\", \"Topic18\", \"Topic18\", \"Topic18\", \"Topic18\", \"Topic18\", \"Topic18\", \"Topic18\", \"Topic18\", \"Topic18\", \"Topic18\", \"Topic18\", \"Topic18\", \"Topic18\", \"Topic18\", \"Topic18\", \"Topic18\", \"Topic18\", \"Topic18\", \"Topic19\", \"Topic19\", \"Topic19\", \"Topic19\", \"Topic19\", \"Topic19\", \"Topic19\", \"Topic19\", \"Topic19\", \"Topic19\", \"Topic19\", \"Topic19\", \"Topic19\", \"Topic19\", \"Topic19\", \"Topic19\", \"Topic19\", \"Topic19\", \"Topic19\", \"Topic19\", \"Topic19\", \"Topic19\", \"Topic19\", \"Topic19\", \"Topic19\", \"Topic19\", \"Topic19\", \"Topic19\", \"Topic19\", \"Topic19\", \"Topic19\", \"Topic19\", \"Topic19\", \"Topic19\", \"Topic19\", \"Topic19\", \"Topic19\", \"Topic19\", \"Topic19\", \"Topic19\", \"Topic19\", \"Topic19\", \"Topic19\", \"Topic19\", \"Topic19\", \"Topic19\", \"Topic19\", \"Topic19\", \"Topic19\", \"Topic19\", \"Topic19\", \"Topic19\", \"Topic19\", \"Topic19\", \"Topic19\", \"Topic19\", \"Topic19\", \"Topic19\", \"Topic19\", \"Topic19\", \"Topic20\", \"Topic20\", \"Topic20\", \"Topic20\", \"Topic20\", \"Topic20\", \"Topic20\", \"Topic20\", \"Topic20\", \"Topic20\", \"Topic20\", \"Topic20\", \"Topic20\", \"Topic20\", \"Topic20\", \"Topic20\", \"Topic20\", \"Topic20\", \"Topic20\", \"Topic20\", \"Topic20\", \"Topic20\", \"Topic20\", \"Topic20\", \"Topic20\", \"Topic20\", \"Topic20\", \"Topic20\", \"Topic20\", \"Topic20\", \"Topic20\", \"Topic20\", \"Topic20\", \"Topic20\", \"Topic20\", \"Topic20\", \"Topic20\", \"Topic20\", \"Topic20\", \"Topic20\", \"Topic20\", \"Topic20\", \"Topic20\", \"Topic20\", \"Topic20\", \"Topic20\", \"Topic20\", \"Topic20\", \"Topic20\", \"Topic20\", \"Topic20\", \"Topic20\", \"Topic20\", \"Topic20\", \"Topic20\", \"Topic20\", \"Topic20\", \"Topic20\", \"Topic20\", \"Topic20\"], \"logprob\": [30.0, 29.0, 28.0, 27.0, 26.0, 25.0, 24.0, 23.0, 22.0, 21.0, 20.0, 19.0, 18.0, 17.0, 16.0, 15.0, 14.0, 13.0, 12.0, 11.0, 10.0, 9.0, 8.0, 7.0, 6.0, 5.0, 4.0, 3.0, 2.0, 1.0, -1.4431, -1.8263, -2.3932, -2.6053, -2.9083, -2.9221, -3.3587, -3.3988, -3.4609, -3.5485, -3.7336, -3.7922, -4.5374, -5.2887, -10.1305, -10.131, -10.1308, -10.1323, -10.1323, -10.1323, -10.132, -10.1325, -10.1322, -10.1325, -10.1325, -10.1327, -10.1327, -10.1327, -10.1326, -10.1324, -10.1323, -10.1325, -10.1326, -10.1325, -1.3425, -1.7932, -2.2324, -2.377, -2.3871, -2.496, -3.3015, -4.121, -4.3564, -4.616, -10.2585, -10.259, -10.2591, -10.2594, -10.2596, -10.2596, -10.2598, -10.2599, -10.2601, -10.2601, -10.2602, -10.2601, -10.26, -10.26, -10.2592, -10.2603, -10.2602, -10.26, -10.2603, -10.2604, -10.2598, -10.26, -10.2598, -10.2601, -10.2601, -1.7843, -1.824, -2.4057, -2.6937, -2.7374, -2.8566, -3.0253, -3.1611, -3.164, -3.2195, -3.4604, -3.6158, -4.2615, -10.0866, -10.0871, -10.0865, -10.0872, -10.0875, -10.0875, -10.0875, -10.0875, -10.0875, -10.0873, -10.0875, -10.0876, -10.0876, -10.0876, -10.0876, -10.0876, -10.0874, -10.0872, -10.0873, -10.0873, -10.0871, -10.0876, -0.7685, -2.0795, -2.4608, -2.7032, -3.3054, -3.4179, -3.8686, -4.4848, -5.1242, -5.841, -10.0637, -10.0632, -10.064, -10.0644, -10.0654, -10.0653, -10.0655, -10.0655, -10.0655, -10.0655, -10.0655, -10.0655, -10.0655, -10.0655, -10.0655, -10.0655, -10.0655, -10.0655, -10.0655, -10.0656, -10.0655, -10.0652, -10.0653, -10.0654, -1.6635, -2.2991, -2.3213, -2.4002, -2.4785, -2.6683, -3.0035, -3.0824, -3.1382, -3.5607, -3.7941, -9.8816, -9.8816, -9.8818, -9.8818, -9.882, -9.882, -9.8815, -9.882, -9.8818, -9.882, -9.882, -9.8821, -9.8819, -9.882, -9.8821, -9.8821, -9.8821, -9.8821, -9.8821, -9.882, -9.882, -9.8813, -9.8819, -9.8815, -9.8818, -9.882, -1.1099, -2.1002, -2.5084, -2.7295, -2.8972, -3.0623, -3.1137, -3.2552, -3.4958, -3.7663, -9.9713, -9.972, -9.9719, -9.9717, -9.9718, -9.9723, -9.9724, -9.9721, -9.9723, -9.9713, -9.9723, -9.9723, -9.9724, -9.9725, -9.9727, -9.9728, -9.9728, -9.9727, -9.9724, -9.9721, -9.9724, -9.9727, -9.9727, -9.9726, -1.2266, -1.2334, -2.4641, -2.9664, -3.5824, -4.4607, -4.6772, -9.6222, -9.6229, -9.624, -9.6264, -9.6264, -9.6265, -9.6267, -9.6265, -9.6269, -9.6272, -9.6273, -9.627, -9.6273, -9.6275, -9.6276, -9.6276, -9.6276, -9.6277, -9.6278, -9.6278, -9.6278, -9.6278, -9.6278, -9.6276, -9.6278, -9.6278, -1.0332, -1.6951, -2.1738, -2.9601, -3.0286, -3.67, -9.6643, -9.6653, -9.6669, -9.6671, -9.6672, -9.6674, -9.6675, -9.6673, -9.6677, -9.6677, -9.6674, -9.6677, -9.6677, -9.6679, -9.6679, -9.6679, -9.6675, -9.6678, -9.668, -9.668, -9.668, -9.668, -9.668, -9.668, -9.6679, -9.6678, -9.6679, -9.6679, -9.6679, -9.6679, -0.9996, -1.2621, -2.1855, -4.2314, -7.6646, -8.1847, -9.6639, -9.6658, -9.6665, -9.6665, -9.6668, -9.6665, -9.6672, -9.6672, -9.6671, -9.6672, -9.6672, -9.6672, -9.6672, -9.6672, -9.6672, -9.6672, -9.6673, -9.6675, -9.6674, -9.6676, -9.6677, -9.6677, -9.6677, -9.6678, -9.6668, -9.6675, -9.6676, -9.6677, -0.9016, -1.791, -2.742, -3.3671, -3.5181, -3.8531, -3.9625, -9.5102, -9.5117, -9.5117, -9.5117, -9.5118, -9.512, -9.5117, -9.5119, -9.512, -9.512, -9.512, -9.512, -9.512, -9.5116, -9.512, -9.5121, -9.512, -9.5121, -9.5122, -9.5122, -9.512, -9.5122, -9.5122, -9.5121, -9.5118, -9.5119, -9.512, -9.512, -1.03, -1.7742, -2.6142, -2.8167, -2.8879, -3.6469, -9.5073, -9.5097, -9.5101, -9.511, -9.511, -9.511, -9.5109, -9.5111, -9.5111, -9.5111, -9.5111, -9.511, -9.5112, -9.5112, -9.5111, -9.5102, -9.5113, -9.5113, -9.5113, -9.5113, -9.5114, -9.5115, -9.5115, -9.5115, -9.5115, -9.5114, -0.4628, -2.0084, -9.6006, -9.6021, -9.6023, -9.6024, -9.6024, -9.6024, -9.6026, -9.6026, -9.6026, -9.6026, -9.6027, -9.6027, -9.6027, -9.6026, -9.6027, -9.6024, -9.6026, -9.6028, -9.6025, -9.6028, -9.6028, -9.6028, -9.6028, -9.6026, -9.6029, -9.6024, -9.6028, -9.6029, -9.6029, -9.6026, -9.6029, -9.6027, -0.9701, -1.9989, -2.0533, -2.267, -9.5298, -9.5305, -9.5305, -9.5302, -9.5313, -9.5314, -9.5314, -9.5314, -9.5314, -9.5314, -9.5316, -9.5313, -9.5316, -9.5316, -9.5315, -9.5318, -9.5318, -9.5317, -9.5317, -9.5318, -9.5317, -9.5318, -9.5319, -9.5318, -9.5316, -9.5317, -9.531, -9.5317, -9.5314, -9.5315, -9.5314, -1.6077, -1.8946, -2.0456, -2.531, -2.8099, -2.8992, -3.0207, -9.4385, -9.4426, -9.4428, -9.4431, -9.4429, -9.444, -9.4441, -9.4442, -9.4441, -9.4443, -9.4446, -9.4444, -9.4446, -9.4446, -9.4446, -9.4448, -9.4448, -9.4449, -9.4448, -9.4449, -9.445, -9.445, -9.445, -9.4445, -9.4449, -9.4448, -0.9568, -2.5318, -2.5614, -2.6167, -3.9827, -9.1565, -9.1591, -9.159, -9.1591, -9.1596, -9.1596, -9.1596, -9.1598, -9.1598, -9.1598, -9.1596, -9.1596, -9.1601, -9.1602, -9.1602, -9.1601, -9.1602, -9.1603, -9.1602, -9.1604, -9.1603, -9.1602, -9.1605, -9.1606, -9.1605, -9.1605, -9.1604, -9.1605, -1.1675, -2.1014, -8.7214, -8.7251, -8.7255, -8.7255, -8.7255, -8.7255, -8.7255, -8.7255, -8.7255, -8.7255, -8.7255, -8.7255, -8.7255, -8.7252, -8.7255, -8.7255, -8.7255, -8.7277, -8.7277, -8.7277, -8.7278, -8.7277, -8.728, -8.7282, -8.7276, -8.7282, -8.7284, -8.7285, -8.7285, -2.0463, -2.0839, -2.1386, -3.0358, -3.1985, -8.7723, -8.7738, -8.7738, -8.7738, -8.7743, -8.7742, -8.7744, -8.7744, -8.7742, -8.7744, -8.7755, -8.7755, -8.7755, -8.7755, -8.7755, -8.7755, -8.7755, -8.7755, -8.7755, -8.7752, -8.7756, -8.7756, -8.7754, -8.7755, -8.7757, -8.7757, -8.1619, -8.1619, -8.1619, -8.1619, -8.1619, -8.1619, -8.1619, -8.1619, -8.1619, -8.1619, -8.1619, -8.1619, -8.1619, -8.1619, -8.1619, -8.1619, -8.1619, -8.1619, -8.1619, -8.1619, -8.1619, -8.1619, -8.1619, -8.1619, -8.1619, -8.1619, -8.1619, -8.1619, -8.1619, -8.1619, -8.1619, -8.1619, -8.1619, -8.1619, -8.1619, -8.1619, -8.1619, -8.1619, -8.1619, -8.1619, -8.1619, -8.1619, -8.1619, -8.1619, -8.1619, -8.1619, -8.1619, -8.1619, -8.1619, -8.1619, -8.1619, -8.1619, -8.1619, -8.1619, -8.1619, -8.1619, -8.1619, -8.1619, -8.1619, -8.1619, -8.1619, -8.1619, -8.1619, -8.1619, -8.1619, -8.1619, -8.1619, -8.1619, -8.1619, -8.1619, -8.1619, -8.1619, -8.1619, -8.1619, -8.1619, -8.1619, -8.1619, -8.1619, -8.1619, -8.1619, -8.1619, -8.1619, -8.1619, -8.1619, -8.1619, -8.1619, -8.1619, -8.1619, -8.1619, -8.1619, -8.1619, -8.1619, -8.1619, -8.1619, -8.1619, -8.1619, -8.1619, -8.1619, -8.1619, -8.1619, -8.1619, -8.1619, -8.1619, -8.1619, -8.1619, -8.1619, -8.1619, -8.1619, -8.1619, -8.1619, -8.1619, -8.1619, -8.1619, -8.1619, -8.1619, -8.1619, -8.1619, -8.1619, -8.1619, -8.1619, -8.1619, -8.1619, -8.1619, -8.1619, -8.1619, -8.1619, -8.1619, -8.1619, -8.1619, -8.1619, -8.1619, -8.1619, -8.1619, -8.1619, -8.1619, -8.1619, -8.1619, -8.1619, -8.1619, -8.1619, -8.1619, -8.1619, -8.1619, -8.1619, -8.1619, -8.1619, -8.1619, -8.1619, -8.1619, -8.1619, -8.1619, -8.1619, -8.1619, -8.1619, -8.1619, -8.1619, -8.1619, -8.1619, -8.1619, -8.1619, -8.1619, -8.1619, -8.1619, -8.1619, -8.1619, -8.1619, -8.1619, -8.1619, -8.1619, -8.1619, -8.1619, -8.1619, -8.1619, -8.1619, -8.1619, -8.1619, -8.1619, -8.1619, -8.1619, -8.1619], \"loglift\": [30.0, 29.0, 28.0, 27.0, 26.0, 25.0, 24.0, 23.0, 22.0, 21.0, 20.0, 19.0, 18.0, 17.0, 16.0, 15.0, 14.0, 13.0, 12.0, 11.0, 10.0, 9.0, 8.0, 7.0, 6.0, 5.0, 4.0, 3.0, 2.0, 1.0, 2.586, 2.5839, 2.5789, 2.5762, 2.5712, 2.5709, 2.5604, 2.5592, 2.5572, 2.5542, 2.547, 2.5444, 2.4958, 2.3993, -0.7307, -0.7313, -0.7317, -0.7324, -0.7324, -0.7325, -0.7325, -0.7326, -0.7326, -0.7326, -0.7327, -0.7327, -0.7327, -0.7328, -0.7328, -0.7328, -0.7328, -0.7328, -0.7331, -0.7337, 2.6027, 2.6004, 2.5968, 2.5952, 2.5951, 2.5938, 2.5778, 2.5421, 2.5256, 2.5027, -0.8591, -0.8593, -0.8595, -0.8596, -0.8597, -0.8597, -0.8599, -0.86, -0.8601, -0.8602, -0.8602, -0.8602, -0.8602, -0.8603, -0.8603, -0.8604, -0.8604, -0.8604, -0.8604, -0.8604, -0.8604, -0.8604, -0.8605, -0.8605, -0.8609, 2.6155, 2.6153, 2.6099, 2.6059, 2.6052, 2.6031, 2.5997, 2.5965, 2.5964, 2.595, 2.5877, 2.5821, 2.5471, -0.6867, -0.6872, -0.6872, -0.6875, -0.6875, -0.6875, -0.6875, -0.6876, -0.6876, -0.6876, -0.6876, -0.6876, -0.6876, -0.6876, -0.6877, -0.6877, -0.6877, -0.6877, -0.6877, -0.6879, -0.6881, -0.6878, 2.7311, 2.724, 2.7195, 2.7156, 2.7008, 2.6969, 2.6765, 2.6302, 2.5458, 2.3807, -0.6639, -0.6642, -0.6643, -0.6646, -0.6655, -0.6655, -0.6655, -0.6655, -0.6655, -0.6655, -0.6655, -0.6655, -0.6656, -0.6656, -0.6656, -0.6656, -0.6656, -0.6656, -0.6657, -0.6657, -0.6657, -0.6659, -0.6659, -0.6658, 2.7414, 2.7356, 2.7354, 2.7343, 2.7332, 2.7302, 2.7232, 2.7212, 2.7197, 2.7052, 2.6943, -0.4816, -0.4818, -0.4819, -0.482, -0.482, -0.482, -0.482, -0.482, -0.4821, -0.4821, -0.4821, -0.4821, -0.4821, -0.4821, -0.4822, -0.4822, -0.4822, -0.4822, -0.4822, -0.4822, -0.4822, -0.4825, -0.4823, -0.4825, -0.4824, -0.4823, 2.7626, 2.7561, 2.751, 2.7472, 2.7437, 2.7397, 2.7383, 2.7341, 2.7254, 2.713, -0.5714, -0.5721, -0.5721, -0.5722, -0.5723, -0.5724, -0.5724, -0.5724, -0.5724, -0.5725, -0.5725, -0.5725, -0.5727, -0.5727, -0.5728, -0.5728, -0.5728, -0.5728, -0.5728, -0.5728, -0.5729, -0.5728, -0.5729, -0.5732, 2.8973, 2.8973, 2.8854, 2.8746, 2.8517, 2.7847, 2.7583, -0.2234, -0.2234, -0.2243, -0.2265, -0.2265, -0.2266, -0.2269, -0.2269, -0.227, -0.2273, -0.2273, -0.2273, -0.2274, -0.2276, -0.2277, -0.2277, -0.2278, -0.2278, -0.2279, -0.2279, -0.2279, -0.2279, -0.2279, -0.2279, -0.2279, -0.2279, 2.9185, 2.9146, 2.9098, 2.8946, 2.8926, 2.8664, -0.2652, -0.2658, -0.267, -0.2673, -0.2673, -0.2676, -0.2678, -0.2678, -0.2678, -0.2678, -0.2678, -0.2679, -0.2679, -0.2679, -0.2679, -0.2679, -0.2679, -0.268, -0.268, -0.268, -0.268, -0.268, -0.268, -0.268, -0.268, -0.2681, -0.2681, -0.2681, -0.2681, -0.2682, 2.9644, 2.9631, 2.9549, 2.8674, 1.5106, 1.0896, -0.2647, -0.2659, -0.2666, -0.2667, -0.2669, -0.2669, -0.2672, -0.2672, -0.2672, -0.2673, -0.2673, -0.2673, -0.2673, -0.2673, -0.2673, -0.2674, -0.2674, -0.2676, -0.2676, -0.2677, -0.2677, -0.2677, -0.2678, -0.2678, -0.268, -0.268, -0.268, -0.2682, 2.9737, 2.9682, 2.9537, 2.9335, 2.9265, 2.9069, 2.8991, -0.1106, -0.1118, -0.1118, -0.1118, -0.112, -0.112, -0.112, -0.112, -0.112, -0.1121, -0.1121, -0.1121, -0.1121, -0.1121, -0.1121, -0.1121, -0.1121, -0.1122, -0.1122, -0.1122, -0.1122, -0.1122, -0.1122, -0.1122, -0.1124, -0.1124, -0.1124, -0.1127, 2.9851, 2.9803, 2.9683, 2.9636, 2.9617, 2.931, -0.1077, -0.1101, -0.1105, -0.1111, -0.1111, -0.1111, -0.1111, -0.1111, -0.1112, -0.1112, -0.1112, -0.1112, -0.1112, -0.1112, -0.1113, -0.1113, -0.1113, -0.1113, -0.1114, -0.1114, -0.1115, -0.1116, -0.1116, -0.1116, -0.1116, -0.1116, 3.0035, 2.9942, -0.2012, -0.2022, -0.2024, -0.2025, -0.2025, -0.2025, -0.2026, -0.2026, -0.2027, -0.2027, -0.2027, -0.2027, -0.2027, -0.2027, -0.2028, -0.2028, -0.2028, -0.2028, -0.2028, -0.2029, -0.2029, -0.2029, -0.2029, -0.2029, -0.2029, -0.2029, -0.203, -0.203, -0.203, -0.203, -0.203, -0.2035, 3.0692, 3.0612, 3.0605, 3.0573, -0.13, -0.1306, -0.1306, -0.1309, -0.1314, -0.1315, -0.1315, -0.1315, -0.1316, -0.1316, -0.1316, -0.1316, -0.1316, -0.1317, -0.1317, -0.1318, -0.1318, -0.1319, -0.1319, -0.1319, -0.1319, -0.1319, -0.1319, -0.132, -0.132, -0.132, -0.1322, -0.132, -0.1321, -0.1322, -0.1323, 3.1136, 3.1106, 3.1087, 3.1002, 3.0931, 3.0904, 3.0863, -0.0388, -0.0429, -0.0431, -0.0437, -0.0438, -0.0441, -0.0442, -0.0443, -0.0443, -0.0444, -0.0446, -0.0447, -0.0447, -0.0447, -0.0449, -0.0449, -0.0449, -0.0449, -0.0449, -0.045, -0.045, -0.045, -0.045, -0.045, -0.0451, -0.0454, 3.1999, 3.1809, 3.1801, 3.1788, 3.1061, 0.2433, 0.2408, 0.2407, 0.2407, 0.2403, 0.2403, 0.2401, 0.2401, 0.2401, 0.2401, 0.24, 0.24, 0.2398, 0.2397, 0.2397, 0.2396, 0.2396, 0.2396, 0.2395, 0.2395, 0.2395, 0.2394, 0.2394, 0.2394, 0.2393, 0.2393, 0.2389, 0.2392, 3.39, 3.3786, 0.678, 0.6744, 0.6743, 0.6743, 0.6743, 0.6743, 0.6743, 0.6742, 0.6742, 0.6742, 0.6742, 0.6742, 0.6742, 0.6742, 0.6742, 0.6742, 0.6738, 0.6722, 0.6722, 0.6721, 0.6721, 0.6719, 0.6719, 0.6717, 0.6717, 0.6717, 0.6715, 0.6714, 0.6709, 3.4171, 3.4164, 3.4154, 3.3866, 3.3782, 0.6273, 0.626, 0.626, 0.6259, 0.6256, 0.6255, 0.6254, 0.6254, 0.6254, 0.6254, 0.6244, 0.6244, 0.6244, 0.6244, 0.6244, 0.6244, 0.6244, 0.6244, 0.6244, 0.6244, 0.6243, 0.6243, 0.6243, 0.6242, 0.6241, 0.6231, 1.2381, 1.2381, 1.2381, 1.2381, 1.2381, 1.2381, 1.2381, 1.2381, 1.2381, 1.2381, 1.2381, 1.2381, 1.2381, 1.2381, 1.2381, 1.2381, 1.2381, 1.2381, 1.2381, 1.2381, 1.2381, 1.2381, 1.2381, 1.2381, 1.2381, 1.2381, 1.2381, 1.2381, 1.2381, 1.2381, -2.3665, -2.4204, -2.4493, -1.0732, 1.2381, 1.2381, -2.6853, -2.5211, 1.2381, -2.36, -4.2895, -1.9407, 1.2381, 1.2381, 1.238, -2.259, -2.0549, 1.2381, 1.2381, 1.2381, 1.2381, 1.238, 1.2381, -2.2407, 1.2381, 1.2381, 1.238, -2.1439, -3.7517, -1.8253, 1.2381, 1.2381, 1.2381, 1.2381, 1.2381, 1.2381, 1.2381, 1.2381, 1.2381, 1.2381, 1.2381, 1.2381, 1.2381, 1.2381, 1.2381, 1.2381, 1.2381, 1.2381, 1.2381, 1.2381, 1.2381, 1.2381, 1.2381, 1.2381, 1.2381, 1.2381, 1.2381, 1.2381, 1.2381, 1.2381, -2.3665, -2.4204, -2.4493, -1.0732, 1.2381, 1.2381, -2.6853, -2.5211, 1.2381, -2.36, -4.2895, -1.9407, 1.2381, 1.2381, 1.238, -2.259, -2.0549, 1.2381, 1.2381, 1.2381, 1.2381, 1.238, 1.2381, -2.2407, 1.2381, 1.2381, 1.238, -2.1439, -3.7517, -1.8253, 1.2381, 1.2381, 1.2381, 1.2381, 1.2381, 1.2381, 1.2381, 1.2381, 1.2381, 1.2381, 1.2381, 1.2381, 1.2381, 1.2381, 1.2381, 1.2381, 1.2381, 1.2381, 1.2381, 1.2381, 1.2381, 1.2381, 1.2381, 1.2381, 1.2381, 1.2381, 1.2381, 1.2381, 1.2381, 1.2381, -2.3665, -2.4204, -2.4493, -1.0732, 1.2381, 1.2381, -2.6853, -2.5211, 1.2381, -2.36, -4.2895, -1.9407, 1.2381, 1.2381, 1.238, -2.259, -2.0549, 1.2381, 1.2381, 1.2381, 1.2381, 1.238, 1.2381, -2.2407, 1.2381, 1.2381, 1.238, -2.1439, -3.7517, -1.8253]}, \"token.table\": {\"Topic\": [4, 3, 5, 5, 3, 7, 10, 6, 5, 17, 8, 4, 2, 10, 1, 5, 7, 11, 1, 2, 2, 6, 11, 9, 7, 14, 1, 5, 2, 4, 5, 4, 15, 16, 4, 11, 8, 13, 10, 9, 13, 4, 14, 6, 5, 8, 6, 4, 3, 2, 16, 14, 11, 1, 5, 1, 17, 7, 9, 6, 2, 1, 10, 5, 10, 1, 2, 3, 6, 17, 9, 6, 4, 3, 3, 13, 7, 6, 3, 5, 6, 1, 11, 4, 8, 17, 11, 9, 9, 1, 12, 3, 15, 10, 4, 3, 15, 8, 3, 1, 1, 2, 1, 2, 3, 14, 7, 14, 14, 2, 3, 17, 10, 14, 5, 15, 12, 1, 3, 8, 7, 6, 13, 1, 15], \"Freq\": [0.7072771538772591, 0.9780141024218555, 0.994059958639853, 0.9442482999799944, 0.9658239209497101, 0.9470289179813047, 0.99050099546763, 0.9795190767775479, 0.9560446560815294, 0.9404142113603619, 0.9726018126921471, 0.9653636659359475, 0.9878000230771259, 0.9742426873955566, 0.972298453322964, 0.9757962314290965, 0.9948539204144803, 0.9907347166282231, 0.982295879577804, 0.9875749253543052, 0.9128252956983042, 0.9758215700969658, 0.9766181518258576, 0.9952223493618522, 0.9946704411826122, 0.9894186211623265, 0.909805980891883, 0.9866474349080058, 0.9909815201081834, 0.9977004552211114, 0.9839928623113918, 0.9688731213975572, 0.9953366499093137, 0.9927913845127386, 0.8147883741798757, 0.9750187153525247, 0.9882292023046604, 0.9955676716444615, 0.9965761403746302, 0.8948786553767287, 0.9841500566292641, 0.9915140174387649, 0.9875338654164397, 0.9700359296503885, 0.9805541197045977, 0.992985076897496, 0.9715951418303348, 0.9406416044269131, 0.9930659584331096, 0.9742199953687256, 0.9827777732459827, 0.9915667326798259, 0.9415994224640344, 0.9666344393417924, 0.9731910448187703, 0.9949353648523462, 0.9489712374888459, 0.8591965547669339, 0.9847817495678651, 0.9909895297190289, 0.9930936715266346, 0.9802582572145795, 0.9551968840364028, 0.9725365006163494, 0.9437179011194399, 0.9630477974006859, 0.988475319752611, 0.9846543584082569, 0.9831842868137272, 0.9823026083981677, 0.2039150101805827, 0.9957953489388126, 0.9873129142892488, 0.987029257822351, 0.9828711131735431, 0.9886180737819434, 0.8881064836732058, 0.9567391288887498, 0.9767724886096741, 0.9861911675010092, 0.9694073799808252, 0.9847153105527089, 0.9713308878344946, 0.9094714609724713, 0.9469519690409135, 0.9818755135447539, 0.9951612403852208, 0.2251635410603335, 0.9955653289154918, 0.8296141946465837, 0.9868416941459804, 0.9372353316761797, 0.9722682470944133, 0.9277491366176319, 0.981649779679102, 0.9656185083630842, 0.9738846638573058, 0.9687079981391149, 0.994167015777054, 0.9588412587169346, 0.9941850236541065, 0.9956271259242557, 0.9631507421643567, 0.9262317003981158, 0.9762625303304271, 0.9743516908395273, 0.974004863227709, 0.978145653737008, 0.9697443719897771, 0.9425971939264353, 0.9722851513183879, 0.9815647915557206, 0.9292168110875484, 0.9673328182410166, 0.9885410168312206, 0.9781049050155941, 0.9975020809252535, 0.954507111664675, 0.9855149856296671, 0.9954886942544019, 0.9826031190786795, 0.949485215576023, 0.9870228038964693, 0.9877632338060301, 0.9112613186483174], \"Term\": [\"\\u0430\\u0439\\u0444\\u043e\\u043d\", \"\\u0430\\u0445\\u0430\\u0445\", \"\\u0431\\u043b\\u0438\\u043d\", \"\\u0431\\u043e\\u0439\", \"\\u0431\\u043e\\u043b\\u044c\\u043d\\u043e\", \"\\u0431\\u043e\\u043b\\u044c\\u0448\\u0438\\u0439\", \"\\u0431\\u043e\\u043b\\u044c\\u0448\\u043e\\u0439\", \"\\u0431\\u043e\\u044f\\u0442\\u044c\\u0441\\u044f\", \"\\u0431\\u0440\\u0430\\u0442\\u044c\", \"\\u0432\\u0430\\u0436\\u043d\\u044b\\u0439\", \"\\u0432\\u0435\\u0440\\u0438\\u0442\\u044c\", \"\\u0432\\u0435\\u0440\\u043d\\u0443\\u0442\\u044c\\u0441\\u044f\", \"\\u0432\\u0435\\u0447\\u0435\\u0440\", \"\\u0432\\u0437\\u044f\\u0442\\u044c\", \"\\u0432\\u0438\\u0434\\u0438\\u043c\\u043e\", \"\\u0432\\u043c\\u0435\\u0441\\u0442\\u0435\", \"\\u0432\\u043e\\u043e\\u0431\\u0449\\u0435\", \"\\u0432\\u0440\\u0435\\u043c\\u044f\", \"\\u0432\\u0442\\u043e\\u0440\\u043e\\u0439\", \"\\u0432\\u0447\\u0435\\u0440\\u0430\", \"\\u0432\\u0447\\u0435\\u0440\\u0430\\u0448\\u043d\\u0438\\u0439\", \"\\u0432\\u044b\\u0439\\u0442\\u0438\", \"\\u0433\\u043b\\u0430\\u0437\", \"\\u0433\\u043e\\u0432\\u043e\\u0440\\u0438\\u0442\\u044c\", \"\\u0433\\u043e\\u0434\", \"\\u0433\\u043e\\u043b\\u043e\\u0432\\u0430\", \"\\u0433\\u043e\\u0442\\u043e\\u0432\\u044b\\u0439\", \"\\u0434\\u0430\\u0432\\u0430\\u0442\\u044c\", \"\\u0434\\u0435\\u043b\\u0430\\u0442\\u044c\", \"\\u0434\\u0435\\u043d\\u044c\", \"\\u0434\\u043e\\u0431\\u0440\\u044b\\u0439\", \"\\u0434\\u043e\\u043c\\u043e\\u0439\", \"\\u0434\\u0443\\u043c\\u0430\\u0442\\u044c\", \"\\u0435\\u0433\\u0434\\u0430\", \"\\u0435\\u043b\\u0435\", \"\\u0435\\u0445\\u0430\\u0442\\u044c\", \"\\u0437\\u0430\\u0431\\u044b\\u0442\\u044c\", \"\\u0437\\u0430\\u0432\\u0442\\u0440\\u0430\", \"\\u0437\\u043d\\u0430\\u0442\\u044c\", \"\\u0437\\u0440\\u044f\", \"\\u0438\\u0431\\u043e\", \"\\u0438\\u0434\\u0442\\u0438\", \"\\u0438\\u043d\\u0442\\u0435\\u0440\\u043d\\u0435\\u0442\", \"\\u043a\\u0430\\u0436\\u0434\\u044b\\u0439\", \"\\u043a\\u043e\\u043d\\u0435\\u0446\", \"\\u043a\\u043e\\u0442\\u043e\\u0440\\u044b\\u0439\", \"\\u043a\\u0440\\u0443\\u0442\\u043e\\u0439\", \"\\u043b\\u0435\\u0442\\u043e\", \"\\u043b\\u044e\\u0431\\u0438\\u0442\\u044c\", \"\\u043b\\u044e\\u0431\\u043e\\u0432\\u044c\", \"\\u043c\\u0430\\u0433\\u0430\\u0437\\u0438\\u043d\", \"\\u043c\\u0430\\u043c\\u0430\", \"\\u043c\\u0430\\u0448\\u0438\\u043d\\u0430\", \"\\u043c\\u0435\\u0441\\u0442\\u043e\", \"\\u043c\\u0435\\u0441\\u044f\\u0446\", \"\\u043c\\u043e\\u0447\\u044c\", \"\\u043c\\u0443\\u0436\", \"\\u043d\\u0430\\u0437\\u0430\\u0434\", \"\\u043d\\u0430\\u0439\\u0442\\u0438\", \"\\u043d\\u0430\\u043f\\u0438\\u0441\\u0430\\u0442\\u044c\", \"\\u043d\\u0430\\u0441\\u0442\\u0440\\u043e\\u0435\\u043d\\u0438\\u0435\", \"\\u043d\\u0435\\u0434\\u0435\\u043b\\u044f\", \"\\u043d\\u0435\\u043c\\u043d\\u043e\\u0433\\u043e\", \"\\u043d\\u0438\\u0431\\u044b\\u0442\\u044c\", \"\\u043d\\u0438\\u043a\\u0430\\u043a\\u043e\\u0439\", \"\\u043d\\u043e\\u0440\\u043c\\u0430\", \"\\u043d\\u043e\\u0447\\u044c\", \"\\u043d\\u0440\\u0430\\u0432\\u0438\\u0442\\u044c\\u0441\\u044f\", \"\\u043d\\u0443\\u0436\\u043d\\u043e\", \"\\u043e\\u0431\\u043e\\u0436\\u0430\\u0442\\u044c\", \"\\u043e\\u0442\\u043a\\u0443\\u0434\\u0430\", \"\\u043e\\u0447\\u0435\\u043d\\u044c\", \"\\u043f\\u0435\\u0441\\u043d\\u044f\", \"\\u043f\\u0438\\u0441\\u0430\\u0442\\u044c\", \"\\u043f\\u043b\\u0430\\u043a\\u0430\\u0442\\u044c\", \"\\u043f\\u043e\\u0434\\u0430\\u0440\\u043e\\u043a\", \"\\u043f\\u043e\\u0434\\u0443\\u043c\\u0430\\u0442\\u044c\", \"\\u043f\\u043e\\u0435\\u0445\\u0430\\u0442\\u044c\", \"\\u043f\\u043e\\u0436\\u0430\\u043b\\u0443\\u0439\\u0441\\u0442\\u0430\", \"\\u043f\\u043e\\u043a\\u0430\", \"\\u043f\\u043e\\u043b\\u0443\\u0447\\u0438\\u0442\\u044c\", \"\\u043f\\u043e\\u043c\\u043d\\u0438\\u0442\\u044c\", \"\\u043f\\u043e\\u043d\\u0438\\u043c\\u0430\\u0442\\u044c\", \"\\u043f\\u043e\\u043e\\u0431\\u0449\\u0430\\u0442\\u044c\\u0441\\u044f\", \"\\u043f\\u043e\\u0442\\u0435\\u0440\\u044f\\u0442\\u044c\", \"\\u043f\\u043e\\u0445\\u043e\\u0434\", \"\\u043f\\u043e\\u0447\\u0435\\u043c\\u0443\", \"\\u043f\\u0440\\u0435\\u0434\\u043b\\u0430\\u0433\\u0430\\u0442\\u044c\", \"\\u043f\\u0440\\u043e\\u0441\\u0442\\u043e\", \"\\u043f\\u0443\\u0441\\u0442\\u043e\\u0439\", \"\\u0440\\u0430\\u0431\\u043e\\u0442\\u0430\", \"\\u0440\\u0430\\u0434\\u043e\\u0441\\u0442\\u044c\", \"\\u0440\\u0435\\u0448\\u0438\\u0442\\u044c\", \"\\u0440\\u043e\\u0434\\u0438\\u0442\\u0435\\u043b\\u044c\", \"\\u0440\\u043e\\u0436\\u0434\\u0435\\u043d\\u0438\\u0435\", \"\\u0440\\u0443\\u043a\\u0430\", \"\\u0440\\u0443\\u0441\\u0441\\u043a\\u0438\\u0439\", \"\\u0440\\u044f\\u0434\\u043e\\u043c\", \"\\u0441\\u0432\\u043e\\u0439\", \"\\u0441\\u0434\\u0430\\u0442\\u044c\", \"\\u0441\\u0434\\u0435\\u043b\\u0430\\u0442\\u044c\", \"\\u0441\\u0435\\u0433\\u043e\\u0434\\u043d\\u044f\", \"\\u0441\\u0438\\u0442\\u0443\\u0430\\u0446\\u0438\\u044f\", \"\\u0441\\u043a\\u0438\\u043d\\u0443\\u0442\\u044c\", \"\\u0441\\u043a\\u043e\\u043b\\u044c\\u043a\\u043e\", \"\\u0441\\u043a\\u0443\\u0447\\u043d\\u043e\", \"\\u0441\\u043b\\u0443\\u0447\\u0430\\u0439\", \"\\u0441\\u0440\\u0430\\u0437\\u0443\", \"\\u0441\\u0442\\u043e\\u0438\\u0442\\u044c\", \"\\u0441\\u0442\\u043e\\u043b\\u044c\\u043a\\u043e\", \"\\u0441\\u0447\\u0430\\u0441\\u0442\\u0438\\u0435\", \"\\u0442\\u0443\\u0434\\u0430\", \"\\u0442\\u044f\\u0436\\u0451\\u043b\\u044b\\u0439\", \"\\u0443\\u0439\\u0442\\u0438\", \"\\u0443\\u0442\\u0440\\u043e\", \"\\u0443\\u0447\\u0438\\u0442\\u044c\", \"\\u0445\\u043e\\u0442\\u0435\\u0442\\u044c\", \"\\u0447\\u0430\\u0439\", \"\\u0447\\u0430\\u0441\", \"\\u0447\\u0435\\u043b\\u043e\\u0432\\u0435\\u043a\", \"\\u0447\\u0438\\u0442\\u0430\\u0442\\u044c\", \"\\u0447\\u0443\\u0432\\u0430\\u043a\", \"\\u0448\\u043a\\u043e\\u043b\\u0430\", \"\\u044d\\u0442\\u043e\", \"\\u044f\\u0437\\u044b\\u043a\"]}, \"R\": 30, \"lambda.step\": 0.01, \"plot.opts\": {\"xlab\": \"PC1\", \"ylab\": \"PC2\"}, \"topic.order\": [17, 9, 12, 16, 13, 20, 8, 15, 7, 19, 3, 14, 1, 10, 5, 11, 6, 2, 18, 4]};\n",
       "\n",
       "function LDAvis_load_lib(url, callback){\n",
       "  var s = document.createElement('script');\n",
       "  s.src = url;\n",
       "  s.async = true;\n",
       "  s.onreadystatechange = s.onload = callback;\n",
       "  s.onerror = function(){console.warn(\"failed to load library \" + url);};\n",
       "  document.getElementsByTagName(\"head\")[0].appendChild(s);\n",
       "}\n",
       "\n",
       "if(typeof(LDAvis) !== \"undefined\"){\n",
       "   // already loaded: just create the visualization\n",
       "   !function(LDAvis){\n",
       "       new LDAvis(\"#\" + \"ldavis_el1762416353602252005107225487\", ldavis_el1762416353602252005107225487_data);\n",
       "   }(LDAvis);\n",
       "}else if(typeof define === \"function\" && define.amd){\n",
       "   // require.js is available: use it to load d3/LDAvis\n",
       "   require.config({paths: {d3: \"https://d3js.org/d3.v5\"}});\n",
       "   require([\"d3\"], function(d3){\n",
       "      window.d3 = d3;\n",
       "      LDAvis_load_lib(\"https://cdn.jsdelivr.net/gh/bmabey/pyLDAvis@3.3.1/pyLDAvis/js/ldavis.v3.0.0.js\", function(){\n",
       "        new LDAvis(\"#\" + \"ldavis_el1762416353602252005107225487\", ldavis_el1762416353602252005107225487_data);\n",
       "      });\n",
       "    });\n",
       "}else{\n",
       "    // require.js not available: dynamically load d3 & LDAvis\n",
       "    LDAvis_load_lib(\"https://d3js.org/d3.v5.js\", function(){\n",
       "         LDAvis_load_lib(\"https://cdn.jsdelivr.net/gh/bmabey/pyLDAvis@3.3.1/pyLDAvis/js/ldavis.v3.0.0.js\", function(){\n",
       "                 new LDAvis(\"#\" + \"ldavis_el1762416353602252005107225487\", ldavis_el1762416353602252005107225487_data);\n",
       "            })\n",
       "         });\n",
       "}\n",
       "</script>"
      ],
      "text/plain": [
       "<IPython.core.display.HTML object>"
      ]
     },
     "execution_count": 16,
     "metadata": {},
     "output_type": "execute_result"
    }
   ],
   "source": [
    "vis_data = gensimvis.prepare(lda, corpus, dictionary, mds='mmds')\n",
    "pyLDAvis.display(vis_data)"
   ]
  },
  {
   "cell_type": "markdown",
   "metadata": {},
   "source": [
    "#### Интерпретируем получившиеся тематики"
   ]
  },
  {
   "cell_type": "markdown",
   "metadata": {},
   "source": [
    "#### Тема 1\n",
    "Ключевае слова: мочь, сделать, неделя, ситуация\n",
    "\n",
    "Тема - работа\n",
    "\n",
    "#### Тема 2\n",
    "Ключевае слова: сегодня, настроение, вечер, любовь\n",
    "\n",
    "Тема - досуг, развлечения\n",
    "\n",
    "#### Тема 3\n",
    "Ключевае слова: свой, любить, нравиться, плакать\n",
    "\n",
    "Тема - отношения, любовь\n",
    "\n",
    "И т.д."
   ]
  },
  {
   "cell_type": "code",
   "execution_count": null,
   "metadata": {},
   "outputs": [],
   "source": []
  }
 ],
 "metadata": {
  "colab": {
   "collapsed_sections": [
    "oy0GNiJ4jbWZ"
   ],
   "name": "topic_modeling.ipynb",
   "provenance": [],
   "toc_visible": true
  },
  "kernelspec": {
   "display_name": "Python 3 (ipykernel)",
   "language": "python",
   "name": "python3"
  },
  "language_info": {
   "codemirror_mode": {
    "name": "ipython",
    "version": 3
   },
   "file_extension": ".py",
   "mimetype": "text/x-python",
   "name": "python",
   "nbconvert_exporter": "python",
   "pygments_lexer": "ipython3",
   "version": "3.8.5"
  },
  "widgets": {
   "application/vnd.jupyter.widget-state+json": {
    "15bf3aeff54047258371a0d0e2babf7c": {
     "model_module": "@jupyter-widgets/base",
     "model_name": "LayoutModel",
     "state": {
      "_model_module": "@jupyter-widgets/base",
      "_model_module_version": "1.2.0",
      "_model_name": "LayoutModel",
      "_view_count": null,
      "_view_module": "@jupyter-widgets/base",
      "_view_module_version": "1.2.0",
      "_view_name": "LayoutView",
      "align_content": null,
      "align_items": null,
      "align_self": null,
      "border": null,
      "bottom": null,
      "display": null,
      "flex": null,
      "flex_flow": null,
      "grid_area": null,
      "grid_auto_columns": null,
      "grid_auto_flow": null,
      "grid_auto_rows": null,
      "grid_column": null,
      "grid_gap": null,
      "grid_row": null,
      "grid_template_areas": null,
      "grid_template_columns": null,
      "grid_template_rows": null,
      "height": null,
      "justify_content": null,
      "justify_items": null,
      "left": null,
      "margin": null,
      "max_height": null,
      "max_width": null,
      "min_height": null,
      "min_width": null,
      "object_fit": null,
      "object_position": null,
      "order": null,
      "overflow": null,
      "overflow_x": null,
      "overflow_y": null,
      "padding": null,
      "right": null,
      "top": null,
      "visibility": null,
      "width": null
     }
    },
    "1847c95665e7477fb1cfe4f9c7b68188": {
     "model_module": "@jupyter-widgets/controls",
     "model_name": "HTMLModel",
     "state": {
      "_dom_classes": [],
      "_model_module": "@jupyter-widgets/controls",
      "_model_module_version": "1.5.0",
      "_model_name": "HTMLModel",
      "_view_count": null,
      "_view_module": "@jupyter-widgets/controls",
      "_view_module_version": "1.5.0",
      "_view_name": "HTMLView",
      "description": "",
      "description_tooltip": null,
      "layout": "IPY_MODEL_d1bf7879e95f4fb3855744e017528cf8",
      "placeholder": "​",
      "style": "IPY_MODEL_2e658cc97cf04cf098b56f2cc61f1311",
      "value": " 5/5 [03:04&lt;00:00, 36.81s/it]"
     }
    },
    "2e658cc97cf04cf098b56f2cc61f1311": {
     "model_module": "@jupyter-widgets/controls",
     "model_name": "DescriptionStyleModel",
     "state": {
      "_model_module": "@jupyter-widgets/controls",
      "_model_module_version": "1.5.0",
      "_model_name": "DescriptionStyleModel",
      "_view_count": null,
      "_view_module": "@jupyter-widgets/base",
      "_view_module_version": "1.2.0",
      "_view_name": "StyleView",
      "description_width": ""
     }
    },
    "32891e0e6ed5423cbe9b35b9712411d5": {
     "model_module": "@jupyter-widgets/controls",
     "model_name": "ProgressStyleModel",
     "state": {
      "_model_module": "@jupyter-widgets/controls",
      "_model_module_version": "1.5.0",
      "_model_name": "ProgressStyleModel",
      "_view_count": null,
      "_view_module": "@jupyter-widgets/base",
      "_view_module_version": "1.2.0",
      "_view_name": "StyleView",
      "bar_color": null,
      "description_width": "initial"
     }
    },
    "351af6e9d11547b78d9e4b8d26060264": {
     "model_module": "@jupyter-widgets/controls",
     "model_name": "ProgressStyleModel",
     "state": {
      "_model_module": "@jupyter-widgets/controls",
      "_model_module_version": "1.5.0",
      "_model_name": "ProgressStyleModel",
      "_view_count": null,
      "_view_module": "@jupyter-widgets/base",
      "_view_module_version": "1.2.0",
      "_view_name": "StyleView",
      "bar_color": null,
      "description_width": "initial"
     }
    },
    "4161c2a28c2e4d53993e0c60232ba619": {
     "model_module": "@jupyter-widgets/controls",
     "model_name": "HTMLModel",
     "state": {
      "_dom_classes": [],
      "_model_module": "@jupyter-widgets/controls",
      "_model_module_version": "1.5.0",
      "_model_name": "HTMLModel",
      "_view_count": null,
      "_view_module": "@jupyter-widgets/controls",
      "_view_module_version": "1.5.0",
      "_view_name": "HTMLView",
      "description": "",
      "description_tooltip": null,
      "layout": "IPY_MODEL_b4e7967843e94cae8c4a8d0cc8d41ce3",
      "placeholder": "​",
      "style": "IPY_MODEL_7695232c7bb54bc2b9b679c127b2706e",
      "value": " 10000/10000 [25:35&lt;00:00,  6.51it/s]"
     }
    },
    "7695232c7bb54bc2b9b679c127b2706e": {
     "model_module": "@jupyter-widgets/controls",
     "model_name": "DescriptionStyleModel",
     "state": {
      "_model_module": "@jupyter-widgets/controls",
      "_model_module_version": "1.5.0",
      "_model_name": "DescriptionStyleModel",
      "_view_count": null,
      "_view_module": "@jupyter-widgets/base",
      "_view_module_version": "1.2.0",
      "_view_name": "StyleView",
      "description_width": ""
     }
    },
    "85065c1565e34dcf949fe1b000cae741": {
     "model_module": "@jupyter-widgets/controls",
     "model_name": "FloatProgressModel",
     "state": {
      "_dom_classes": [],
      "_model_module": "@jupyter-widgets/controls",
      "_model_module_version": "1.5.0",
      "_model_name": "FloatProgressModel",
      "_view_count": null,
      "_view_module": "@jupyter-widgets/controls",
      "_view_module_version": "1.5.0",
      "_view_name": "ProgressView",
      "bar_style": "success",
      "description": "100%",
      "description_tooltip": null,
      "layout": "IPY_MODEL_15bf3aeff54047258371a0d0e2babf7c",
      "max": 10000,
      "min": 0,
      "orientation": "horizontal",
      "style": "IPY_MODEL_32891e0e6ed5423cbe9b35b9712411d5",
      "value": 10000
     }
    },
    "a01dad28f9a141f9aea1f4eb0c1dd1ab": {
     "model_module": "@jupyter-widgets/base",
     "model_name": "LayoutModel",
     "state": {
      "_model_module": "@jupyter-widgets/base",
      "_model_module_version": "1.2.0",
      "_model_name": "LayoutModel",
      "_view_count": null,
      "_view_module": "@jupyter-widgets/base",
      "_view_module_version": "1.2.0",
      "_view_name": "LayoutView",
      "align_content": null,
      "align_items": null,
      "align_self": null,
      "border": null,
      "bottom": null,
      "display": null,
      "flex": null,
      "flex_flow": null,
      "grid_area": null,
      "grid_auto_columns": null,
      "grid_auto_flow": null,
      "grid_auto_rows": null,
      "grid_column": null,
      "grid_gap": null,
      "grid_row": null,
      "grid_template_areas": null,
      "grid_template_columns": null,
      "grid_template_rows": null,
      "height": null,
      "justify_content": null,
      "justify_items": null,
      "left": null,
      "margin": null,
      "max_height": null,
      "max_width": null,
      "min_height": null,
      "min_width": null,
      "object_fit": null,
      "object_position": null,
      "order": null,
      "overflow": null,
      "overflow_x": null,
      "overflow_y": null,
      "padding": null,
      "right": null,
      "top": null,
      "visibility": null,
      "width": null
     }
    },
    "b4e7967843e94cae8c4a8d0cc8d41ce3": {
     "model_module": "@jupyter-widgets/base",
     "model_name": "LayoutModel",
     "state": {
      "_model_module": "@jupyter-widgets/base",
      "_model_module_version": "1.2.0",
      "_model_name": "LayoutModel",
      "_view_count": null,
      "_view_module": "@jupyter-widgets/base",
      "_view_module_version": "1.2.0",
      "_view_name": "LayoutView",
      "align_content": null,
      "align_items": null,
      "align_self": null,
      "border": null,
      "bottom": null,
      "display": null,
      "flex": null,
      "flex_flow": null,
      "grid_area": null,
      "grid_auto_columns": null,
      "grid_auto_flow": null,
      "grid_auto_rows": null,
      "grid_column": null,
      "grid_gap": null,
      "grid_row": null,
      "grid_template_areas": null,
      "grid_template_columns": null,
      "grid_template_rows": null,
      "height": null,
      "justify_content": null,
      "justify_items": null,
      "left": null,
      "margin": null,
      "max_height": null,
      "max_width": null,
      "min_height": null,
      "min_width": null,
      "object_fit": null,
      "object_position": null,
      "order": null,
      "overflow": null,
      "overflow_x": null,
      "overflow_y": null,
      "padding": null,
      "right": null,
      "top": null,
      "visibility": null,
      "width": null
     }
    },
    "c5db15f805134b869887817835f301b1": {
     "model_module": "@jupyter-widgets/controls",
     "model_name": "HBoxModel",
     "state": {
      "_dom_classes": [],
      "_model_module": "@jupyter-widgets/controls",
      "_model_module_version": "1.5.0",
      "_model_name": "HBoxModel",
      "_view_count": null,
      "_view_module": "@jupyter-widgets/controls",
      "_view_module_version": "1.5.0",
      "_view_name": "HBoxView",
      "box_style": "",
      "children": [
       "IPY_MODEL_85065c1565e34dcf949fe1b000cae741",
       "IPY_MODEL_4161c2a28c2e4d53993e0c60232ba619"
      ],
      "layout": "IPY_MODEL_c6ad8e27121c4f909e74ec993281570d"
     }
    },
    "c6ad8e27121c4f909e74ec993281570d": {
     "model_module": "@jupyter-widgets/base",
     "model_name": "LayoutModel",
     "state": {
      "_model_module": "@jupyter-widgets/base",
      "_model_module_version": "1.2.0",
      "_model_name": "LayoutModel",
      "_view_count": null,
      "_view_module": "@jupyter-widgets/base",
      "_view_module_version": "1.2.0",
      "_view_name": "LayoutView",
      "align_content": null,
      "align_items": null,
      "align_self": null,
      "border": null,
      "bottom": null,
      "display": null,
      "flex": null,
      "flex_flow": null,
      "grid_area": null,
      "grid_auto_columns": null,
      "grid_auto_flow": null,
      "grid_auto_rows": null,
      "grid_column": null,
      "grid_gap": null,
      "grid_row": null,
      "grid_template_areas": null,
      "grid_template_columns": null,
      "grid_template_rows": null,
      "height": null,
      "justify_content": null,
      "justify_items": null,
      "left": null,
      "margin": null,
      "max_height": null,
      "max_width": null,
      "min_height": null,
      "min_width": null,
      "object_fit": null,
      "object_position": null,
      "order": null,
      "overflow": null,
      "overflow_x": null,
      "overflow_y": null,
      "padding": null,
      "right": null,
      "top": null,
      "visibility": null,
      "width": null
     }
    },
    "cbb8bf6d4f4d4d67b07184732996de9c": {
     "model_module": "@jupyter-widgets/controls",
     "model_name": "HBoxModel",
     "state": {
      "_dom_classes": [],
      "_model_module": "@jupyter-widgets/controls",
      "_model_module_version": "1.5.0",
      "_model_name": "HBoxModel",
      "_view_count": null,
      "_view_module": "@jupyter-widgets/controls",
      "_view_module_version": "1.5.0",
      "_view_name": "HBoxView",
      "box_style": "",
      "children": [
       "IPY_MODEL_f585a45cc1664ec1baa521f873a27532",
       "IPY_MODEL_1847c95665e7477fb1cfe4f9c7b68188"
      ],
      "layout": "IPY_MODEL_a01dad28f9a141f9aea1f4eb0c1dd1ab"
     }
    },
    "cc231a00b547499293dd22cc06134cef": {
     "model_module": "@jupyter-widgets/base",
     "model_name": "LayoutModel",
     "state": {
      "_model_module": "@jupyter-widgets/base",
      "_model_module_version": "1.2.0",
      "_model_name": "LayoutModel",
      "_view_count": null,
      "_view_module": "@jupyter-widgets/base",
      "_view_module_version": "1.2.0",
      "_view_name": "LayoutView",
      "align_content": null,
      "align_items": null,
      "align_self": null,
      "border": null,
      "bottom": null,
      "display": null,
      "flex": null,
      "flex_flow": null,
      "grid_area": null,
      "grid_auto_columns": null,
      "grid_auto_flow": null,
      "grid_auto_rows": null,
      "grid_column": null,
      "grid_gap": null,
      "grid_row": null,
      "grid_template_areas": null,
      "grid_template_columns": null,
      "grid_template_rows": null,
      "height": null,
      "justify_content": null,
      "justify_items": null,
      "left": null,
      "margin": null,
      "max_height": null,
      "max_width": null,
      "min_height": null,
      "min_width": null,
      "object_fit": null,
      "object_position": null,
      "order": null,
      "overflow": null,
      "overflow_x": null,
      "overflow_y": null,
      "padding": null,
      "right": null,
      "top": null,
      "visibility": null,
      "width": null
     }
    },
    "d1bf7879e95f4fb3855744e017528cf8": {
     "model_module": "@jupyter-widgets/base",
     "model_name": "LayoutModel",
     "state": {
      "_model_module": "@jupyter-widgets/base",
      "_model_module_version": "1.2.0",
      "_model_name": "LayoutModel",
      "_view_count": null,
      "_view_module": "@jupyter-widgets/base",
      "_view_module_version": "1.2.0",
      "_view_name": "LayoutView",
      "align_content": null,
      "align_items": null,
      "align_self": null,
      "border": null,
      "bottom": null,
      "display": null,
      "flex": null,
      "flex_flow": null,
      "grid_area": null,
      "grid_auto_columns": null,
      "grid_auto_flow": null,
      "grid_auto_rows": null,
      "grid_column": null,
      "grid_gap": null,
      "grid_row": null,
      "grid_template_areas": null,
      "grid_template_columns": null,
      "grid_template_rows": null,
      "height": null,
      "justify_content": null,
      "justify_items": null,
      "left": null,
      "margin": null,
      "max_height": null,
      "max_width": null,
      "min_height": null,
      "min_width": null,
      "object_fit": null,
      "object_position": null,
      "order": null,
      "overflow": null,
      "overflow_x": null,
      "overflow_y": null,
      "padding": null,
      "right": null,
      "top": null,
      "visibility": null,
      "width": null
     }
    },
    "f585a45cc1664ec1baa521f873a27532": {
     "model_module": "@jupyter-widgets/controls",
     "model_name": "FloatProgressModel",
     "state": {
      "_dom_classes": [],
      "_model_module": "@jupyter-widgets/controls",
      "_model_module_version": "1.5.0",
      "_model_name": "FloatProgressModel",
      "_view_count": null,
      "_view_module": "@jupyter-widgets/controls",
      "_view_module_version": "1.5.0",
      "_view_name": "ProgressView",
      "bar_style": "success",
      "description": "100%",
      "description_tooltip": null,
      "layout": "IPY_MODEL_cc231a00b547499293dd22cc06134cef",
      "max": 5,
      "min": 0,
      "orientation": "horizontal",
      "style": "IPY_MODEL_351af6e9d11547b78d9e4b8d26060264",
      "value": 5
     }
    }
   }
  }
 },
 "nbformat": 4,
 "nbformat_minor": 1
}
